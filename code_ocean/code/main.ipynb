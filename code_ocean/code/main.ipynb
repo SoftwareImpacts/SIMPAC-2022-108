{
 "cells": [
  {
   "cell_type": "markdown",
   "metadata": {},
   "source": [
    "# Comorbidity and multimorbidity prediction of major chronic diseases using machine learning and network analytics"
   ]
  },
  {
   "cell_type": "markdown",
   "metadata": {},
   "source": [
    "### Affiliation details\n",
    "\n",
    "Dr Shahadat Uddin (Corresponding author)\n",
    "Senior lecturer, School of Project Management\n",
    "Faculty of Engineering, The University of Sydney, Australia,  \n",
    "Level 2, 21 Ross Street, Forest Lodge, NSW 2037\n",
    "Email: shahadat.uddin@sydney.edu.au\n",
    "\n",
    "Mr Shangzhou Wang\n",
    "School of Project Management\n",
    "Faculty of Engineering, The University of Sydney, Australia,  \n",
    "Level 2, 21 Ross Street, Forest Lodge, NSW 2037\n",
    "Email: Steven.Wang1@iqvia.com\n",
    "\n",
    "Mr Haohui Lu\n",
    "School of Project Management\n",
    "Faculty of Engineering, The University of Sydney, Australia,  \n",
    "Level 2, 21 Ross Street, Forest Lodge, NSW 2037\n",
    "Email: haohui.lu@sydney.edu.au\n",
    "\n",
    "Dr Arif Khan\n",
    "School of Project Management\n",
    "Faculty of Engineering, The University of Sydney, Australia,  \n",
    "Level 2, 21 Ross Street, Forest Lodge, NSW 2037\n",
    "Email: arif.khan@sydney.edu.au\n",
    "\n",
    "Dr Farshid Hajati\n",
    "College of Engineering and Science, Victoria University Sydney, Australia\n",
    "160 Sussex Street, Sydney, NSW 2000\n",
    "Email: farshid.hajati@vu.edu.au\n",
    "\n",
    "Dr Matloob Khushi\n",
    "School of EAST, University of Suffolk, Ipswich, UK.\n",
    "School of Computer Science, Faculty of Engineering, The University of Sydney, Australia\n",
    "Email: matloob.khushi@sydney.edu.au\n"
   ]
  },
  {
   "cell_type": "markdown",
   "metadata": {},
   "source": [
    "### Abstract\n",
    "\n",
    "The prevalence of chronic disease comorbidity and multimorbidity is a significant health issue worldwide. In many cases, for individuals, the occurrence of one chronic disease leads to the development of one or more other chronic conditions. This exerts a significant burden on healthcare systems globally. Disease comorbidity is defined as the simultaneous occurrence of more than one disease. And a person having more than two comorbidities is referred to as multimorbid. This study followed a machine learning and network analytics-based approach to predict major chronic disease comorbidity and multimorbidity. In doing so, this study first extracted patient networks from the research dataset. In such networks, nodes represent patients and edges between two nodes indicate that the underlying two patients had at least one common disease. This study also considered other relevant features from patients’ health trajectories. Out of the five machine learning models considered in this study (Logistic regression, k-nearest neighbours, Naïve Bayes, Random Forest and Extreme Gradient Boosting) and two deep learning models (Multilayer perceptrons and Convolutional neural networks), Extreme Gradient Boosting showed the highest accuracy (95.04%), followed by the Random Forest (93.94%). The attribute of the number of episodes from the patient trajectory had been found as the most important feature, followed by the patient network attribute of transitivity. Other relevant results (feature correlation, variable clustering, confusion matrix and kernel density estimation) were also reported and discussed. The findings and insights of this study can help healthcare stakeholders and policymakers mitigate the negative impact of disease comorbidity and multimorbidity."
   ]
  },
  {
   "cell_type": "markdown",
   "metadata": {},
   "source": [
    "## 1 Load package and dataset"
   ]
  },
  {
   "cell_type": "code",
   "execution_count": 1,
   "metadata": {},
   "outputs": [],
   "source": [
    "import numpy as np\n",
    "import pandas as pd\n",
    "from sklearn.model_selection import train_test_split\n",
    "from sklearn.linear_model import LogisticRegression\n",
    "from sklearn.multiclass import OneVsRestClassifier\n",
    "from sklearn.pipeline import Pipeline\n",
    "from sklearn.decomposition import PCA\n",
    "from sklearn.model_selection import GridSearchCV\n",
    "import timeit\n",
    "from sklearn.preprocessing import StandardScaler\n",
    "from sklearn.neighbors import KNeighborsClassifier\n",
    "from sklearn.naive_bayes import GaussianNB\n",
    "from sklearn.ensemble import RandomForestClassifier\n",
    "import xgboost as xgb\n",
    "\n",
    "import pickle\n",
    "\n",
    "from sklearn.metrics import confusion_matrix\n",
    "from sklearn.metrics import classification_report\n",
    "from sklearn.metrics import recall_score, precision_score, f1_score, accuracy_score, roc_auc_score, make_scorer\n",
    "from sklearn.model_selection import cross_val_score\n",
    "\n"
   ]
  },
  {
   "cell_type": "code",
   "execution_count": 2,
   "metadata": {},
   "outputs": [],
   "source": [
    "import os\n",
    "import glob2\n",
    "import datetime\n",
    "import numpy as np\n",
    "import pandas as pd\n",
    "import time\n",
    "import warnings\n",
    "import matplotlib.pyplot as plt\n",
    "from matplotlib import gridspec\n",
    "from mpl_toolkits.axes_grid1 import make_axes_locatable\n",
    "from sklearn.model_selection import KFold\n",
    "from numpy import mean\n",
    "from numpy import std\n",
    "\n",
    "warnings.filterwarnings(\"ignore\")\n",
    "\n",
    "\n",
    "\n",
    "## set trading label\n",
    "\n",
    "def index_to_label(label_ind):\n",
    "    \n",
    "    trading_index_dict = dict({0: 'No CD', 1: '1 CD', 2: '>=2 CDs'})\n",
    "    trading_label = [trading_index_dict[l] for l in label_ind]\n",
    "\n",
    "    return trading_label\n",
    "\n",
    "def label_to_index(label_vec):\n",
    "    \n",
    "    trading_label_dict = dict({\"No CD\":0, \"1 CD\":1, \">= CDs\":2})\n",
    "    \n",
    "    trading_ind = [trading_label_dict[l] for l in label_vec]\n",
    "    \n",
    "    return trading_ind\n",
    "\n",
    "\n",
    "\n",
    "def plot_confusion_matrix(CM, labels, title, image_name = None, fig_size = (6, 6)):\n",
    "    \n",
    "    ## shorten the label for plotting purpose\n",
    "    label = [l for l in labels]\n",
    "    norm_CM = []\n",
    "    for i in CM:\n",
    "        a = 0\n",
    "        norm_row = []\n",
    "        a = sum(i, 0)\n",
    "        for j in i:\n",
    "            if a > 0:\n",
    "                norm_row.append(float(j)/float(a))\n",
    "            else:\n",
    "                norm_row.append(0)\n",
    "        norm_CM.append(norm_row)\n",
    "    \n",
    "    fig = plt.figure(figsize = fig_size)\n",
    "    \n",
    "\n",
    "    plt.clf()\n",
    "    plt.xticks(rotation=90)\n",
    "    ax = fig.add_subplot(111)\n",
    "    ax.set_aspect(1)\n",
    "    ax.set_xticks([i for i in range(len(label))])\n",
    "    ax.set_xticklabels(label)\n",
    "    ax.set_yticks([i for i in range(len(label))])\n",
    "    ax.set_yticklabels(label)\n",
    "    ax.set_ylabel('Actual', fontsize=14)\n",
    "    ax.set_xlabel('Predicted', fontsize=14)\n",
    "    #ax.set_title(title,fontdict={'fontsize':14})\n",
    "    res = ax.imshow(np.array(norm_CM), cmap=plt.cm.tab20, interpolation='nearest')\n",
    "\n",
    "    w, h = pd.DataFrame(CM).shape\n",
    "    \n",
    "    for x in range(w):\n",
    "        for y in range(h):\n",
    "            ax.annotate(str(int(CM[x][y])), \n",
    "                        xy=(y, x), \n",
    "                        color = 'w',\n",
    "                        size = \"large\",\n",
    "                        weight = \"bold\",\n",
    "                        horizontalalignment='center',\n",
    "                        verticalalignment='center')\n",
    "    divider = make_axes_locatable(ax)\n",
    "\n",
    "    plt.tight_layout()\n",
    "    if image_name is not None:\n",
    "        plt.savefig(image_name, dpi = 600)\n",
    "    else:\n",
    "        plt.show()\n",
    "        \n",
    "        \n",
    "        \n",
    "  "
   ]
  },
  {
   "cell_type": "code",
   "execution_count": 3,
   "metadata": {},
   "outputs": [],
   "source": [
    "import pandas as pd\n",
    "df = pd.read_csv(\"../data/patient.csv\", index_col = \"person_id\")\n"
   ]
  },
  {
   "cell_type": "markdown",
   "metadata": {},
   "source": [
    "## 2. Data Preprocessing"
   ]
  },
  {
   "cell_type": "code",
   "execution_count": 4,
   "metadata": {},
   "outputs": [
    {
     "data": {
      "text/plain": [
       "{1: 17973, 0: 5720, 2: 5587}"
      ]
     },
     "execution_count": 4,
     "metadata": {},
     "output_type": "execute_result"
    }
   ],
   "source": [
    "# get the number of year of a patient in the data. Which is the max  value of \n",
    "# two column series 'years_at_label_age', 'years_elapse_OT'\n",
    "# df['years_at_label'] = df[['years_at_label_age', 'years_elapse_OT']].max(axis = 1)\n",
    "# df = df.drop(['years_at_label_age', 'years_elapse_OT', 'concerned_chronic'], axis = 1)\n",
    "df['years_at_label'] = df[['years_service_at_label_age', 'years_elapse_other_chronic', 'years_elapse_other_Elixhauser']].max(axis = 1)\n",
    "df = df.drop(['years_service_at_label_age', 'years_elapse_other_chronic', 'concerned_chronic'], axis = 1)\n",
    "\n",
    "# df= df.drop([\"PHN_Code\":\"person_65_up\"], axis = 1)\n",
    "\n",
    "# df['years_elapse_EX'][df['years_elapse_EX'] > 0].reset_index()\n",
    "df.shape\n",
    "## generate a sampl e weights for the machine learning based on the years of patient in the system and number\n",
    "## of episodes have been diagnosed.\n",
    "\n",
    "year_epi_long = [ y > 1 and e > 1 for y, e in zip(df['years_at_label'], df['episode_num'])]\n",
    "## np.mean(year_epi_long)   ## 0.254542349726776\n",
    "weights = [1 if x == 1 else 0.5  for x in year_epi_long]\n",
    "\n",
    "\n",
    "\n",
    "X = df.drop(['concerned_chronic_num'], axis = 1)\n",
    "y = df['concerned_chronic_num']\n",
    "y_array = pd.get_dummies(y)\n",
    "\n",
    "dict(y.value_counts())"
   ]
  },
  {
   "cell_type": "code",
   "execution_count": 5,
   "metadata": {},
   "outputs": [],
   "source": [
    "X = X.rename(columns={\"years_at_label\":\"Years_at_label\",\"gender\": \"Gender\", \"age_at_label\": \"Age_at_label\", \"episode_num\" : \"Episode_num\", \"icd_code_num\" : \"Icd_code_num\",\"episode_num_Elixhauser\":\"Episode_num_Elixhauser\" ,\"episode_num_other_chronic\" :\"Episode_num_other_chronic\",\"icd_num_other_chronic\":\"Icd_num_other_chronic\",\"icd_num_Elixhauser\":\"Icd_num_Elixhauser\", \"icd_num_unique_other_chronic\":\"Icd_num_unique_other_chronic\",\"icd_num_unique_Elixhauser\":\"Icd_num_unique_Elixhauser\", \"icd_4chr_uniq_other_chronic\":\"Icd_4chr_uniq_other_chronic\",\"icd_4chr_uniq_other_Elixhauser\":\"Icd_4chr_uniq_other_Elixhauser\", \"icd_3chr_uniq_other_chronic\":\"Icd_3chr_uniq_other_chronic\",\"icd_3chr_uniq_other_Elixhauser\":\"Icd_3chr_uniq_other_Elixhauser\", \"years_elapse_other_Elixhauser\":\"Years_elapse_other_Elixhauser\"})"
   ]
  },
  {
   "cell_type": "code",
   "execution_count": 6,
   "metadata": {},
   "outputs": [],
   "source": [
    "## initilize the dataframe\n",
    "model_results_train = pd.DataFrame()\n",
    "model_results_test = pd.DataFrame()\n",
    "model_results_para = pd.DataFrame()\n",
    "\n",
    "prediction_results = pd.DataFrame()\n",
    "classify_report = pd.DataFrame()\n",
    "\n",
    "X_train, X_test, y_train, y_test = train_test_split(X, \n",
    "                                                    y, \n",
    "                                                    test_size = 0.2,\n",
    "                                                    random_state = 1234)\n",
    "\n",
    "weights = [1 if x == 1 else 0.5  for x in [ y > 1 and e > 1 for y, e in zip(X_train['Years_at_label'], X_train['Episode_num'])]]\n"
   ]
  },
  {
   "cell_type": "code",
   "execution_count": 7,
   "metadata": {},
   "outputs": [],
   "source": [
    "## get test data index\n",
    "y_test_index = X_test.index\n",
    "pred_index = y_test_index.to_numpy().reshape(-1,1)\n",
    "\n",
    "auc_score = make_scorer(roc_auc_score)"
   ]
  },
  {
   "cell_type": "markdown",
   "metadata": {},
   "source": [
    "## 3. Model"
   ]
  },
  {
   "cell_type": "markdown",
   "metadata": {},
   "source": [
    "## 3.1 Logistic Regression"
   ]
  },
  {
   "cell_type": "code",
   "execution_count": 8,
   "metadata": {},
   "outputs": [
    {
     "name": "stdout",
     "output_type": "stream",
     "text": [
      "Total run time for Multiclass Logistic Regresion with is:\n",
      "0.28 minutes.\n"
     ]
    }
   ],
   "source": [
    "# 1. running a logistic regression model with PCA\n",
    "## 1.1 build a pipeline\n",
    "pipe = Pipeline([\n",
    "    ('pca', PCA()),\n",
    "    (\"lr\", OneVsRestClassifier(LogisticRegression(penalty = \"l2\")))\n",
    "    ])\n",
    "### check available parameters: OneVsRestClassifier(LogisticRegression(penalty = \"l2\")).get_params().keys()\n",
    "\n",
    "## 1.2 create param for grid search\n",
    "param = dict(pca__n_components = [10, 25, 34],\n",
    "             lr__estimator__C = [1, 5, 10],\n",
    "             lr__estimator__max_iter = [100, 500, 1000])\n",
    "\n",
    "## 1.3 perform grid serach with cross validation\n",
    "gs = GridSearchCV(pipe, param_grid = param, scoring = auc_score)\n",
    "\n",
    "begin = timeit.default_timer()\n",
    "gs_result = gs.fit(X_train, y_train)\n",
    "end = timeit.default_timer()\n",
    "total_run_mins = (end - begin) / 60\n",
    "print(\"Total run time for Multiclass Logistic Regresion with is:\\n%.2f minutes.\" % total_run_mins)\n"
   ]
  },
  {
   "cell_type": "code",
   "execution_count": 9,
   "metadata": {},
   "outputs": [],
   "source": [
    "## 1.4 record the results\n",
    "model_name = \"LR\"\n",
    "#model_algorithm = \"Logistic Regression\"\n",
    "best_params = gs_result.best_params_\n",
    "param_str = \"LR_\" + str(best_params['lr__estimator__C']) + \"_\" +  str(best_params['lr__estimator__max_iter']) + \"_\" + str(best_params['pca__n_components'])\n",
    "#filename = \"model/Model_\" + model_name + \"_\" + param_str + '.pkl'\n",
    "best_model = gs_result.best_estimator_\n"
   ]
  },
  {
   "cell_type": "code",
   "execution_count": 10,
   "metadata": {},
   "outputs": [
    {
     "name": "stdout",
     "output_type": "stream",
     "text": [
      "Training Accuracy: 0.7077 (0.0069)\n"
     ]
    }
   ],
   "source": [
    "## training accuracy\n",
    "from sklearn.model_selection import cross_val_score\n",
    "clf = LogisticRegression(max_iter=100, C=1, random_state=42)\n",
    "scores = cross_val_score(clf, X_train, y_train, cv=5)\n",
    "scores_mean = mean(scores)\n",
    "scores_std = std(scores)\n",
    "print('Training Accuracy: %.4f (%.4f)' % (mean(scores), std(scores)))"
   ]
  },
  {
   "cell_type": "code",
   "execution_count": 11,
   "metadata": {},
   "outputs": [
    {
     "name": "stdout",
     "output_type": "stream",
     "text": [
      "Testing Accuracy: 0.7404\n"
     ]
    }
   ],
   "source": [
    "## test accuracy\n",
    "y_pred_prob = gs_result.predict_proba(X_test)\n",
    "y_pred = np.argmax(y_pred_prob, axis = 1)\n",
    "test_accuracy = np.mean(y_test == y_pred)\n",
    "print('Testing Accuracy: %.4f' % (test_accuracy))"
   ]
  },
  {
   "cell_type": "code",
   "execution_count": 12,
   "metadata": {},
   "outputs": [],
   "source": [
    "model_data_train = dict(model_name = model_name,\n",
    "                  #best_params = best_params,\n",
    "                  train_score_accuracy = scores_mean,\n",
    "                  train_scores_std = scores_std,\n",
    "                  #test_accuracy = test_accuracy,\n",
    "                  )\n",
    "\n",
    "model_results_train = model_results_train.append(model_data_train, ignore_index=True)\n",
    "\n",
    "model_data_test = dict(model_name = model_name,\n",
    "                  #best_params = best_params,\n",
    "                  #train_score_accuracy = scores_mean,\n",
    "                  #train_scores_std = scores_std,\n",
    "                  test_accuracy = test_accuracy,\n",
    "                  )\n",
    "\n",
    "model_results_test = model_results_test.append(model_data_test, ignore_index=True)\n",
    "\n",
    "model_data_para = dict(model_name = model_name,\n",
    "                  best_params = best_params,\n",
    "                  #train_score_accuracy = scores_mean,\n",
    "                  #train_scores_std = scores_std,\n",
    "                  #test_accuracy = test_accuracy,\n",
    "                  )\n",
    "\n",
    "model_results_para= model_results_para.append(model_data_para, ignore_index=True)\n",
    "\n",
    "\n",
    "report = classification_report(y_test, y_pred, digits=4,output_dict=True)\n",
    "\n",
    "report = pd.DataFrame(report)\n",
    "\n",
    "report =report['weighted avg'][0:3]\n",
    "report[\"model_name\"] = model_name\n",
    "report[\"Accuracy\"] = test_accuracy\n",
    "classify_report = classify_report.append(report, ignore_index = True)\n",
    "\n",
    "classify_report= classify_report[['model_name','Accuracy','precision','recall','f1-score']]"
   ]
  },
  {
   "cell_type": "markdown",
   "metadata": {},
   "source": [
    "## 3.2 KNN"
   ]
  },
  {
   "cell_type": "code",
   "execution_count": 13,
   "metadata": {},
   "outputs": [],
   "source": [
    "X_train, X_test, y_train, y_test = train_test_split(X, \n",
    "                                                    y, \n",
    "                                                    test_size = 0.2,\n",
    "                                                    random_state = 1234)\n",
    "\n",
    "weights = [1 if x == 1 else 0.5  for x in [ y > 1 and e > 1 for y, e in zip(X_train['Years_at_label'], X_train['Episode_num'])]]"
   ]
  },
  {
   "cell_type": "code",
   "execution_count": 14,
   "metadata": {},
   "outputs": [
    {
     "name": "stdout",
     "output_type": "stream",
     "text": [
      "Total run time for Multiclass Kneighbor Classifier with is:\n",
      "2.56 minutes.\n"
     ]
    }
   ],
   "source": [
    "# 2. running a Kneighbor Classifier model with PCA\n",
    "## 2.1 build a pipeline\n",
    "pipe = Pipeline([\n",
    "    ('pca', PCA()),\n",
    "    (\"knc\", OneVsRestClassifier(KNeighborsClassifier()))\n",
    "    ])\n",
    "### check available parameters: OneVsRestClassifier(KNeighborsClassifier()).get_params().keys()\n",
    "\n",
    "## 2.2 create param for grid search\n",
    "param = dict(pca__n_components = [10, 25, 34],\n",
    "             knc__estimator__n_neighbors = [5, 15, 25],\n",
    "             knc__estimator__weights = [\"uniform\", \"distance\"])\n",
    "\n",
    "## 2.3 perform grid serach with cross validation\n",
    "gs = GridSearchCV(pipe, param_grid = param, scoring = auc_score)\n",
    "\n",
    "begin = timeit.default_timer()\n",
    "gs_result = gs.fit(X_train, y_train)\n",
    "end = timeit.default_timer()\n",
    "total_run_mins = (end - begin) / 60\n",
    "print(\"Total run time for Multiclass Kneighbor Classifier with is:\\n%.2f minutes.\" % total_run_mins)\n",
    "\n"
   ]
  },
  {
   "cell_type": "code",
   "execution_count": 15,
   "metadata": {},
   "outputs": [],
   "source": [
    "model_name = \"KNN\"\n",
    "best_params = gs_result.best_params_\n",
    "param_str = \"KNN_\" + str(best_params['knc__estimator__n_neighbors']) + \"_\" +  str(best_params['knc__estimator__weights']) + \"_\" + str(best_params['pca__n_components'])\n",
    "#filename = \"model/Model_\" + model_name + \"_\" + param_str + '.pkl'\n",
    "best_model = gs_result.best_estimator_"
   ]
  },
  {
   "cell_type": "code",
   "execution_count": 16,
   "metadata": {},
   "outputs": [
    {
     "name": "stdout",
     "output_type": "stream",
     "text": [
      "Training Accuracy: 0.7631 (0.0052)\n"
     ]
    }
   ],
   "source": [
    "## training accuracy\n",
    "from sklearn.model_selection import cross_val_score\n",
    "clf = KNeighborsClassifier(n_neighbors = 5)\n",
    "scores = cross_val_score(clf, X_train, y_train, cv=5)\n",
    "scores_mean = mean(scores)\n",
    "scores_std = std(scores)\n",
    "print('Training Accuracy: %.4f (%.4f)' % (mean(scores), std(scores)))"
   ]
  },
  {
   "cell_type": "code",
   "execution_count": 17,
   "metadata": {},
   "outputs": [
    {
     "name": "stdout",
     "output_type": "stream",
     "text": [
      "Testing Accuracy: 0.7633\n"
     ]
    }
   ],
   "source": [
    "## test accuracy\n",
    "y_pred_prob = gs_result.predict_proba(X_test)\n",
    "y_pred = np.argmax(y_pred_prob, axis = 1)\n",
    "test_accuracy = np.mean(y_test == y_pred)\n",
    "print('Testing Accuracy: %.4f' % (test_accuracy))"
   ]
  },
  {
   "cell_type": "code",
   "execution_count": 18,
   "metadata": {},
   "outputs": [],
   "source": [
    "model_data_train = dict(model_name = model_name,\n",
    "                  #best_params = best_params,\n",
    "                  train_score_accuracy = scores_mean,\n",
    "                  train_scores_std = scores_std,\n",
    "                  #test_accuracy = test_accuracy,\n",
    "                  )\n",
    "\n",
    "model_results_train = model_results_train.append(model_data_train, ignore_index=True)\n",
    "\n",
    "model_data_test = dict(model_name = model_name,\n",
    "                  #best_params = best_params,\n",
    "                  #train_score_accuracy = scores_mean,\n",
    "                  #train_scores_std = scores_std,\n",
    "                  test_accuracy = test_accuracy,\n",
    "                  )\n",
    "\n",
    "model_results_test = model_results_test.append(model_data_test, ignore_index=True)\n",
    "\n",
    "model_data_para = dict(model_name = model_name,\n",
    "                  best_params = best_params,\n",
    "                  #train_score_accuracy = scores_mean,\n",
    "                  #train_scores_std = scores_std,\n",
    "                  #test_accuracy = test_accuracy,\n",
    "                  )\n",
    "\n",
    "model_results_para= model_results_para.append(model_data_para, ignore_index=True)\n",
    "\n",
    "\n",
    "report = classification_report(y_test, y_pred, digits=4,output_dict=True)\n",
    "\n",
    "report = pd.DataFrame(report)\n",
    "\n",
    "report =report['weighted avg'][0:3]\n",
    "report[\"model_name\"] = model_name\n",
    "report[\"Accuracy\"] = test_accuracy\n",
    "classify_report = classify_report.append(report, ignore_index = True)\n",
    "\n",
    "classify_report= classify_report[['model_name','Accuracy','precision','recall','f1-score']]"
   ]
  },
  {
   "cell_type": "markdown",
   "metadata": {},
   "source": [
    "## 3.3 NB"
   ]
  },
  {
   "cell_type": "code",
   "execution_count": 19,
   "metadata": {},
   "outputs": [
    {
     "name": "stdout",
     "output_type": "stream",
     "text": [
      "Total run time for Multiclass Gaussian NaiveBayes with is:\n",
      "0.04 minutes.\n"
     ]
    }
   ],
   "source": [
    "# 3. running a GaussianNB with Standsclaer\n",
    "## 3.1 build a pipeline\n",
    "pipe = Pipeline([\n",
    "    ('ss', StandardScaler()),\n",
    "    (\"nb\", OneVsRestClassifier(GaussianNB()))\n",
    "    ])\n",
    "### check available parameters: OneVsRestClassifier(GaussianNB()).get_params().keys()\n",
    "\n",
    "## 3.2 create param for grid search\n",
    "param = dict(nb__estimator__var_smoothing = [10, 1, 0.1, 0.01, 0.001, 0.0001, 1e-6,1e-8, 1e-9])\n",
    "\n",
    "## 3.3 perform grid serach with cross validation\n",
    "gs = GridSearchCV(pipe, param_grid = param, scoring = auc_score)\n",
    "\n",
    "begin = timeit.default_timer()\n",
    "gs_result = gs.fit(X_train, y_train)\n",
    "end = timeit.default_timer()\n",
    "total_run_mins = (end - begin) / 60\n",
    "print(\"Total run time for Multiclass Gaussian NaiveBayes with is:\\n%.2f minutes.\" % total_run_mins)\n"
   ]
  },
  {
   "cell_type": "code",
   "execution_count": 20,
   "metadata": {},
   "outputs": [],
   "source": [
    "## 3.4 record the results\n",
    "model_name = \"NB\"\n",
    "best_params = gs_result.best_params_\n",
    "param_str = \"NB_\" + str(best_params['nb__estimator__var_smoothing']) \n",
    "\n",
    "## the model to disk\n",
    "best_model = gs_result.best_estimator_"
   ]
  },
  {
   "cell_type": "code",
   "execution_count": 21,
   "metadata": {},
   "outputs": [
    {
     "name": "stdout",
     "output_type": "stream",
     "text": [
      "Training Accuracy: 0.6131 (0.0001)\n"
     ]
    }
   ],
   "source": [
    "## training accuracy\n",
    "from sklearn.model_selection import cross_val_score\n",
    "clf = GaussianNB(var_smoothing=10)\n",
    "scores = cross_val_score(clf, X_train, y_train, cv=5)\n",
    "scores_mean = mean(scores)\n",
    "scores_std = std(scores)\n",
    "print('Training Accuracy: %.4f (%.4f)' % (mean(scores), std(scores)))"
   ]
  },
  {
   "cell_type": "code",
   "execution_count": 22,
   "metadata": {},
   "outputs": [
    {
     "name": "stdout",
     "output_type": "stream",
     "text": [
      "Testing Accuracy: 0.6281\n"
     ]
    }
   ],
   "source": [
    "## test accuracy\n",
    "y_pred_prob = gs_result.predict_proba(X_test)\n",
    "y_pred = np.argmax(y_pred_prob, axis = 1)\n",
    "test_accuracy = np.mean(y_test == y_pred)\n",
    "print('Testing Accuracy: %.4f' % (test_accuracy))"
   ]
  },
  {
   "cell_type": "code",
   "execution_count": 23,
   "metadata": {},
   "outputs": [],
   "source": [
    "model_data_train = dict(model_name = model_name,\n",
    "                  #best_params = best_params,\n",
    "                  train_score_accuracy = scores_mean,\n",
    "                  train_scores_std = scores_std,\n",
    "                  #test_accuracy = test_accuracy,\n",
    "                  )\n",
    "\n",
    "model_results_train = model_results_train.append(model_data_train, ignore_index=True)\n",
    "\n",
    "model_data_test = dict(model_name = model_name,\n",
    "                  #best_params = best_params,\n",
    "                  #train_score_accuracy = scores_mean,\n",
    "                  #train_scores_std = scores_std,\n",
    "                  test_accuracy = test_accuracy,\n",
    "                  )\n",
    "\n",
    "model_results_test = model_results_test.append(model_data_test, ignore_index=True)\n",
    "\n",
    "model_data_para = dict(model_name = model_name,\n",
    "                  best_params = best_params,\n",
    "                  #train_score_accuracy = scores_mean,\n",
    "                  #train_scores_std = scores_std,\n",
    "                  #test_accuracy = test_accuracy,\n",
    "                  )\n",
    "\n",
    "model_results_para= model_results_para.append(model_data_para, ignore_index=True)\n",
    "\n",
    "\n",
    "report = classification_report(y_test, y_pred, digits=4,output_dict=True)\n",
    "\n",
    "report = pd.DataFrame(report)\n",
    "\n",
    "report =report['weighted avg'][0:3]\n",
    "report[\"model_name\"] = model_name\n",
    "report[\"Accuracy\"] = test_accuracy\n",
    "classify_report = classify_report.append(report, ignore_index = True)\n",
    "\n",
    "classify_report= classify_report[['model_name','Accuracy','precision','recall','f1-score']]"
   ]
  },
  {
   "cell_type": "markdown",
   "metadata": {},
   "source": [
    "## 3.4 RF"
   ]
  },
  {
   "cell_type": "code",
   "execution_count": 24,
   "metadata": {},
   "outputs": [
    {
     "name": "stdout",
     "output_type": "stream",
     "text": [
      "Total run time for Multiclass RandomForest with is:\n",
      "0.19 minutes.\n"
     ]
    }
   ],
   "source": [
    "# 4. running a Support Vector Machine model with RandomForest Classifier\n",
    "## 4.1 build a pipeline\n",
    "pipe = Pipeline([\n",
    "    ('ss', StandardScaler()),\n",
    "    (\"rf\", OneVsRestClassifier(RandomForestClassifier()))\n",
    "    ])\n",
    "### check available parameters: OneVsRestClassifier(RandomForestClassifier()).get_params().keys()\n",
    "\n",
    "## 4.2 create param for grid search\n",
    "param = dict(rf__estimator__n_estimators = [1, 5, 10],\n",
    "             rf__estimator__criterion = ['gini', 'entropy'],\n",
    "             rf__estimator__max_features = ['sqrt', 'log2'])\n",
    "\n",
    "## 4.3 perform grid serach with cross validation\n",
    "gs = GridSearchCV(pipe, param_grid = param, scoring = auc_score)\n",
    "\n",
    "begin = timeit.default_timer()\n",
    "gs_result = gs.fit(X_train, y_train)\n",
    "end = timeit.default_timer()\n",
    "total_run_mins = (end - begin) / 60\n",
    "print(\"Total run time for Multiclass RandomForest with is:\\n%.2f minutes.\" % total_run_mins)\n"
   ]
  },
  {
   "cell_type": "code",
   "execution_count": 25,
   "metadata": {},
   "outputs": [],
   "source": [
    "## 4.4 record the results\n",
    "model_name = \"RF\"\n",
    "best_params = gs_result.best_params_\n",
    "param_str = \"RF_\" + str(best_params['rf__estimator__n_estimators']) + \"_\" +  str(best_params['rf__estimator__criterion']) + \\\n",
    "                 str(best_params['rf__estimator__max_features'])\n",
    "\n",
    "## the model to disk\n",
    "best_model = gs_result.best_estimator_"
   ]
  },
  {
   "cell_type": "code",
   "execution_count": 26,
   "metadata": {},
   "outputs": [
    {
     "name": "stdout",
     "output_type": "stream",
     "text": [
      "Training Accuracy: 0.9047 (0.0083)\n"
     ]
    }
   ],
   "source": [
    "## training accuracy\n",
    "clf = RandomForestClassifier(criterion='gini',max_features='sqrt',n_estimators=1, random_state=42)\n",
    "scores = cross_val_score(clf, X_train, y_train, cv=5)\n",
    "scores_mean = mean(scores)\n",
    "scores_std = std(scores)\n",
    "print('Training Accuracy: %.4f (%.4f)' % (mean(scores), std(scores)))"
   ]
  },
  {
   "cell_type": "code",
   "execution_count": 27,
   "metadata": {},
   "outputs": [
    {
     "name": "stdout",
     "output_type": "stream",
     "text": [
      "Testing Accuracy: 0.8849\n"
     ]
    }
   ],
   "source": [
    "## test accuracy\n",
    "y_pred_prob = gs_result.predict_proba(X_test)\n",
    "y_pred = np.argmax(y_pred_prob, axis = 1)\n",
    "test_accuracy = np.mean(y_test == y_pred)\n",
    "print('Testing Accuracy: %.4f' % (test_accuracy))"
   ]
  },
  {
   "cell_type": "code",
   "execution_count": 28,
   "metadata": {},
   "outputs": [],
   "source": [
    "model_data_train = dict(model_name = model_name,\n",
    "                  #best_params = best_params,\n",
    "                  train_score_accuracy = scores_mean,\n",
    "                  train_scores_std = scores_std,\n",
    "                  #test_accuracy = test_accuracy,\n",
    "                  )\n",
    "\n",
    "model_results_train = model_results_train.append(model_data_train, ignore_index=True)\n",
    "\n",
    "model_data_test = dict(model_name = model_name,\n",
    "                  #best_params = best_params,\n",
    "                  #train_score_accuracy = scores_mean,\n",
    "                  #train_scores_std = scores_std,\n",
    "                  test_accuracy = test_accuracy,\n",
    "                  )\n",
    "\n",
    "model_results_test = model_results_test.append(model_data_test, ignore_index=True)\n",
    "\n",
    "model_data_para = dict(model_name = model_name,\n",
    "                  best_params = best_params,\n",
    "                  #train_score_accuracy = scores_mean,\n",
    "                  #train_scores_std = scores_std,\n",
    "                  #test_accuracy = test_accuracy,\n",
    "                  )\n",
    "\n",
    "model_results_para= model_results_para.append(model_data_para, ignore_index=True)\n",
    "\n",
    "\n",
    "report = classification_report(y_test, y_pred, digits=4,output_dict=True)\n",
    "\n",
    "report = pd.DataFrame(report)\n",
    "\n",
    "report =report['weighted avg'][0:3]\n",
    "report[\"model_name\"] = model_name\n",
    "report[\"Accuracy\"] = test_accuracy\n",
    "classify_report = classify_report.append(report, ignore_index = True)\n",
    "\n",
    "classify_report= classify_report[['model_name','Accuracy','precision','recall','f1-score']]"
   ]
  },
  {
   "cell_type": "markdown",
   "metadata": {},
   "source": [
    "## 3.5 Xgboost"
   ]
  },
  {
   "cell_type": "code",
   "execution_count": 29,
   "metadata": {},
   "outputs": [
    {
     "name": "stdout",
     "output_type": "stream",
     "text": [
      "Total run time for Multiclass xgBoost with is:\n",
      "3.48 minutes.\n"
     ]
    }
   ],
   "source": [
    "## 5.1 build a pipeline\n",
    "pipe = Pipeline([\n",
    "    ('ss', StandardScaler()),\n",
    "    (\"xg\", OneVsRestClassifier(xgb.XGBClassifier(scale_pos_weight = 1,\n",
    "                                                 min_child_weight = 1, \n",
    "                                                 objective = 'binary:logistic')))  \n",
    "    ])\n",
    "### check available parameters: OneVsRestClassifier(xgb.XGBClassifier()).get_params().keys()\n",
    "\n",
    "## 5.2 create param for grid search\n",
    "param = dict(xg__estimator__n_estimators = [2000], # [1000, 2000, 3000]\n",
    "             xg__estimator__max_depth = [5], # [3, 4, 5]\n",
    "             xg__estimator__subsample = [0.8], # [0.5, 0.7, 0.8]\n",
    "             xg__estimator__learning_rate = [0.01], # [0.01, 0.02, 0.05]\n",
    "             xg__estimator__colsample_bytree = [0.8] # [0.5, 0.7, 0.8]\n",
    "             )\n",
    "\n",
    "## 5.3 perform grid serach with cross validation\n",
    "gs = GridSearchCV(pipe, param_grid = param, scoring = auc_score)\n",
    "\n",
    "begin = timeit.default_timer()\n",
    "gs_result = gs.fit(X_train, y_train)\n",
    "end = timeit.default_timer()\n",
    "total_run_mins = (end - begin) / 60\n",
    "print(\"Total run time for Multiclass xgBoost with is:\\n%.2f minutes.\" % total_run_mins)"
   ]
  },
  {
   "cell_type": "code",
   "execution_count": 30,
   "metadata": {},
   "outputs": [],
   "source": [
    "## 5.4 record the results\n",
    "model_name = \"XGBoost\"\n",
    "best_params = gs_result.best_params_\n",
    "param_str = \"XG_\" + str(best_params['xg__estimator__n_estimators']) + \"_\" +  str(best_params['xg__estimator__max_depth']) + \\\n",
    "                    str(best_params['xg__estimator__subsample']) + \"_\" +  str(best_params['xg__estimator__colsample_bytree'])\n",
    "    \n",
    "\n",
    "## the model to disk\n",
    "best_model = gs_result.best_estimator_"
   ]
  },
  {
   "cell_type": "code",
   "execution_count": 31,
   "metadata": {},
   "outputs": [
    {
     "name": "stdout",
     "output_type": "stream",
     "text": [
      "Training Accuracy: 0.9489 (0.0011)\n"
     ]
    }
   ],
   "source": [
    "## training accuracy\n",
    "clf = xgb.XGBClassifier(colsample_bytree=0.8,learning_rate=0.01,n_estimators=2000,max_depth=5, subsample =0.8, random_state=42)\n",
    "scores = cross_val_score(clf, X_train, y_train, cv=5)\n",
    "scores_mean = mean(scores)\n",
    "scores_std = std(scores)\n",
    "print('Training Accuracy: %.4f (%.4f)' % (mean(scores), std(scores)))"
   ]
  },
  {
   "cell_type": "code",
   "execution_count": 32,
   "metadata": {},
   "outputs": [
    {
     "name": "stdout",
     "output_type": "stream",
     "text": [
      "Testing Accuracy: 0.9505\n"
     ]
    }
   ],
   "source": [
    "## test accuracy\n",
    "y_pred_prob = gs_result.predict_proba(X_test)\n",
    "y_pred = np.argmax(y_pred_prob, axis = 1)\n",
    "test_accuracy = np.mean(y_test == y_pred)\n",
    "print('Testing Accuracy: %.4f' % (test_accuracy))\n"
   ]
  },
  {
   "cell_type": "code",
   "execution_count": 33,
   "metadata": {},
   "outputs": [],
   "source": [
    "model_data_train = dict(model_name = model_name,\n",
    "                  #best_params = best_params,\n",
    "                  train_score_accuracy = scores_mean,\n",
    "                  train_scores_std = scores_std,\n",
    "                  #test_accuracy = test_accuracy,\n",
    "                  )\n",
    "\n",
    "model_results_train = model_results_train.append(model_data_train, ignore_index=True)\n",
    "\n",
    "model_data_test = dict(model_name = model_name,\n",
    "                  #best_params = best_params,\n",
    "                  #train_score_accuracy = scores_mean,\n",
    "                  #train_scores_std = scores_std,\n",
    "                  test_accuracy = test_accuracy,\n",
    "                  )\n",
    "\n",
    "model_results_test = model_results_test.append(model_data_test, ignore_index=True)\n",
    "\n",
    "model_data_para = dict(model_name = model_name,\n",
    "                  best_params = best_params,\n",
    "                  #train_score_accuracy = scores_mean,\n",
    "                  #train_scores_std = scores_std,\n",
    "                  #test_accuracy = test_accuracy,\n",
    "                  )\n",
    "\n",
    "model_results_para= model_results_para.append(model_data_para, ignore_index=True)\n",
    "\n",
    "\n",
    "report = classification_report(y_test, y_pred, digits=4,output_dict=True)\n",
    "\n",
    "report = pd.DataFrame(report)\n",
    "\n",
    "report =report['weighted avg'][0:3]\n",
    "report[\"model_name\"] = model_name\n",
    "report[\"Accuracy\"] = test_accuracy\n",
    "classify_report = classify_report.append(report, ignore_index = True)\n",
    "\n",
    "classify_report= classify_report[['model_name','Accuracy','precision','recall','f1-score']]"
   ]
  },
  {
   "cell_type": "markdown",
   "metadata": {},
   "source": [
    "## 3.6 MLP"
   ]
  },
  {
   "cell_type": "code",
   "execution_count": 34,
   "metadata": {},
   "outputs": [],
   "source": [
    "from numpy import loadtxt\n",
    "from keras.models import Sequential\n",
    "from keras.layers import Dense\n",
    "import tensorflow as tf\n",
    "from keras.utils.np_utils import to_categorical\n",
    "from sklearn.model_selection import KFold"
   ]
  },
  {
   "cell_type": "code",
   "execution_count": 35,
   "metadata": {},
   "outputs": [],
   "source": [
    "kfold = KFold(n_splits=5, shuffle=True)\n",
    "X_train, X_test, y_train, y_test = train_test_split(X, \n",
    "                                                    y, \n",
    "                                                    test_size = 0.2,\n",
    "                                                    random_state = 1234)\n",
    "\n",
    "\n",
    "y_train_mlp = to_categorical(y_train)\n",
    "y_test_mlp = to_categorical(y_test)"
   ]
  },
  {
   "cell_type": "code",
   "execution_count": 36,
   "metadata": {},
   "outputs": [
    {
     "name": "stdout",
     "output_type": "stream",
     "text": [
      "------------------------------------------------------------------------\n",
      "Training for fold 1 ...\n",
      "Epoch 1/20\n",
      "732/732 [==============================] - 1s 902us/step - loss: 3370.8088 - acc: 0.7018\n",
      "Epoch 2/20\n",
      "732/732 [==============================] - 1s 890us/step - loss: 0.5205 - acc: 0.7709\n",
      "Epoch 3/20\n",
      "732/732 [==============================] - 1s 881us/step - loss: 0.4716 - acc: 0.7823\n",
      "Epoch 4/20\n",
      "732/732 [==============================] - 1s 891us/step - loss: 0.4736 - acc: 0.7814\n",
      "Epoch 5/20\n",
      "732/732 [==============================] - 1s 882us/step - loss: 0.4925 - acc: 0.7812\n",
      "Epoch 6/20\n",
      "732/732 [==============================] - 1s 880us/step - loss: 0.4671 - acc: 0.7833\n",
      "Epoch 7/20\n",
      "732/732 [==============================] - 1s 879us/step - loss: 0.4662 - acc: 0.7833\n",
      "Epoch 8/20\n",
      "732/732 [==============================] - 1s 880us/step - loss: 0.4606 - acc: 0.7845\n",
      "Epoch 9/20\n",
      "732/732 [==============================] - 1s 873us/step - loss: 0.4679 - acc: 0.7823\n",
      "Epoch 10/20\n",
      "732/732 [==============================] - 1s 867us/step - loss: 0.4670 - acc: 0.7821\n",
      "Epoch 11/20\n",
      "732/732 [==============================] - 1s 876us/step - loss: 0.4573 - acc: 0.7855\n",
      "Epoch 12/20\n",
      "732/732 [==============================] - 1s 879us/step - loss: 0.4577 - acc: 0.7841\n",
      "Epoch 13/20\n",
      "732/732 [==============================] - 1s 886us/step - loss: 0.4660 - acc: 0.7848\n",
      "Epoch 14/20\n",
      "732/732 [==============================] - 1s 878us/step - loss: 0.4519 - acc: 0.7880\n",
      "Epoch 15/20\n",
      "732/732 [==============================] - 1s 881us/step - loss: 0.4784 - acc: 0.7769\n",
      "Epoch 16/20\n",
      "732/732 [==============================] - 1s 888us/step - loss: 0.4586 - acc: 0.7857\n",
      "Epoch 17/20\n",
      "732/732 [==============================] - 1s 877us/step - loss: 0.4555 - acc: 0.7865\n",
      "Epoch 18/20\n",
      "732/732 [==============================] - 1s 876us/step - loss: 0.4929 - acc: 0.7749\n",
      "Epoch 19/20\n",
      "732/732 [==============================] - 1s 873us/step - loss: 0.4508 - acc: 0.7880\n",
      "Epoch 20/20\n",
      "732/732 [==============================] - 1s 871us/step - loss: 0.4556 - acc: 0.7868\n",
      "183/183 [==============================] - 0s 610us/step - loss: 0.4456 - acc: 0.7910\n",
      "Score for fold 1: loss of 0.44556576013565063; acc of 79.09836173057556%\n",
      "------------------------------------------------------------------------\n",
      "Training for fold 2 ...\n",
      "Epoch 1/20\n",
      "732/732 [==============================] - 1s 888us/step - loss: 3327.6831 - acc: 0.6989\n",
      "Epoch 2/20\n",
      "732/732 [==============================] - 1s 882us/step - loss: 0.5081 - acc: 0.7744\n",
      "Epoch 3/20\n",
      "732/732 [==============================] - 1s 883us/step - loss: 0.4664 - acc: 0.7828\n",
      "Epoch 4/20\n",
      "732/732 [==============================] - 1s 879us/step - loss: 0.4689 - acc: 0.7825\n",
      "Epoch 5/20\n",
      "732/732 [==============================] - 1s 896us/step - loss: 0.4601 - acc: 0.7847\n",
      "Epoch 6/20\n",
      "732/732 [==============================] - 1s 886us/step - loss: 0.4805 - acc: 0.7810\n",
      "Epoch 7/20\n",
      "732/732 [==============================] - 1s 886us/step - loss: 0.4595 - acc: 0.7852\n",
      "Epoch 8/20\n",
      "732/732 [==============================] - 1s 879us/step - loss: 0.4611 - acc: 0.7845\n",
      "Epoch 9/20\n",
      "732/732 [==============================] - 1s 882us/step - loss: 0.4617 - acc: 0.7841\n",
      "Epoch 10/20\n",
      "732/732 [==============================] - 1s 877us/step - loss: 0.4510 - acc: 0.7872\n",
      "Epoch 11/20\n",
      "732/732 [==============================] - 1s 876us/step - loss: 0.4625 - acc: 0.7851\n",
      "Epoch 12/20\n",
      "732/732 [==============================] - 1s 884us/step - loss: 0.5484 - acc: 0.7833\n",
      "Epoch 13/20\n",
      "732/732 [==============================] - 1s 887us/step - loss: 0.4713 - acc: 0.7820\n",
      "Epoch 14/20\n",
      "732/732 [==============================] - 1s 882us/step - loss: 0.5786 - acc: 0.7824\n",
      "Epoch 15/20\n",
      "732/732 [==============================] - 1s 885us/step - loss: 0.5503 - acc: 0.7833\n",
      "Epoch 16/20\n",
      "732/732 [==============================] - 1s 882us/step - loss: 0.4629 - acc: 0.7853\n",
      "Epoch 17/20\n",
      "732/732 [==============================] - 1s 883us/step - loss: 0.4590 - acc: 0.7846\n",
      "Epoch 18/20\n",
      "732/732 [==============================] - 1s 881us/step - loss: 0.4527 - acc: 0.7874\n",
      "Epoch 19/20\n",
      "732/732 [==============================] - 1s 878us/step - loss: 0.4593 - acc: 0.7853\n",
      "Epoch 20/20\n",
      "732/732 [==============================] - 1s 882us/step - loss: 0.4607 - acc: 0.7850\n",
      "183/183 [==============================] - 0s 603us/step - loss: 0.4583 - acc: 0.7826\n",
      "Score for fold 2: loss of 0.45834672451019287; acc of 78.2616138458252%\n",
      "------------------------------------------------------------------------\n",
      "Training for fold 3 ...\n",
      "Epoch 1/20\n",
      "732/732 [==============================] - 1s 886us/step - loss: 3642.8691 - acc: 0.6723\n",
      "Epoch 2/20\n",
      "732/732 [==============================] - 1s 882us/step - loss: 0.5020 - acc: 0.7721\n",
      "Epoch 3/20\n",
      "732/732 [==============================] - 1s 885us/step - loss: 0.7760 - acc: 0.7804\n",
      "Epoch 4/20\n",
      "732/732 [==============================] - 1s 881us/step - loss: 0.4776 - acc: 0.7807\n",
      "Epoch 5/20\n",
      "732/732 [==============================] - 1s 882us/step - loss: 0.4641 - acc: 0.7842\n",
      "Epoch 6/20\n",
      "732/732 [==============================] - 1s 883us/step - loss: 0.7246 - acc: 0.7783\n",
      "Epoch 7/20\n",
      "732/732 [==============================] - 1s 887us/step - loss: 0.4584 - acc: 0.7852\n",
      "Epoch 8/20\n",
      "732/732 [==============================] - 1s 878us/step - loss: 0.4608 - acc: 0.7848\n",
      "Epoch 9/20\n",
      "732/732 [==============================] - 1s 884us/step - loss: 0.4717 - acc: 0.7815\n",
      "Epoch 10/20\n",
      "732/732 [==============================] - 1s 890us/step - loss: 0.4528 - acc: 0.7870\n",
      "Epoch 11/20\n",
      "732/732 [==============================] - 1s 894us/step - loss: 0.4535 - acc: 0.7867\n",
      "Epoch 12/20\n",
      "732/732 [==============================] - 1s 883us/step - loss: 0.4489 - acc: 0.7877\n",
      "Epoch 13/20\n",
      "732/732 [==============================] - 1s 913us/step - loss: 0.4587 - acc: 0.7861\n",
      "Epoch 14/20\n",
      "732/732 [==============================] - 1s 885us/step - loss: 59.8846 - acc: 0.7809\n",
      "Epoch 15/20\n",
      "732/732 [==============================] - 1s 878us/step - loss: 0.4601 - acc: 0.7849\n",
      "Epoch 16/20\n",
      "732/732 [==============================] - 1s 891us/step - loss: 0.4662 - acc: 0.7809\n",
      "Epoch 17/20\n",
      "732/732 [==============================] - 1s 907us/step - loss: 0.4645 - acc: 0.7851\n",
      "Epoch 18/20\n",
      "732/732 [==============================] - 1s 948us/step - loss: 0.4551 - acc: 0.7866\n",
      "Epoch 19/20\n",
      "732/732 [==============================] - 1s 906us/step - loss: 1.5768 - acc: 0.7797\n",
      "Epoch 20/20\n",
      "732/732 [==============================] - 1s 916us/step - loss: 0.5399 - acc: 0.7705\n",
      "183/183 [==============================] - 0s 598us/step - loss: 0.4946 - acc: 0.7724\n",
      "Score for fold 3: loss of 0.4945768713951111; acc of 77.23702192306519%\n",
      "------------------------------------------------------------------------\n",
      "Training for fold 4 ...\n",
      "Epoch 1/20\n",
      "732/732 [==============================] - 1s 881us/step - loss: 4402.3340 - acc: 0.6886\n",
      "Epoch 2/20\n",
      "732/732 [==============================] - 1s 925us/step - loss: 0.5261 - acc: 0.7723\n",
      "Epoch 3/20\n",
      "732/732 [==============================] - 1s 873us/step - loss: 0.4905 - acc: 0.7779\n",
      "Epoch 4/20\n",
      "732/732 [==============================] - 1s 879us/step - loss: 0.4966 - acc: 0.7776\n",
      "Epoch 5/20\n",
      "732/732 [==============================] - 1s 880us/step - loss: 0.4920 - acc: 0.7779\n",
      "Epoch 6/20\n",
      "732/732 [==============================] - 1s 879us/step - loss: 0.5118 - acc: 0.7748\n",
      "Epoch 7/20\n",
      "732/732 [==============================] - 1s 901us/step - loss: 0.4829 - acc: 0.7824\n",
      "Epoch 8/20\n",
      "732/732 [==============================] - 1s 902us/step - loss: 0.4679 - acc: 0.7843\n",
      "Epoch 9/20\n",
      "732/732 [==============================] - 1s 878us/step - loss: 0.5062 - acc: 0.7725\n",
      "Epoch 10/20\n",
      "732/732 [==============================] - 1s 877us/step - loss: 0.4767 - acc: 0.7787\n",
      "Epoch 11/20\n",
      "732/732 [==============================] - 1s 871us/step - loss: 0.4810 - acc: 0.7857\n",
      "Epoch 12/20\n",
      "732/732 [==============================] - 1s 879us/step - loss: 0.4784 - acc: 0.7803\n",
      "Epoch 13/20\n",
      "732/732 [==============================] - 1s 874us/step - loss: 0.4680 - acc: 0.7826\n",
      "Epoch 14/20\n",
      "732/732 [==============================] - 1s 866us/step - loss: 0.4687 - acc: 0.7845\n",
      "Epoch 15/20\n",
      "732/732 [==============================] - 1s 869us/step - loss: 0.4814 - acc: 0.7783\n",
      "Epoch 16/20\n",
      "732/732 [==============================] - 1s 879us/step - loss: 0.4707 - acc: 0.7811\n",
      "Epoch 17/20\n",
      "732/732 [==============================] - 1s 950us/step - loss: 0.4622 - acc: 0.7855\n",
      "Epoch 18/20\n",
      "732/732 [==============================] - 1s 971us/step - loss: 0.4617 - acc: 0.7851\n",
      "Epoch 19/20\n",
      "732/732 [==============================] - 1s 1ms/step - loss: 0.4657 - acc: 0.7857\n",
      "Epoch 20/20\n",
      "732/732 [==============================] - 1s 1ms/step - loss: 0.4820 - acc: 0.7784\n",
      "183/183 [==============================] - 0s 797us/step - loss: 0.5180 - acc: 0.7582\n",
      "Score for fold 4: loss of 0.517960786819458; acc of 75.81967115402222%\n",
      "------------------------------------------------------------------------\n",
      "Training for fold 5 ...\n",
      "Epoch 1/20\n",
      "732/732 [==============================] - 1s 1ms/step - loss: 4300.8696 - acc: 0.7027\n",
      "Epoch 2/20\n",
      "732/732 [==============================] - 1s 1ms/step - loss: 0.5213 - acc: 0.7693\n",
      "Epoch 3/20\n",
      "732/732 [==============================] - 1s 1ms/step - loss: 0.4874 - acc: 0.7771\n",
      "Epoch 4/20\n",
      "732/732 [==============================] - 1s 1ms/step - loss: 0.4779 - acc: 0.7795\n",
      "Epoch 5/20\n",
      "732/732 [==============================] - 1s 1ms/step - loss: 0.4718 - acc: 0.7829\n",
      "Epoch 6/20\n",
      "732/732 [==============================] - 1s 955us/step - loss: 0.5032 - acc: 0.7739\n",
      "Epoch 7/20\n",
      "732/732 [==============================] - 1s 1ms/step - loss: 0.4730 - acc: 0.7827\n",
      "Epoch 8/20\n",
      "732/732 [==============================] - 1s 989us/step - loss: 0.4717 - acc: 0.7832\n",
      "Epoch 9/20\n",
      "732/732 [==============================] - 1s 1ms/step - loss: 0.4733 - acc: 0.7807\n",
      "Epoch 10/20\n",
      "732/732 [==============================] - 1s 1ms/step - loss: 0.4762 - acc: 0.7808\n",
      "Epoch 11/20\n",
      "732/732 [==============================] - 1s 1ms/step - loss: 0.4656 - acc: 0.7837\n",
      "Epoch 12/20\n",
      "732/732 [==============================] - 1s 979us/step - loss: 0.4989 - acc: 0.7775\n",
      "Epoch 13/20\n",
      "732/732 [==============================] - 1s 962us/step - loss: 0.4693 - acc: 0.7832\n",
      "Epoch 14/20\n",
      "732/732 [==============================] - 1s 973us/step - loss: 0.4701 - acc: 0.7824\n",
      "Epoch 15/20\n",
      "732/732 [==============================] - 1s 973us/step - loss: 0.4693 - acc: 0.7835\n",
      "Epoch 16/20\n",
      "732/732 [==============================] - 1s 957us/step - loss: 0.4958 - acc: 0.7772\n",
      "Epoch 17/20\n",
      "732/732 [==============================] - 1s 973us/step - loss: 0.4753 - acc: 0.7821\n",
      "Epoch 18/20\n",
      "732/732 [==============================] - 1s 960us/step - loss: 0.4728 - acc: 0.7819\n",
      "Epoch 19/20\n",
      "732/732 [==============================] - 1s 968us/step - loss: 0.4803 - acc: 0.7787\n",
      "Epoch 20/20\n",
      "732/732 [==============================] - 1s 961us/step - loss: 0.4633 - acc: 0.7841\n",
      "183/183 [==============================] - 0s 672us/step - loss: 0.5372 - acc: 0.7678\n",
      "Score for fold 5: loss of 0.5372245907783508; acc of 76.77595615386963%\n",
      "------------------------------------------------------------------------\n",
      "Score per fold\n",
      "------------------------------------------------------------------------\n",
      "> Fold 1 - Loss: 0.44556576013565063 - Accuracy: 79.09836173057556%\n",
      "------------------------------------------------------------------------\n",
      "> Fold 2 - Loss: 0.45834672451019287 - Accuracy: 78.2616138458252%\n",
      "------------------------------------------------------------------------\n",
      "> Fold 3 - Loss: 0.4945768713951111 - Accuracy: 77.23702192306519%\n",
      "------------------------------------------------------------------------\n",
      "> Fold 4 - Loss: 0.517960786819458 - Accuracy: 75.81967115402222%\n",
      "------------------------------------------------------------------------\n",
      "> Fold 5 - Loss: 0.5372245907783508 - Accuracy: 76.77595615386963%\n",
      "------------------------------------------------------------------------\n",
      "Average scores for all folds:\n",
      "> Accuracy: 77.43852496147156 (+- 1.1430504766460143)\n",
      "> Loss: 0.4907349467277527\n",
      "------------------------------------------------------------------------\n"
     ]
    }
   ],
   "source": [
    "# Define per-fold score containers\n",
    "from numpy.random import seed\n",
    "seed(1)\n",
    "import tensorflow\n",
    "tensorflow.random.set_seed(1)\n",
    "\n",
    "acc_per_fold = []\n",
    "loss_per_fold = []\n",
    "\n",
    "\n",
    "fold_no = 1\n",
    "for train, test in kfold.split(X_train, y_train_mlp):\n",
    "  model = Sequential()\n",
    "  model.add(Dense(256, input_dim=28, activation='relu'))\n",
    "  model.add(Dense(256, activation='relu'))\n",
    "  model.add(Dense(3, activation='softmax'))\n",
    "  model.compile(optimizer=tf.keras.optimizers.Adam(learning_rate=0.01), loss=\"categorical_crossentropy\",  metrics=[\"acc\"])\n",
    "  print('------------------------------------------------------------------------')\n",
    "  print(f'Training for fold {fold_no} ...')\n",
    "  history = model.fit(X_train, y_train_mlp, verbose=1, epochs=20)\n",
    "  scores = model.evaluate(X_test, y_test_mlp)\n",
    "  print(f'Score for fold {fold_no}: {model.metrics_names[0]} of {scores[0]}; {model.metrics_names[1]} of {scores[1]*100}%')\n",
    "  acc_per_fold.append(scores[1] * 100)\n",
    "  loss_per_fold.append(scores[0])\n",
    "\n",
    "  # Increase fold number\n",
    "  fold_no = fold_no + 1\n",
    "# == Provide average scores ==\n",
    "print('------------------------------------------------------------------------')\n",
    "print('Score per fold')\n",
    "for i in range(0, len(acc_per_fold)):\n",
    "  print('------------------------------------------------------------------------')\n",
    "  print(f'> Fold {i+1} - Loss: {loss_per_fold[i]} - Accuracy: {acc_per_fold[i]}%')\n",
    "print('------------------------------------------------------------------------')\n",
    "print('Average scores for all folds:')\n",
    "print(f'> Accuracy: {np.mean(acc_per_fold)} (+- {np.std(acc_per_fold)})')\n",
    "print(f'> Loss: {np.mean(loss_per_fold)}')\n",
    "print('------------------------------------------------------------------------')\n",
    "scores_mean = mean(acc_per_fold)/100\n",
    "scores_std = std(acc_per_fold)/100"
   ]
  },
  {
   "cell_type": "code",
   "execution_count": 37,
   "metadata": {},
   "outputs": [],
   "source": [
    "predictions = model.predict(X_test)\n",
    "predicted_id = tf.math.argmax(predictions, axis=-1)\n"
   ]
  },
  {
   "cell_type": "code",
   "execution_count": 38,
   "metadata": {},
   "outputs": [],
   "source": [
    "model_name = \"MLP\"\n",
    "test_accuracy = accuracy_score(y_test,predicted_id )"
   ]
  },
  {
   "cell_type": "code",
   "execution_count": 39,
   "metadata": {},
   "outputs": [],
   "source": [
    "best_params = model.optimizer.get_config()"
   ]
  },
  {
   "cell_type": "code",
   "execution_count": 40,
   "metadata": {},
   "outputs": [],
   "source": [
    "model_data_train = dict(model_name = model_name,\n",
    "                  #best_params = best_params,\n",
    "                  train_score_accuracy = scores_mean,\n",
    "                  train_scores_std = scores_std,\n",
    "                  #test_accuracy = test_accuracy,\n",
    "                  )\n",
    "\n",
    "model_results_train = model_results_train.append(model_data_train, ignore_index=True)\n",
    "\n",
    "model_data_test = dict(model_name = model_name,\n",
    "                  #best_params = best_params,\n",
    "                  #train_score_accuracy = scores_mean,\n",
    "                  #train_scores_std = scores_std,\n",
    "                  test_accuracy = test_accuracy,\n",
    "                  )\n",
    "\n",
    "model_results_test = model_results_test.append(model_data_test, ignore_index=True)\n",
    "\n",
    "model_data_para = dict(model_name = model_name,\n",
    "                  best_params = best_params,\n",
    "                  #train_score_accuracy = scores_mean,\n",
    "                  #train_scores_std = scores_std,\n",
    "                  #test_accuracy = test_accuracy,\n",
    "                  )\n",
    "\n",
    "model_results_para= model_results_para.append(model_data_para, ignore_index=True)\n",
    "\n",
    "\n",
    "report = classification_report(y_test, predicted_id, digits=4,output_dict=True)\n",
    "\n",
    "report = pd.DataFrame(report)\n",
    "\n",
    "report =report['weighted avg'][0:3]\n",
    "report[\"model_name\"] = model_name\n",
    "report[\"Accuracy\"] = test_accuracy\n",
    "classify_report = classify_report.append(report, ignore_index = True)\n",
    "\n",
    "classify_report= classify_report[['model_name','Accuracy','precision','recall','f1-score']]"
   ]
  },
  {
   "cell_type": "markdown",
   "metadata": {},
   "source": [
    "## 3.7 CNN"
   ]
  },
  {
   "cell_type": "code",
   "execution_count": 41,
   "metadata": {},
   "outputs": [
    {
     "name": "stdout",
     "output_type": "stream",
     "text": [
      "After reshape train data set shape:\n",
      " (23424, 28, 1)\n",
      "1 Sample shape:\n",
      " (28, 1)\n"
     ]
    }
   ],
   "source": [
    "X_train, X_test, y_train, y_test = train_test_split(X, \n",
    "                                                    y, \n",
    "                                                    test_size = 0.2,\n",
    "                                                    random_state = 1234)\n",
    "X_train = X_train.to_numpy()\n",
    "sample_size = X_train.shape[0] # number of samples in train set\n",
    "time_steps  = X_train.shape[1] # number of features in train set\n",
    "input_dimension = 1               # each feature is represented by 1 number\n",
    "\n",
    "train_data_reshaped = X_train.reshape(sample_size,time_steps,input_dimension)\n",
    "print(\"After reshape train data set shape:\\n\", train_data_reshaped.shape)\n",
    "print(\"1 Sample shape:\\n\",train_data_reshaped[0].shape)\n",
    "\n",
    "X_test = X_test.to_numpy()\n",
    "test_data_reshaped = X_test.reshape(X_test.shape[0],X_test.shape[1],1)\n",
    "y_test_mlp = to_categorical(y_test)"
   ]
  },
  {
   "cell_type": "code",
   "execution_count": 42,
   "metadata": {},
   "outputs": [
    {
     "name": "stdout",
     "output_type": "stream",
     "text": [
      "Model: \"model_conv1D\"\n",
      "_________________________________________________________________\n",
      " Layer (type)                Output Shape              Param #   \n",
      "=================================================================\n",
      " Conv1D_1 (Conv1D)           (None, 22, 64)            512       \n",
      "                                                                 \n",
      " Conv1D_2 (Conv1D)           (None, 20, 32)            6176      \n",
      "                                                                 \n",
      " Conv1D_3 (Conv1D)           (None, 19, 16)            1040      \n",
      "                                                                 \n",
      " MaxPooling1D (MaxPooling1D)  (None, 9, 16)            0         \n",
      "                                                                 \n",
      " flatten (Flatten)           (None, 144)               0         \n",
      "                                                                 \n",
      " Dense_1 (Dense)             (None, 32)                4640      \n",
      "                                                                 \n",
      " dense_15 (Dense)            (None, 3)                 99        \n",
      "                                                                 \n",
      "=================================================================\n",
      "Total params: 12,467\n",
      "Trainable params: 12,467\n",
      "Non-trainable params: 0\n",
      "_________________________________________________________________\n"
     ]
    }
   ],
   "source": [
    "import keras\n",
    "def build_conv1D_model():\n",
    "\n",
    "  n_timesteps = train_data_reshaped.shape[1] #13\n",
    "  n_features  = train_data_reshaped.shape[2] #1 \n",
    "  model = keras.Sequential(name=\"model_conv1D\")\n",
    "  model.add(keras.layers.Input(shape=(n_timesteps,n_features)))\n",
    "  model.add(keras.layers.Conv1D(filters=64, kernel_size=7, activation='relu', name=\"Conv1D_1\"))\n",
    "  model.add(keras.layers.Conv1D(filters=32, kernel_size=3, activation='relu', name=\"Conv1D_2\"))\n",
    "  model.add(keras.layers.Conv1D(filters=16, kernel_size=2, activation='relu', name=\"Conv1D_3\"))\n",
    "  model.add(keras.layers.MaxPooling1D(pool_size=2, name=\"MaxPooling1D\"))\n",
    "  model.add(keras.layers.Flatten())\n",
    "  model.add(keras.layers.Dense(32, activation='relu', name=\"Dense_1\"))\n",
    "  model.add(Dense(3, activation='softmax'))\n",
    "\n",
    "\n",
    "  optimizer=tf.keras.optimizers.Adam(learning_rate=0.001)\n",
    "\n",
    "  model.compile(loss='categorical_crossentropy',optimizer=optimizer,metrics=['acc'])\n",
    "  return model\n",
    "\n",
    "\n",
    "\n",
    "model_conv1D = build_conv1D_model()\n",
    "model_conv1D.summary()"
   ]
  },
  {
   "cell_type": "code",
   "execution_count": 43,
   "metadata": {},
   "outputs": [
    {
     "name": "stdout",
     "output_type": "stream",
     "text": [
      "Epoch 1/5\n",
      "732/732 [==============================] - 2s 2ms/step - loss: 1268.0114 - acc: 0.6299\n",
      "Epoch 2/5\n",
      "732/732 [==============================] - 2s 3ms/step - loss: 237.9297 - acc: 0.6633\n",
      "Epoch 3/5\n",
      "732/732 [==============================] - 2s 2ms/step - loss: 192.6867 - acc: 0.6866\n",
      "Epoch 4/5\n",
      "732/732 [==============================] - 2s 2ms/step - loss: 32.2543 - acc: 0.7212\n",
      "Epoch 5/5\n",
      "732/732 [==============================] - 2s 2ms/step - loss: 20.1534 - acc: 0.7526\n",
      "183/183 [==============================] - 0s 947us/step - loss: 18.4620 - acc: 0.7756\n",
      "Score for fold 1: loss of 18.462017059326172; acc of 77.56147384643555%\n",
      "Epoch 1/5\n",
      "732/732 [==============================] - 2s 2ms/step - loss: 39.4565 - acc: 0.7549\n",
      "Epoch 2/5\n",
      "732/732 [==============================] - 2s 2ms/step - loss: 6.8789 - acc: 0.8008\n",
      "Epoch 3/5\n",
      "732/732 [==============================] - 2s 2ms/step - loss: 6.1825 - acc: 0.8221\n",
      "Epoch 4/5\n",
      "732/732 [==============================] - 2s 2ms/step - loss: 21.1545 - acc: 0.7750\n",
      "Epoch 5/5\n",
      "732/732 [==============================] - 2s 2ms/step - loss: 0.5229 - acc: 0.7641\n",
      "183/183 [==============================] - 0s 1ms/step - loss: 0.4895 - acc: 0.7742\n",
      "Score for fold 2: loss of 0.4894893765449524; acc of 77.42486596107483%\n",
      "Epoch 1/5\n",
      "732/732 [==============================] - 2s 3ms/step - loss: 0.4900 - acc: 0.7744\n",
      "Epoch 2/5\n",
      "732/732 [==============================] - 2s 2ms/step - loss: 0.4763 - acc: 0.7788\n",
      "Epoch 3/5\n",
      "732/732 [==============================] - 2s 2ms/step - loss: 0.4707 - acc: 0.7820\n",
      "Epoch 4/5\n",
      "732/732 [==============================] - 2s 2ms/step - loss: 0.4629 - acc: 0.7841\n",
      "Epoch 5/5\n",
      "732/732 [==============================] - 2s 2ms/step - loss: 0.4613 - acc: 0.7846\n",
      "183/183 [==============================] - 0s 1ms/step - loss: 0.4501 - acc: 0.7889\n",
      "Score for fold 3: loss of 0.4500671625137329; acc of 78.89344096183777%\n",
      "Epoch 1/5\n",
      "732/732 [==============================] - 2s 2ms/step - loss: 0.4569 - acc: 0.7858\n",
      "Epoch 2/5\n",
      "732/732 [==============================] - 2s 2ms/step - loss: 0.4627 - acc: 0.7859\n",
      "Epoch 3/5\n",
      "732/732 [==============================] - 2s 2ms/step - loss: 0.4510 - acc: 0.7866\n",
      "Epoch 4/5\n",
      "732/732 [==============================] - 2s 2ms/step - loss: 0.4508 - acc: 0.7862\n",
      "Epoch 5/5\n",
      "732/732 [==============================] - 2s 2ms/step - loss: 0.4482 - acc: 0.7864\n",
      "183/183 [==============================] - 0s 1ms/step - loss: 0.4400 - acc: 0.7918\n",
      "Score for fold 4: loss of 0.43997275829315186; acc of 79.18374538421631%\n",
      "Epoch 1/5\n",
      "732/732 [==============================] - 2s 2ms/step - loss: 4.1161 - acc: 0.7769\n",
      "Epoch 2/5\n",
      "732/732 [==============================] - 2s 2ms/step - loss: 0.4591 - acc: 0.7842\n",
      "Epoch 3/5\n",
      "732/732 [==============================] - 2s 2ms/step - loss: 0.4665 - acc: 0.7851\n",
      "Epoch 4/5\n",
      "732/732 [==============================] - 2s 2ms/step - loss: 0.4555 - acc: 0.7859\n",
      "Epoch 5/5\n",
      "732/732 [==============================] - 2s 2ms/step - loss: 0.8803 - acc: 0.7814\n",
      "183/183 [==============================] - 0s 1ms/step - loss: 0.4615 - acc: 0.7855\n",
      "Score for fold 5: loss of 0.461517333984375; acc of 78.55191230773926%\n",
      "------------------------------------------------------------------------\n",
      "Score per fold\n",
      "------------------------------------------------------------------------\n",
      "> Fold 1 - Loss: 18.462017059326172 - Accuracy: 77.56147384643555%\n",
      "------------------------------------------------------------------------\n",
      "> Fold 2 - Loss: 0.4894893765449524 - Accuracy: 77.42486596107483%\n",
      "------------------------------------------------------------------------\n",
      "> Fold 3 - Loss: 0.4500671625137329 - Accuracy: 78.89344096183777%\n",
      "------------------------------------------------------------------------\n",
      "> Fold 4 - Loss: 0.43997275829315186 - Accuracy: 79.18374538421631%\n",
      "------------------------------------------------------------------------\n",
      "> Fold 5 - Loss: 0.461517333984375 - Accuracy: 78.55191230773926%\n",
      "------------------------------------------------------------------------\n",
      "Average scores for all folds:\n",
      "> Accuracy: 78.32308769226074 (+- 0.7078492986527062)\n",
      "> Loss: 4.060612738132477\n",
      "------------------------------------------------------------------------\n"
     ]
    }
   ],
   "source": [
    "# Define per-fold score containers\n",
    "# Define per-fold score containers\n",
    "from numpy.random import seed\n",
    "seed(1)\n",
    "import tensorflow\n",
    "tensorflow.random.set_seed(1)\n",
    "acc_per_fold = []\n",
    "loss_per_fold = []\n",
    "\n",
    "\n",
    "fold_no = 1\n",
    "for train, test in kfold.split(train_data_reshaped, y_train_mlp):\n",
    "  history = model_conv1D.fit(train_data_reshaped, y_train_mlp, verbose=1, epochs=5)\n",
    "  scores = model_conv1D.evaluate(X_test, y_test_mlp)\n",
    "  print(f'Score for fold {fold_no}: {model.metrics_names[0]} of {scores[0]}; {model.metrics_names[1]} of {scores[1]*100}%')\n",
    "  acc_per_fold.append(scores[1] * 100)\n",
    "  loss_per_fold.append(scores[0])\n",
    "\n",
    "  # Increase fold number\n",
    "  fold_no = fold_no + 1\n",
    "# == Provide average scores ==\n",
    "print('------------------------------------------------------------------------')\n",
    "print('Score per fold')\n",
    "for i in range(0, len(acc_per_fold)):\n",
    "  print('------------------------------------------------------------------------')\n",
    "  print(f'> Fold {i+1} - Loss: {loss_per_fold[i]} - Accuracy: {acc_per_fold[i]}%')\n",
    "print('------------------------------------------------------------------------')\n",
    "print('Average scores for all folds:')\n",
    "print(f'> Accuracy: {np.mean(acc_per_fold)} (+- {np.std(acc_per_fold)})')\n",
    "print(f'> Loss: {np.mean(loss_per_fold)}')\n",
    "print('------------------------------------------------------------------------')\n",
    "scores_mean = mean(acc_per_fold)/100\n",
    "scores_std = std(acc_per_fold)/100"
   ]
  },
  {
   "cell_type": "code",
   "execution_count": 44,
   "metadata": {},
   "outputs": [],
   "source": [
    "predictions = model_conv1D.predict(X_test)\n",
    "predicted_id = tf.math.argmax(predictions, axis=-1)"
   ]
  },
  {
   "cell_type": "code",
   "execution_count": 45,
   "metadata": {},
   "outputs": [],
   "source": [
    "model_name = \"CNN\"\n",
    "test_accuracy = accuracy_score(y_test,predicted_id )"
   ]
  },
  {
   "cell_type": "code",
   "execution_count": 46,
   "metadata": {},
   "outputs": [],
   "source": [
    "best_params = model_conv1D.optimizer.get_config()"
   ]
  },
  {
   "cell_type": "code",
   "execution_count": 47,
   "metadata": {},
   "outputs": [],
   "source": [
    "model_data_train = dict(model_name = model_name,\n",
    "                  #best_params = best_params,\n",
    "                  train_score_accuracy = scores_mean,\n",
    "                  train_scores_std = scores_std,\n",
    "                  #test_accuracy = test_accuracy,\n",
    "                  )\n",
    "\n",
    "model_results_train = model_results_train.append(model_data_train, ignore_index=True)\n",
    "\n",
    "model_data_test = dict(model_name = model_name,\n",
    "                  #best_params = best_params,\n",
    "                  #train_score_accuracy = scores_mean,\n",
    "                  #train_scores_std = scores_std,\n",
    "                  test_accuracy = test_accuracy,\n",
    "                  )\n",
    "\n",
    "model_results_test = model_results_test.append(model_data_test, ignore_index=True)\n",
    "\n",
    "model_data_para = dict(model_name = model_name,\n",
    "                  best_params = best_params,\n",
    "                  #train_score_accuracy = scores_mean,\n",
    "                  #train_scores_std = scores_std,\n",
    "                  #test_accuracy = test_accuracy,\n",
    "                  )\n",
    "\n",
    "model_results_para= model_results_para.append(model_data_para, ignore_index=True)\n",
    "\n",
    "\n",
    "report = classification_report(y_test, predicted_id, digits=4,output_dict=True)\n",
    "\n",
    "report = pd.DataFrame(report)\n",
    "\n",
    "report =report['weighted avg'][0:3]\n",
    "report[\"model_name\"] = model_name\n",
    "report[\"Accuracy\"] = test_accuracy\n",
    "classify_report = classify_report.append(report, ignore_index = True)\n",
    "\n",
    "classify_report= classify_report[['model_name','Accuracy','precision','recall','f1-score']]"
   ]
  },
  {
   "cell_type": "code",
   "execution_count": 48,
   "metadata": {},
   "outputs": [],
   "source": [
    "model_results_train = model_results_train.round(4)\n",
    "classify_report = classify_report.round(4)"
   ]
  },
  {
   "cell_type": "markdown",
   "metadata": {},
   "source": [
    "We  employ hyperparameter tuning for models. The parameters of machine learning models were optimised, and the values of the parameters are shown in Table 2. Afterwards, we used the optimal parameters to train the models. Table 3 displays the accuracy of seven machine learning models during the training phase. We find that Xgboost has the highest accuracy for training data (94.89%), followed by the RF (90.47%)"
   ]
  },
  {
   "cell_type": "code",
   "execution_count": 49,
   "metadata": {},
   "outputs": [
    {
     "data": {
      "text/html": [
       "<div>\n",
       "<style scoped>\n",
       "    .dataframe tbody tr th:only-of-type {\n",
       "        vertical-align: middle;\n",
       "    }\n",
       "\n",
       "    .dataframe tbody tr th {\n",
       "        vertical-align: top;\n",
       "    }\n",
       "\n",
       "    .dataframe thead th {\n",
       "        text-align: right;\n",
       "    }\n",
       "</style>\n",
       "<table border=\"1\" class=\"dataframe\">\n",
       "  <thead>\n",
       "    <tr style=\"text-align: right;\">\n",
       "      <th></th>\n",
       "      <th>model_name</th>\n",
       "      <th>best_params</th>\n",
       "    </tr>\n",
       "  </thead>\n",
       "  <tbody>\n",
       "    <tr>\n",
       "      <th>0</th>\n",
       "      <td>LR</td>\n",
       "      <td>{'lr__estimator__C': 1, 'lr__estimator__max_it...</td>\n",
       "    </tr>\n",
       "    <tr>\n",
       "      <th>1</th>\n",
       "      <td>KNN</td>\n",
       "      <td>{'knc__estimator__n_neighbors': 5, 'knc__estim...</td>\n",
       "    </tr>\n",
       "    <tr>\n",
       "      <th>2</th>\n",
       "      <td>NB</td>\n",
       "      <td>{'nb__estimator__var_smoothing': 10}</td>\n",
       "    </tr>\n",
       "    <tr>\n",
       "      <th>3</th>\n",
       "      <td>RF</td>\n",
       "      <td>{'rf__estimator__criterion': 'gini', 'rf__esti...</td>\n",
       "    </tr>\n",
       "    <tr>\n",
       "      <th>4</th>\n",
       "      <td>XGBoost</td>\n",
       "      <td>{'xg__estimator__colsample_bytree': 0.8, 'xg__...</td>\n",
       "    </tr>\n",
       "    <tr>\n",
       "      <th>5</th>\n",
       "      <td>MLP</td>\n",
       "      <td>{'name': 'Adam', 'learning_rate': 0.01, 'decay...</td>\n",
       "    </tr>\n",
       "    <tr>\n",
       "      <th>6</th>\n",
       "      <td>CNN</td>\n",
       "      <td>{'name': 'Adam', 'learning_rate': 0.001, 'deca...</td>\n",
       "    </tr>\n",
       "  </tbody>\n",
       "</table>\n",
       "</div>"
      ],
      "text/plain": [
       "  model_name                                        best_params\n",
       "0         LR  {'lr__estimator__C': 1, 'lr__estimator__max_it...\n",
       "1        KNN  {'knc__estimator__n_neighbors': 5, 'knc__estim...\n",
       "2         NB               {'nb__estimator__var_smoothing': 10}\n",
       "3         RF  {'rf__estimator__criterion': 'gini', 'rf__esti...\n",
       "4    XGBoost  {'xg__estimator__colsample_bytree': 0.8, 'xg__...\n",
       "5        MLP  {'name': 'Adam', 'learning_rate': 0.01, 'decay...\n",
       "6        CNN  {'name': 'Adam', 'learning_rate': 0.001, 'deca..."
      ]
     },
     "execution_count": 49,
     "metadata": {},
     "output_type": "execute_result"
    }
   ],
   "source": [
    "model_results_para"
   ]
  },
  {
   "cell_type": "code",
   "execution_count": 50,
   "metadata": {},
   "outputs": [
    {
     "data": {
      "text/html": [
       "<div>\n",
       "<style scoped>\n",
       "    .dataframe tbody tr th:only-of-type {\n",
       "        vertical-align: middle;\n",
       "    }\n",
       "\n",
       "    .dataframe tbody tr th {\n",
       "        vertical-align: top;\n",
       "    }\n",
       "\n",
       "    .dataframe thead th {\n",
       "        text-align: right;\n",
       "    }\n",
       "</style>\n",
       "<table border=\"1\" class=\"dataframe\">\n",
       "  <thead>\n",
       "    <tr style=\"text-align: right;\">\n",
       "      <th></th>\n",
       "      <th>model_name</th>\n",
       "      <th>train_score_accuracy</th>\n",
       "      <th>train_scores_std</th>\n",
       "    </tr>\n",
       "  </thead>\n",
       "  <tbody>\n",
       "    <tr>\n",
       "      <th>0</th>\n",
       "      <td>LR</td>\n",
       "      <td>0.7077</td>\n",
       "      <td>0.0069</td>\n",
       "    </tr>\n",
       "    <tr>\n",
       "      <th>1</th>\n",
       "      <td>KNN</td>\n",
       "      <td>0.7631</td>\n",
       "      <td>0.0052</td>\n",
       "    </tr>\n",
       "    <tr>\n",
       "      <th>2</th>\n",
       "      <td>NB</td>\n",
       "      <td>0.6131</td>\n",
       "      <td>0.0001</td>\n",
       "    </tr>\n",
       "    <tr>\n",
       "      <th>3</th>\n",
       "      <td>RF</td>\n",
       "      <td>0.9047</td>\n",
       "      <td>0.0083</td>\n",
       "    </tr>\n",
       "    <tr>\n",
       "      <th>4</th>\n",
       "      <td>XGBoost</td>\n",
       "      <td>0.9489</td>\n",
       "      <td>0.0011</td>\n",
       "    </tr>\n",
       "    <tr>\n",
       "      <th>5</th>\n",
       "      <td>MLP</td>\n",
       "      <td>0.7744</td>\n",
       "      <td>0.0114</td>\n",
       "    </tr>\n",
       "    <tr>\n",
       "      <th>6</th>\n",
       "      <td>CNN</td>\n",
       "      <td>0.7832</td>\n",
       "      <td>0.0071</td>\n",
       "    </tr>\n",
       "  </tbody>\n",
       "</table>\n",
       "</div>"
      ],
      "text/plain": [
       "  model_name  train_score_accuracy  train_scores_std\n",
       "0         LR                0.7077            0.0069\n",
       "1        KNN                0.7631            0.0052\n",
       "2         NB                0.6131            0.0001\n",
       "3         RF                0.9047            0.0083\n",
       "4    XGBoost                0.9489            0.0011\n",
       "5        MLP                0.7744            0.0114\n",
       "6        CNN                0.7832            0.0071"
      ]
     },
     "execution_count": 50,
     "metadata": {},
     "output_type": "execute_result"
    }
   ],
   "source": [
    "model_results_train"
   ]
  },
  {
   "cell_type": "markdown",
   "metadata": {},
   "source": [
    "Further, Table 4 shows the accuracy and evaluation metrics for seven models for the testing phase. We found that the RF and XGBoost methods outperformed the others. XGboost has the highest testing accuracy score of 95.05%, while the other techniques demonstrated higher than 70% testing accuracy. At the same time, XGboost has the best precision, and different approaches achieve a precision of better than 70%. Overall, the XGboost model outperforms the others in the experiment. "
   ]
  },
  {
   "cell_type": "code",
   "execution_count": 51,
   "metadata": {},
   "outputs": [
    {
     "data": {
      "text/html": [
       "<div>\n",
       "<style scoped>\n",
       "    .dataframe tbody tr th:only-of-type {\n",
       "        vertical-align: middle;\n",
       "    }\n",
       "\n",
       "    .dataframe tbody tr th {\n",
       "        vertical-align: top;\n",
       "    }\n",
       "\n",
       "    .dataframe thead th {\n",
       "        text-align: right;\n",
       "    }\n",
       "</style>\n",
       "<table border=\"1\" class=\"dataframe\">\n",
       "  <thead>\n",
       "    <tr style=\"text-align: right;\">\n",
       "      <th></th>\n",
       "      <th>model_name</th>\n",
       "      <th>Accuracy</th>\n",
       "      <th>precision</th>\n",
       "      <th>recall</th>\n",
       "      <th>f1-score</th>\n",
       "    </tr>\n",
       "  </thead>\n",
       "  <tbody>\n",
       "    <tr>\n",
       "      <th>0</th>\n",
       "      <td>LR</td>\n",
       "      <td>0.7404</td>\n",
       "      <td>0.7492</td>\n",
       "      <td>0.7404</td>\n",
       "      <td>0.7334</td>\n",
       "    </tr>\n",
       "    <tr>\n",
       "      <th>1</th>\n",
       "      <td>KNN</td>\n",
       "      <td>0.7633</td>\n",
       "      <td>0.7554</td>\n",
       "      <td>0.7633</td>\n",
       "      <td>0.7546</td>\n",
       "    </tr>\n",
       "    <tr>\n",
       "      <th>2</th>\n",
       "      <td>NB</td>\n",
       "      <td>0.6281</td>\n",
       "      <td>0.6090</td>\n",
       "      <td>0.6281</td>\n",
       "      <td>0.5447</td>\n",
       "    </tr>\n",
       "    <tr>\n",
       "      <th>3</th>\n",
       "      <td>RF</td>\n",
       "      <td>0.8849</td>\n",
       "      <td>0.8929</td>\n",
       "      <td>0.8849</td>\n",
       "      <td>0.8840</td>\n",
       "    </tr>\n",
       "    <tr>\n",
       "      <th>4</th>\n",
       "      <td>XGBoost</td>\n",
       "      <td>0.9505</td>\n",
       "      <td>0.9526</td>\n",
       "      <td>0.9505</td>\n",
       "      <td>0.9511</td>\n",
       "    </tr>\n",
       "    <tr>\n",
       "      <th>5</th>\n",
       "      <td>MLP</td>\n",
       "      <td>0.7678</td>\n",
       "      <td>0.8546</td>\n",
       "      <td>0.7678</td>\n",
       "      <td>0.7834</td>\n",
       "    </tr>\n",
       "    <tr>\n",
       "      <th>6</th>\n",
       "      <td>CNN</td>\n",
       "      <td>0.7855</td>\n",
       "      <td>0.8791</td>\n",
       "      <td>0.7855</td>\n",
       "      <td>0.8005</td>\n",
       "    </tr>\n",
       "  </tbody>\n",
       "</table>\n",
       "</div>"
      ],
      "text/plain": [
       "  model_name  Accuracy  precision  recall  f1-score\n",
       "0         LR    0.7404     0.7492  0.7404    0.7334\n",
       "1        KNN    0.7633     0.7554  0.7633    0.7546\n",
       "2         NB    0.6281     0.6090  0.6281    0.5447\n",
       "3         RF    0.8849     0.8929  0.8849    0.8840\n",
       "4    XGBoost    0.9505     0.9526  0.9505    0.9511\n",
       "5        MLP    0.7678     0.8546  0.7678    0.7834\n",
       "6        CNN    0.7855     0.8791  0.7855    0.8005"
      ]
     },
     "execution_count": 51,
     "metadata": {},
     "output_type": "execute_result"
    }
   ],
   "source": [
    "classify_report"
   ]
  },
  {
   "cell_type": "code",
   "execution_count": 52,
   "metadata": {},
   "outputs": [],
   "source": [
    "model_results_para.to_csv(\"../results/Table2.csv\", index = False)\n",
    "model_results_train.to_csv(\"../results/Table3.csv\", index = False)\n",
    "classify_report.to_csv(\"../results/Table4.csv\", index = False)"
   ]
  },
  {
   "cell_type": "markdown",
   "metadata": {},
   "source": [
    "## 4. Evaluation of features"
   ]
  },
  {
   "cell_type": "markdown",
   "metadata": {},
   "source": [
    "## 4.1 Patient features only"
   ]
  },
  {
   "cell_type": "markdown",
   "metadata": {},
   "source": [
    "We train and test machine learning models without using the network features or patient features to evaluate the network features retrieved from the patient network. The accuracy of the seven machine learning models with ‘patient features only’ and ‘network features only’ is shown in Table 5. The results demonstrate that models with only the patient features have accuracy ranging from 62.11to 69.66%, which is significantly lower than models containing both network and patient features. On the other hand, models with only network features have an accuracy range of 59.27% to 75.41%, which is also lower than the complete features models. As a result, we can argue that network features play an essential role in multimorbidity prediction, and the combination of patient features and network features increases the prediction accuracy."
   ]
  },
  {
   "cell_type": "code",
   "execution_count": 53,
   "metadata": {},
   "outputs": [],
   "source": [
    "X = X.iloc[:, [0,1,2,3,4,5,6,7,8,9,10,11,12,13,14,15,16,27]]"
   ]
  },
  {
   "cell_type": "code",
   "execution_count": 54,
   "metadata": {},
   "outputs": [],
   "source": [
    "X_train, X_test, y_train, y_test = train_test_split(X, \n",
    "                                                    y, \n",
    "                                                    test_size = 0.2,\n",
    "                                                    random_state = 1234)\n",
    "\n",
    "weights = [1 if x == 1 else 0.5  for x in [ y > 1 and e > 1 for y, e in zip(X_train['Years_at_label'], X_train['Episode_num'])]]"
   ]
  },
  {
   "cell_type": "markdown",
   "metadata": {},
   "source": [
    "### 4.1.1 LR"
   ]
  },
  {
   "cell_type": "code",
   "execution_count": 55,
   "metadata": {},
   "outputs": [
    {
     "name": "stdout",
     "output_type": "stream",
     "text": [
      "Total run time for Multiclass Logistic Regresion with is:\n",
      "0.29 minutes.\n"
     ]
    }
   ],
   "source": [
    "# 1. running a logistic regression model with PCA\n",
    "## 1.1 build a pipeline\n",
    "pipe = Pipeline([\n",
    "    ('pca', PCA()),\n",
    "    (\"lr\", OneVsRestClassifier(LogisticRegression(penalty = \"l2\")))\n",
    "    ])\n",
    "### check available parameters: OneVsRestClassifier(LogisticRegression(penalty = \"l2\")).get_params().keys()\n",
    "\n",
    "## 1.2 create param for grid search\n",
    "param = dict(pca__n_components = [10, 25, 34],\n",
    "             lr__estimator__C = [1, 5, 10],\n",
    "             lr__estimator__max_iter = [100, 500, 1000])\n",
    "\n",
    "## 1.3 perform grid serach with cross validation\n",
    "gs = GridSearchCV(pipe, param_grid = param, scoring = auc_score)\n",
    "\n",
    "begin = timeit.default_timer()\n",
    "gs_result = gs.fit(X_train, y_train)\n",
    "end = timeit.default_timer()\n",
    "total_run_mins = (end - begin) / 60\n",
    "print(\"Total run time for Multiclass Logistic Regresion with is:\\n%.2f minutes.\" % total_run_mins)\n",
    "\n"
   ]
  },
  {
   "cell_type": "code",
   "execution_count": 56,
   "metadata": {},
   "outputs": [],
   "source": [
    "## 1.4 record the results\n",
    "model_name = \"LR\"\n",
    "#model_algorithm = \"Logistic Regression\"\n",
    "best_params = gs_result.best_params_\n",
    "param_str = \"LR_\" + str(best_params['lr__estimator__C']) + \"_\" +  str(best_params['lr__estimator__max_iter']) + \"_\" + str(best_params['pca__n_components'])\n",
    "#filename = \"model/Model_\" + model_name + \"_\" + param_str + '.pkl'\n",
    "best_model = gs_result.best_estimator_\n",
    "\n"
   ]
  },
  {
   "cell_type": "code",
   "execution_count": 57,
   "metadata": {},
   "outputs": [
    {
     "name": "stdout",
     "output_type": "stream",
     "text": [
      "Testing Accuracy: 0.6549\n"
     ]
    }
   ],
   "source": [
    "## test accuracy\n",
    "y_pred_prob = gs_result.predict_proba(X_test)\n",
    "y_pred = np.argmax(y_pred_prob, axis = 1)\n",
    "test_accuracy = np.mean(y_test == y_pred)\n",
    "print('Testing Accuracy: %.4f' % (test_accuracy))"
   ]
  },
  {
   "cell_type": "code",
   "execution_count": 58,
   "metadata": {},
   "outputs": [],
   "source": [
    "model_results_test_patient_features = pd.DataFrame()\n",
    "\n",
    "\n",
    "\n",
    "model_data_test_patient_features = dict(model_name = model_name,\n",
    "                  #best_params = best_params,\n",
    "                  #train_score_accuracy = scores_mean,\n",
    "                  #train_scores_std = scores_std,\n",
    "                  test_accuracy = test_accuracy,\n",
    "                  )\n",
    "\n",
    "model_results_test_patient_features = model_results_test_patient_features.append(model_data_test_patient_features, ignore_index=True)\n",
    "\n"
   ]
  },
  {
   "cell_type": "markdown",
   "metadata": {},
   "source": [
    "### 4.1.2 KNN"
   ]
  },
  {
   "cell_type": "code",
   "execution_count": 59,
   "metadata": {},
   "outputs": [
    {
     "name": "stdout",
     "output_type": "stream",
     "text": [
      "Total run time for Multiclass Kneighbor Classifier with is:\n",
      "0.22 minutes.\n"
     ]
    }
   ],
   "source": [
    "# 2. running a Kneighbor Classifier model with PCA\n",
    "## 2.1 build a pipeline\n",
    "pipe = Pipeline([\n",
    "    ('pca', PCA()),\n",
    "    (\"knc\", OneVsRestClassifier(KNeighborsClassifier()))\n",
    "    ])\n",
    "### check available parameters: OneVsRestClassifier(KNeighborsClassifier()).get_params().keys()\n",
    "\n",
    "## 2.2 create param for grid search\n",
    "param = dict(pca__n_components = [10, 25, 34],\n",
    "             knc__estimator__n_neighbors = [5, 15, 25],\n",
    "             knc__estimator__weights = [\"uniform\", \"distance\"])\n",
    "\n",
    "## 2.3 perform grid serach with cross validation\n",
    "gs = GridSearchCV(pipe, param_grid = param, scoring = auc_score)\n",
    "\n",
    "begin = timeit.default_timer()\n",
    "gs_result = gs.fit(X_train, y_train)\n",
    "end = timeit.default_timer()\n",
    "total_run_mins = (end - begin) / 60\n",
    "print(\"Total run time for Multiclass Kneighbor Classifier with is:\\n%.2f minutes.\" % total_run_mins)\n",
    "\n",
    "\n"
   ]
  },
  {
   "cell_type": "code",
   "execution_count": 60,
   "metadata": {},
   "outputs": [],
   "source": [
    "model_name = \"KNN\"\n",
    "best_params = gs_result.best_params_\n",
    "param_str = \"KNN_\" + str(best_params['knc__estimator__n_neighbors']) + \"_\" +  str(best_params['knc__estimator__weights']) + \"_\" + str(best_params['pca__n_components'])\n",
    "#filename = \"model/Model_\" + model_name + \"_\" + param_str + '.pkl'\n",
    "best_model = gs_result.best_estimator_\n",
    "\n"
   ]
  },
  {
   "cell_type": "code",
   "execution_count": 61,
   "metadata": {},
   "outputs": [
    {
     "name": "stdout",
     "output_type": "stream",
     "text": [
      "Testing Accuracy: 0.6417\n"
     ]
    }
   ],
   "source": [
    "## test accuracy\n",
    "y_pred_prob = gs_result.predict_proba(X_test)\n",
    "y_pred = np.argmax(y_pred_prob, axis = 1)\n",
    "test_accuracy = np.mean(y_test == y_pred)\n",
    "print('Testing Accuracy: %.4f' % (test_accuracy))"
   ]
  },
  {
   "cell_type": "code",
   "execution_count": 62,
   "metadata": {},
   "outputs": [],
   "source": [
    "model_data_test_patient_features = dict(model_name = model_name,\n",
    "                  #best_params = best_params,\n",
    "                  #train_score_accuracy = scores_mean,\n",
    "                  #train_scores_std = scores_std,\n",
    "                  test_accuracy = test_accuracy,\n",
    "                  )\n",
    "\n",
    "model_results_test_patient_features = model_results_test_patient_features.append(model_data_test_patient_features, ignore_index=True)"
   ]
  },
  {
   "cell_type": "markdown",
   "metadata": {},
   "source": [
    "### 4.1.3 NB"
   ]
  },
  {
   "cell_type": "code",
   "execution_count": 63,
   "metadata": {},
   "outputs": [
    {
     "name": "stdout",
     "output_type": "stream",
     "text": [
      "Total run time for Multiclass Gaussian NaiveBayes with is:\n",
      "0.03 minutes.\n"
     ]
    }
   ],
   "source": [
    "# 3. running a GaussianNB with Standsclaer\n",
    "## 3.1 build a pipeline\n",
    "pipe = Pipeline([\n",
    "    ('ss', StandardScaler()),\n",
    "    (\"nb\", OneVsRestClassifier(GaussianNB()))\n",
    "    ])\n",
    "### check available parameters: OneVsRestClassifier(GaussianNB()).get_params().keys()\n",
    "\n",
    "## 3.2 create param for grid search\n",
    "param = dict(nb__estimator__var_smoothing = [10, 1, 0.1, 0.01, 0.001, 0.0001, 1e-6,1e-8, 1e-9])\n",
    "\n",
    "## 3.3 perform grid serach with cross validation\n",
    "gs = GridSearchCV(pipe, param_grid = param, scoring = auc_score)\n",
    "\n",
    "begin = timeit.default_timer()\n",
    "gs_result = gs.fit(X_train, y_train)\n",
    "end = timeit.default_timer()\n",
    "total_run_mins = (end - begin) / 60\n",
    "print(\"Total run time for Multiclass Gaussian NaiveBayes with is:\\n%.2f minutes.\" % total_run_mins)"
   ]
  },
  {
   "cell_type": "code",
   "execution_count": 64,
   "metadata": {},
   "outputs": [],
   "source": [
    "## 3.4 record the results\n",
    "model_name = \"NB\"\n",
    "best_params = gs_result.best_params_\n",
    "param_str = \"NB_\" + str(best_params['nb__estimator__var_smoothing']) \n",
    "\n",
    "## the model to disk\n",
    "best_model = gs_result.best_estimator_"
   ]
  },
  {
   "cell_type": "code",
   "execution_count": 65,
   "metadata": {},
   "outputs": [
    {
     "name": "stdout",
     "output_type": "stream",
     "text": [
      "Testing Accuracy: 0.6219\n"
     ]
    }
   ],
   "source": [
    "## test accuracy\n",
    "y_pred_prob = gs_result.predict_proba(X_test)\n",
    "y_pred = np.argmax(y_pred_prob, axis = 1)\n",
    "test_accuracy = np.mean(y_test == y_pred)\n",
    "print('Testing Accuracy: %.4f' % (test_accuracy))"
   ]
  },
  {
   "cell_type": "code",
   "execution_count": 66,
   "metadata": {},
   "outputs": [],
   "source": [
    "model_data_test_patient_features = dict(model_name = model_name,\n",
    "                  #best_params = best_params,\n",
    "                  #train_score_accuracy = scores_mean,\n",
    "                  #train_scores_std = scores_std,\n",
    "                  test_accuracy = test_accuracy,\n",
    "                  )\n",
    "\n",
    "model_results_test_patient_features = model_results_test_patient_features.append(model_data_test_patient_features, ignore_index=True)"
   ]
  },
  {
   "cell_type": "markdown",
   "metadata": {},
   "source": [
    "### 4.1.4 RF"
   ]
  },
  {
   "cell_type": "code",
   "execution_count": 67,
   "metadata": {},
   "outputs": [
    {
     "name": "stdout",
     "output_type": "stream",
     "text": [
      "Total run time for Multiclass RandomForest with is:\n",
      "0.24 minutes.\n"
     ]
    }
   ],
   "source": [
    "# 4. running a Support Vector Machine model with RandomForest Classifier\n",
    "## 4.1 build a pipeline\n",
    "pipe = Pipeline([\n",
    "    ('ss', StandardScaler()),\n",
    "    (\"rf\", OneVsRestClassifier(RandomForestClassifier()))\n",
    "    ])\n",
    "### check available parameters: OneVsRestClassifier(RandomForestClassifier()).get_params().keys()\n",
    "\n",
    "## 4.2 create param for grid search\n",
    "param = dict(rf__estimator__n_estimators = [1, 5, 10],\n",
    "             rf__estimator__criterion = ['gini', 'entropy'],\n",
    "             rf__estimator__max_features = ['sqrt', 'log2'])\n",
    "\n",
    "## 4.3 perform grid serach with cross validation\n",
    "gs = GridSearchCV(pipe, param_grid = param, scoring = auc_score)\n",
    "\n",
    "begin = timeit.default_timer()\n",
    "gs_result = gs.fit(X_train, y_train)\n",
    "end = timeit.default_timer()\n",
    "total_run_mins = (end - begin) / 60\n",
    "print(\"Total run time for Multiclass RandomForest with is:\\n%.2f minutes.\" % total_run_mins)\n",
    "\n"
   ]
  },
  {
   "cell_type": "code",
   "execution_count": 68,
   "metadata": {},
   "outputs": [],
   "source": [
    "## 4.4 record the results\n",
    "model_name = \"RF\"\n",
    "best_params = gs_result.best_params_\n",
    "param_str = \"RF_\" + str(best_params['rf__estimator__n_estimators']) + \"_\" +  str(best_params['rf__estimator__criterion']) + \\\n",
    "                 str(best_params['rf__estimator__max_features'])\n",
    "\n",
    "## the model to disk\n",
    "best_model = gs_result.best_estimator_"
   ]
  },
  {
   "cell_type": "code",
   "execution_count": 69,
   "metadata": {},
   "outputs": [
    {
     "name": "stdout",
     "output_type": "stream",
     "text": [
      "Testing Accuracy: 0.5927\n"
     ]
    }
   ],
   "source": [
    "## test accuracy\n",
    "y_pred_prob = gs_result.predict_proba(X_test)\n",
    "y_pred = np.argmax(y_pred_prob, axis = 1)\n",
    "test_accuracy = np.mean(y_test == y_pred)\n",
    "print('Testing Accuracy: %.4f' % (test_accuracy))"
   ]
  },
  {
   "cell_type": "code",
   "execution_count": 70,
   "metadata": {},
   "outputs": [],
   "source": [
    "model_data_test_patient_features = dict(model_name = model_name,\n",
    "                  #best_params = best_params,\n",
    "                  #train_score_accuracy = scores_mean,\n",
    "                  #train_scores_std = scores_std,\n",
    "                  test_accuracy = test_accuracy,\n",
    "                  )\n",
    "\n",
    "model_results_test_patient_features = model_results_test_patient_features.append(model_data_test_patient_features, ignore_index=True)"
   ]
  },
  {
   "cell_type": "markdown",
   "metadata": {},
   "source": [
    "### 4.1.5 Xgboost"
   ]
  },
  {
   "cell_type": "code",
   "execution_count": 71,
   "metadata": {},
   "outputs": [
    {
     "name": "stdout",
     "output_type": "stream",
     "text": [
      "Total run time for Multiclass xgBoost with is:\n",
      "2.82 minutes.\n"
     ]
    }
   ],
   "source": [
    "## 5.1 build a pipeline\n",
    "pipe = Pipeline([\n",
    "    ('ss', StandardScaler()),\n",
    "    (\"xg\", OneVsRestClassifier(xgb.XGBClassifier(scale_pos_weight = 1,\n",
    "                                                 min_child_weight = 1, \n",
    "                                                 objective = 'binary:logistic')))  \n",
    "    ])\n",
    "### check available parameters: OneVsRestClassifier(xgb.XGBClassifier()).get_params().keys()\n",
    "\n",
    "## 5.2 create param for grid search\n",
    "param = dict(xg__estimator__n_estimators = [2000], # [1000, 2000, 3000]\n",
    "             xg__estimator__max_depth = [5], # [3, 4, 5]\n",
    "             xg__estimator__subsample = [0.8], # [0.5, 0.7, 0.8]\n",
    "             xg__estimator__learning_rate = [0.01], # [0.01, 0.02, 0.05]\n",
    "             xg__estimator__colsample_bytree = [0.8] # [0.5, 0.7, 0.8]\n",
    "             )\n",
    "\n",
    "## 5.3 perform grid serach with cross validation\n",
    "gs = GridSearchCV(pipe, param_grid = param, scoring = auc_score)\n",
    "\n",
    "begin = timeit.default_timer()\n",
    "gs_result = gs.fit(X_train, y_train)\n",
    "end = timeit.default_timer()\n",
    "total_run_mins = (end - begin) / 60\n",
    "print(\"Total run time for Multiclass xgBoost with is:\\n%.2f minutes.\" % total_run_mins)"
   ]
  },
  {
   "cell_type": "code",
   "execution_count": 72,
   "metadata": {},
   "outputs": [],
   "source": [
    "## 5.4 record the results\n",
    "model_name = \"XGBoost\"\n",
    "best_params = gs_result.best_params_\n",
    "param_str = \"XG_\" + str(best_params['xg__estimator__n_estimators']) + \"_\" +  str(best_params['xg__estimator__max_depth']) + \\\n",
    "                    str(best_params['xg__estimator__subsample']) + \"_\" +  str(best_params['xg__estimator__colsample_bytree'])\n",
    "    \n",
    "\n",
    "## the model to disk\n",
    "best_model = gs_result.best_estimator_"
   ]
  },
  {
   "cell_type": "code",
   "execution_count": 73,
   "metadata": {},
   "outputs": [
    {
     "name": "stdout",
     "output_type": "stream",
     "text": [
      "Testing Accuracy: 0.7541\n"
     ]
    }
   ],
   "source": [
    "## test accuracy\n",
    "y_pred_prob = gs_result.predict_proba(X_test)\n",
    "y_pred = np.argmax(y_pred_prob, axis = 1)\n",
    "test_accuracy = np.mean(y_test == y_pred)\n",
    "print('Testing Accuracy: %.4f' % (test_accuracy))\n",
    "\n"
   ]
  },
  {
   "cell_type": "code",
   "execution_count": 74,
   "metadata": {},
   "outputs": [],
   "source": [
    "model_data_test_patient_features = dict(model_name = model_name,\n",
    "                  #best_params = best_params,\n",
    "                  #train_score_accuracy = scores_mean,\n",
    "                  #train_scores_std = scores_std,\n",
    "                  test_accuracy = test_accuracy,\n",
    "                  )\n",
    "\n",
    "model_results_test_patient_features = model_results_test_patient_features.append(model_data_test_patient_features, ignore_index=True)"
   ]
  },
  {
   "cell_type": "markdown",
   "metadata": {},
   "source": [
    "### 4.1.6 MLP"
   ]
  },
  {
   "cell_type": "code",
   "execution_count": 75,
   "metadata": {},
   "outputs": [],
   "source": [
    "kfold = KFold(n_splits=5, shuffle=True)\n",
    "X_train, X_test, y_train, y_test = train_test_split(X, \n",
    "                                                    y, \n",
    "                                                    test_size = 0.2,\n",
    "                                                    random_state = 1234)\n",
    "\n",
    "\n",
    "y_train_mlp = to_categorical(y_train)\n",
    "y_test_mlp = to_categorical(y_test)"
   ]
  },
  {
   "cell_type": "code",
   "execution_count": 76,
   "metadata": {},
   "outputs": [
    {
     "name": "stdout",
     "output_type": "stream",
     "text": [
      "------------------------------------------------------------------------\n",
      "Training for fold 1 ...\n",
      "Epoch 1/20\n",
      "732/732 [==============================] - 1s 960us/step - loss: 0.8995 - acc: 0.6648\n",
      "Epoch 2/20\n",
      "732/732 [==============================] - 1s 963us/step - loss: 0.6203 - acc: 0.7103\n",
      "Epoch 3/20\n",
      "732/732 [==============================] - 1s 975us/step - loss: 0.6042 - acc: 0.7134\n",
      "Epoch 4/20\n",
      "732/732 [==============================] - 1s 999us/step - loss: 0.6129 - acc: 0.7089\n",
      "Epoch 5/20\n",
      "732/732 [==============================] - 1s 963us/step - loss: 0.5868 - acc: 0.7204\n",
      "Epoch 6/20\n",
      "732/732 [==============================] - 1s 959us/step - loss: 0.5749 - acc: 0.7229\n",
      "Epoch 7/20\n",
      "732/732 [==============================] - 1s 958us/step - loss: 0.5824 - acc: 0.7229\n",
      "Epoch 8/20\n",
      "732/732 [==============================] - 1s 958us/step - loss: 0.5784 - acc: 0.7258\n",
      "Epoch 9/20\n",
      "732/732 [==============================] - 1s 971us/step - loss: 0.6030 - acc: 0.7208\n",
      "Epoch 10/20\n",
      "732/732 [==============================] - 1s 961us/step - loss: 0.5719 - acc: 0.7261\n",
      "Epoch 11/20\n",
      "732/732 [==============================] - 1s 960us/step - loss: 0.5767 - acc: 0.7209\n",
      "Epoch 12/20\n",
      "732/732 [==============================] - 1s 995us/step - loss: 0.5785 - acc: 0.7215\n",
      "Epoch 13/20\n",
      "732/732 [==============================] - 1s 973us/step - loss: 0.5721 - acc: 0.7266\n",
      "Epoch 14/20\n",
      "732/732 [==============================] - 1s 988us/step - loss: 0.5717 - acc: 0.7281\n",
      "Epoch 15/20\n",
      "732/732 [==============================] - 1s 967us/step - loss: 0.5688 - acc: 0.7289\n",
      "Epoch 16/20\n",
      "732/732 [==============================] - 1s 953us/step - loss: 0.5686 - acc: 0.7277\n",
      "Epoch 17/20\n",
      "732/732 [==============================] - 1s 961us/step - loss: 0.6464 - acc: 0.6963\n",
      "Epoch 18/20\n",
      "732/732 [==============================] - 1s 974us/step - loss: 0.5737 - acc: 0.7275\n",
      "Epoch 19/20\n",
      "732/732 [==============================] - 1s 959us/step - loss: 0.5593 - acc: 0.7291\n",
      "Epoch 20/20\n",
      "732/732 [==============================] - 1s 951us/step - loss: 0.5587 - acc: 0.7275\n",
      "183/183 [==============================] - 0s 701us/step - loss: 0.5957 - acc: 0.7117\n",
      "Score for fold 1: loss of 0.5956679582595825; acc of 71.17486596107483%\n",
      "------------------------------------------------------------------------\n",
      "Training for fold 2 ...\n",
      "Epoch 1/20\n",
      "732/732 [==============================] - 1s 957us/step - loss: 0.8784 - acc: 0.6663\n",
      "Epoch 2/20\n",
      "732/732 [==============================] - 1s 964us/step - loss: 0.6214 - acc: 0.7134\n",
      "Epoch 3/20\n",
      "732/732 [==============================] - 1s 978us/step - loss: 0.5953 - acc: 0.7144\n",
      "Epoch 4/20\n",
      "732/732 [==============================] - 1s 988us/step - loss: 0.6041 - acc: 0.7189\n",
      "Epoch 5/20\n",
      "732/732 [==============================] - 1s 980us/step - loss: 0.5800 - acc: 0.7246\n",
      "Epoch 6/20\n",
      "732/732 [==============================] - 1s 1000us/step - loss: 0.5858 - acc: 0.7246\n",
      "Epoch 7/20\n",
      "732/732 [==============================] - 1s 980us/step - loss: 0.5778 - acc: 0.7284\n",
      "Epoch 8/20\n",
      "732/732 [==============================] - 1s 981us/step - loss: 0.5777 - acc: 0.7275\n",
      "Epoch 9/20\n",
      "732/732 [==============================] - 1s 977us/step - loss: 0.5736 - acc: 0.7297\n",
      "Epoch 10/20\n",
      "732/732 [==============================] - 1s 973us/step - loss: 0.5897 - acc: 0.7221\n",
      "Epoch 11/20\n",
      "732/732 [==============================] - 1s 964us/step - loss: 0.5751 - acc: 0.7243\n",
      "Epoch 12/20\n",
      "732/732 [==============================] - 1s 988us/step - loss: 0.5746 - acc: 0.7261\n",
      "Epoch 13/20\n",
      "732/732 [==============================] - 1s 967us/step - loss: 0.5745 - acc: 0.7274\n",
      "Epoch 14/20\n",
      "732/732 [==============================] - 1s 982us/step - loss: 0.5653 - acc: 0.7293\n",
      "Epoch 15/20\n",
      "732/732 [==============================] - 1s 962us/step - loss: 0.5704 - acc: 0.7307\n",
      "Epoch 16/20\n",
      "732/732 [==============================] - 1s 969us/step - loss: 0.5632 - acc: 0.7291\n",
      "Epoch 17/20\n",
      "732/732 [==============================] - 1s 961us/step - loss: 0.5656 - acc: 0.7305\n",
      "Epoch 18/20\n",
      "732/732 [==============================] - 1s 962us/step - loss: 0.5721 - acc: 0.7258\n",
      "Epoch 19/20\n",
      "732/732 [==============================] - 1s 961us/step - loss: 0.5633 - acc: 0.7273\n",
      "Epoch 20/20\n",
      "732/732 [==============================] - 1s 977us/step - loss: 0.5647 - acc: 0.7281\n",
      "183/183 [==============================] - 0s 685us/step - loss: 0.5567 - acc: 0.7357\n",
      "Score for fold 2: loss of 0.5566787123680115; acc of 73.56557250022888%\n",
      "------------------------------------------------------------------------\n",
      "Training for fold 3 ...\n",
      "Epoch 1/20\n",
      "732/732 [==============================] - 1s 943us/step - loss: 0.9654 - acc: 0.6746\n",
      "Epoch 2/20\n",
      "732/732 [==============================] - 1s 958us/step - loss: 0.6182 - acc: 0.7117\n",
      "Epoch 3/20\n",
      "732/732 [==============================] - 1s 961us/step - loss: 0.6005 - acc: 0.7160\n",
      "Epoch 4/20\n",
      "732/732 [==============================] - 1s 954us/step - loss: 0.5910 - acc: 0.7225\n",
      "Epoch 5/20\n",
      "732/732 [==============================] - 1s 948us/step - loss: 0.5891 - acc: 0.7220\n",
      "Epoch 6/20\n",
      "732/732 [==============================] - 1s 957us/step - loss: 0.5811 - acc: 0.7244\n",
      "Epoch 7/20\n",
      "732/732 [==============================] - 1s 954us/step - loss: 0.5926 - acc: 0.7198\n",
      "Epoch 8/20\n",
      "732/732 [==============================] - 1s 972us/step - loss: 0.5741 - acc: 0.7272\n",
      "Epoch 9/20\n",
      "732/732 [==============================] - 1s 943us/step - loss: 0.5828 - acc: 0.7225\n",
      "Epoch 10/20\n",
      "732/732 [==============================] - 1s 933us/step - loss: 0.5848 - acc: 0.7204\n",
      "Epoch 11/20\n",
      "732/732 [==============================] - 1s 928us/step - loss: 0.5714 - acc: 0.7281\n",
      "Epoch 12/20\n",
      "732/732 [==============================] - 1s 931us/step - loss: 0.6101 - acc: 0.7099\n",
      "Epoch 13/20\n",
      "732/732 [==============================] - 1s 928us/step - loss: 0.5826 - acc: 0.7281\n",
      "Epoch 14/20\n",
      "732/732 [==============================] - 1s 924us/step - loss: 0.5776 - acc: 0.7276\n",
      "Epoch 15/20\n",
      "732/732 [==============================] - 1s 945us/step - loss: 0.5851 - acc: 0.7253\n",
      "Epoch 16/20\n",
      "732/732 [==============================] - 1s 943us/step - loss: 0.5746 - acc: 0.7239\n",
      "Epoch 17/20\n",
      "732/732 [==============================] - 1s 933us/step - loss: 0.5745 - acc: 0.7245\n",
      "Epoch 18/20\n",
      "732/732 [==============================] - 1s 939us/step - loss: 0.5663 - acc: 0.7277\n",
      "Epoch 19/20\n",
      "732/732 [==============================] - 1s 945us/step - loss: 0.5631 - acc: 0.7284\n",
      "Epoch 20/20\n",
      "732/732 [==============================] - 1s 948us/step - loss: 0.5675 - acc: 0.7249\n",
      "183/183 [==============================] - 0s 639us/step - loss: 0.5998 - acc: 0.7174\n",
      "Score for fold 3: loss of 0.5997885465621948; acc of 71.7383861541748%\n",
      "------------------------------------------------------------------------\n",
      "Training for fold 4 ...\n",
      "Epoch 1/20\n",
      "732/732 [==============================] - 1s 933us/step - loss: 0.9401 - acc: 0.6610\n",
      "Epoch 2/20\n",
      "732/732 [==============================] - 1s 942us/step - loss: 0.6358 - acc: 0.7030\n",
      "Epoch 3/20\n",
      "732/732 [==============================] - 1s 943us/step - loss: 0.5969 - acc: 0.7170\n",
      "Epoch 4/20\n",
      "732/732 [==============================] - 1s 945us/step - loss: 0.5918 - acc: 0.7198\n",
      "Epoch 5/20\n",
      "732/732 [==============================] - 1s 1ms/step - loss: 0.5880 - acc: 0.7239\n",
      "Epoch 6/20\n",
      "732/732 [==============================] - 1s 1ms/step - loss: 0.5985 - acc: 0.7157\n",
      "Epoch 7/20\n",
      "732/732 [==============================] - 1s 1ms/step - loss: 0.5975 - acc: 0.7220\n",
      "Epoch 8/20\n",
      "732/732 [==============================] - 1s 1ms/step - loss: 0.5773 - acc: 0.7251\n",
      "Epoch 9/20\n",
      "732/732 [==============================] - 1s 1ms/step - loss: 0.5852 - acc: 0.7222\n",
      "Epoch 10/20\n",
      "732/732 [==============================] - 1s 1ms/step - loss: 0.5712 - acc: 0.7267\n",
      "Epoch 11/20\n",
      "732/732 [==============================] - 1s 996us/step - loss: 0.5746 - acc: 0.7234\n",
      "Epoch 12/20\n",
      "732/732 [==============================] - 1s 994us/step - loss: 0.5860 - acc: 0.7214\n",
      "Epoch 13/20\n",
      "732/732 [==============================] - 1s 1ms/step - loss: 0.5777 - acc: 0.7256\n",
      "Epoch 14/20\n",
      "732/732 [==============================] - 1s 974us/step - loss: 0.5737 - acc: 0.7234\n",
      "Epoch 15/20\n",
      "732/732 [==============================] - 1s 1ms/step - loss: 0.5786 - acc: 0.7251\n",
      "Epoch 16/20\n",
      "732/732 [==============================] - 1s 1ms/step - loss: 0.5694 - acc: 0.7257\n",
      "Epoch 17/20\n",
      "732/732 [==============================] - 1s 1ms/step - loss: 0.5776 - acc: 0.7255\n",
      "Epoch 18/20\n",
      "732/732 [==============================] - 1s 1ms/step - loss: 0.6048 - acc: 0.7176\n",
      "Epoch 19/20\n",
      "732/732 [==============================] - 1s 1ms/step - loss: 0.5763 - acc: 0.7232\n",
      "Epoch 20/20\n",
      "732/732 [==============================] - 1s 2ms/step - loss: 0.5630 - acc: 0.7294\n",
      "183/183 [==============================] - 0s 818us/step - loss: 0.5625 - acc: 0.7300\n",
      "Score for fold 4: loss of 0.5625151991844177; acc of 73.00204634666443%\n",
      "------------------------------------------------------------------------\n",
      "Training for fold 5 ...\n",
      "Epoch 1/20\n",
      "732/732 [==============================] - 2s 2ms/step - loss: 0.9159 - acc: 0.6623\n",
      "Epoch 2/20\n",
      "732/732 [==============================] - 1s 1ms/step - loss: 0.6267 - acc: 0.7085\n",
      "Epoch 3/20\n",
      "732/732 [==============================] - 1s 1ms/step - loss: 0.5926 - acc: 0.7161\n",
      "Epoch 4/20\n",
      "732/732 [==============================] - 1s 1ms/step - loss: 0.5998 - acc: 0.7148\n",
      "Epoch 5/20\n",
      "732/732 [==============================] - 1s 1ms/step - loss: 0.5979 - acc: 0.7116\n",
      "Epoch 6/20\n",
      "732/732 [==============================] - 1s 1ms/step - loss: 0.5875 - acc: 0.7219\n",
      "Epoch 7/20\n",
      "732/732 [==============================] - 1s 1ms/step - loss: 0.5758 - acc: 0.7244\n",
      "Epoch 8/20\n",
      "732/732 [==============================] - 1s 940us/step - loss: 0.5904 - acc: 0.7257\n",
      "Epoch 9/20\n",
      "732/732 [==============================] - 1s 900us/step - loss: 0.5913 - acc: 0.7207\n",
      "Epoch 10/20\n",
      "732/732 [==============================] - 1s 917us/step - loss: 0.5675 - acc: 0.7276\n",
      "Epoch 11/20\n",
      "732/732 [==============================] - 1s 883us/step - loss: 0.5853 - acc: 0.7168\n",
      "Epoch 12/20\n",
      "732/732 [==============================] - 1s 951us/step - loss: 0.5778 - acc: 0.7287\n",
      "Epoch 13/20\n",
      "732/732 [==============================] - 1s 880us/step - loss: 0.5685 - acc: 0.7284\n",
      "Epoch 14/20\n",
      "732/732 [==============================] - 1s 885us/step - loss: 0.5680 - acc: 0.7281\n",
      "Epoch 15/20\n",
      "732/732 [==============================] - 1s 891us/step - loss: 0.5779 - acc: 0.7252\n",
      "Epoch 16/20\n",
      "732/732 [==============================] - 1s 864us/step - loss: 0.5722 - acc: 0.7271\n",
      "Epoch 17/20\n",
      "732/732 [==============================] - 1s 867us/step - loss: 0.6311 - acc: 0.6989\n",
      "Epoch 18/20\n",
      "732/732 [==============================] - 1s 867us/step - loss: 0.5875 - acc: 0.7240\n",
      "Epoch 19/20\n",
      "732/732 [==============================] - 1s 860us/step - loss: 0.5649 - acc: 0.7302\n",
      "Epoch 20/20\n",
      "732/732 [==============================] - 1s 863us/step - loss: 0.5715 - acc: 0.7291\n",
      "183/183 [==============================] - 0s 605us/step - loss: 0.5768 - acc: 0.7290\n",
      "Score for fold 5: loss of 0.576805591583252; acc of 72.89959192276001%\n",
      "------------------------------------------------------------------------\n",
      "Score per fold\n",
      "------------------------------------------------------------------------\n",
      "> Fold 1 - Loss: 0.5956679582595825 - Accuracy: 71.17486596107483%\n",
      "------------------------------------------------------------------------\n",
      "> Fold 2 - Loss: 0.5566787123680115 - Accuracy: 73.56557250022888%\n",
      "------------------------------------------------------------------------\n",
      "> Fold 3 - Loss: 0.5997885465621948 - Accuracy: 71.7383861541748%\n",
      "------------------------------------------------------------------------\n",
      "> Fold 4 - Loss: 0.5625151991844177 - Accuracy: 73.00204634666443%\n",
      "------------------------------------------------------------------------\n",
      "> Fold 5 - Loss: 0.576805591583252 - Accuracy: 72.89959192276001%\n",
      "------------------------------------------------------------------------\n",
      "Average scores for all folds:\n",
      "> Accuracy: 72.47609257698059 (+- 0.8809480165221791)\n",
      "> Loss: 0.5782912015914917\n",
      "------------------------------------------------------------------------\n"
     ]
    }
   ],
   "source": [
    "# Define per-fold score containers\n",
    "from numpy.random import seed\n",
    "seed(1)\n",
    "import tensorflow\n",
    "tensorflow.random.set_seed(1)\n",
    "\n",
    "acc_per_fold = []\n",
    "loss_per_fold = []\n",
    "\n",
    "\n",
    "fold_no = 1\n",
    "for train, test in kfold.split(X_train, y_train_mlp):\n",
    "  model = Sequential()\n",
    "  model.add(Dense(256, input_dim=18, activation='relu'))\n",
    "  model.add(Dense(256, activation='relu'))\n",
    "  model.add(Dense(3, activation='softmax'))\n",
    "  model.compile(optimizer=tf.keras.optimizers.Adam(learning_rate=0.01), loss=\"categorical_crossentropy\",  metrics=[\"acc\"])\n",
    "  print('------------------------------------------------------------------------')\n",
    "  print(f'Training for fold {fold_no} ...')\n",
    "  history = model.fit(X_train, y_train_mlp, verbose=1, epochs=20)\n",
    "  scores = model.evaluate(X_test, y_test_mlp)\n",
    "  print(f'Score for fold {fold_no}: {model.metrics_names[0]} of {scores[0]}; {model.metrics_names[1]} of {scores[1]*100}%')\n",
    "  acc_per_fold.append(scores[1] * 100)\n",
    "  loss_per_fold.append(scores[0])\n",
    "\n",
    "  # Increase fold number\n",
    "  fold_no = fold_no + 1\n",
    "# == Provide average scores ==\n",
    "print('------------------------------------------------------------------------')\n",
    "print('Score per fold')\n",
    "for i in range(0, len(acc_per_fold)):\n",
    "  print('------------------------------------------------------------------------')\n",
    "  print(f'> Fold {i+1} - Loss: {loss_per_fold[i]} - Accuracy: {acc_per_fold[i]}%')\n",
    "print('------------------------------------------------------------------------')\n",
    "print('Average scores for all folds:')\n",
    "print(f'> Accuracy: {np.mean(acc_per_fold)} (+- {np.std(acc_per_fold)})')\n",
    "print(f'> Loss: {np.mean(loss_per_fold)}')\n",
    "print('------------------------------------------------------------------------')\n",
    "scores_mean = mean(acc_per_fold)/100\n",
    "scores_std = std(acc_per_fold)/100"
   ]
  },
  {
   "cell_type": "code",
   "execution_count": 77,
   "metadata": {},
   "outputs": [],
   "source": [
    "predictions = model.predict(X_test)\n",
    "predicted_id = tf.math.argmax(predictions, axis=-1)\n",
    "model_name = \"MLP\"\n",
    "test_accuracy = accuracy_score(y_test,predicted_id )\n"
   ]
  },
  {
   "cell_type": "code",
   "execution_count": 78,
   "metadata": {},
   "outputs": [],
   "source": [
    "model_data_test_patient_features = dict(model_name = model_name,\n",
    "                  #best_params = best_params,\n",
    "                  #train_score_accuracy = scores_mean,\n",
    "                  #train_scores_std = scores_std,\n",
    "                  test_accuracy = test_accuracy,\n",
    "                  )\n",
    "\n",
    "model_results_test_patient_features = model_results_test_patient_features.append(model_data_test_patient_features, ignore_index=True)"
   ]
  },
  {
   "cell_type": "markdown",
   "metadata": {},
   "source": [
    "### 4.1.7 CNN"
   ]
  },
  {
   "cell_type": "code",
   "execution_count": 79,
   "metadata": {},
   "outputs": [
    {
     "name": "stdout",
     "output_type": "stream",
     "text": [
      "After reshape train data set shape:\n",
      " (23424, 18, 1)\n",
      "1 Sample shape:\n",
      " (18, 1)\n"
     ]
    }
   ],
   "source": [
    "X_train, X_test, y_train, y_test = train_test_split(X, \n",
    "                                                    y, \n",
    "                                                    test_size = 0.2,\n",
    "                                                    random_state = 1234)\n",
    "X_train = X_train.to_numpy()\n",
    "sample_size = X_train.shape[0] # number of samples in train set\n",
    "time_steps  = X_train.shape[1] # number of features in train set\n",
    "input_dimension = 1               # each feature is represented by 1 number\n",
    "\n",
    "train_data_reshaped = X_train.reshape(sample_size,time_steps,input_dimension)\n",
    "print(\"After reshape train data set shape:\\n\", train_data_reshaped.shape)\n",
    "print(\"1 Sample shape:\\n\",train_data_reshaped[0].shape)\n",
    "\n",
    "X_test = X_test.to_numpy()\n",
    "test_data_reshaped = X_test.reshape(X_test.shape[0],X_test.shape[1],1)\n",
    "y_test_mlp = to_categorical(y_test)"
   ]
  },
  {
   "cell_type": "code",
   "execution_count": 80,
   "metadata": {},
   "outputs": [
    {
     "name": "stdout",
     "output_type": "stream",
     "text": [
      "Model: \"model_conv1D\"\n",
      "_________________________________________________________________\n",
      " Layer (type)                Output Shape              Param #   \n",
      "=================================================================\n",
      " Conv1D_1 (Conv1D)           (None, 12, 64)            512       \n",
      "                                                                 \n",
      " Conv1D_2 (Conv1D)           (None, 10, 32)            6176      \n",
      "                                                                 \n",
      " Conv1D_3 (Conv1D)           (None, 9, 16)             1040      \n",
      "                                                                 \n",
      " MaxPooling1D (MaxPooling1D)  (None, 4, 16)            0         \n",
      "                                                                 \n",
      " flatten_1 (Flatten)         (None, 64)                0         \n",
      "                                                                 \n",
      " Dense_1 (Dense)             (None, 32)                2080      \n",
      "                                                                 \n",
      " dense_31 (Dense)            (None, 3)                 99        \n",
      "                                                                 \n",
      "=================================================================\n",
      "Total params: 9,907\n",
      "Trainable params: 9,907\n",
      "Non-trainable params: 0\n",
      "_________________________________________________________________\n"
     ]
    }
   ],
   "source": [
    "import keras\n",
    "def build_conv1D_model():\n",
    "\n",
    "  n_timesteps = train_data_reshaped.shape[1] #13\n",
    "  n_features  = train_data_reshaped.shape[2] #1 \n",
    "  model = keras.Sequential(name=\"model_conv1D\")\n",
    "  model.add(keras.layers.Input(shape=(n_timesteps,n_features)))\n",
    "  model.add(keras.layers.Conv1D(filters=64, kernel_size=7, activation='relu', name=\"Conv1D_1\"))\n",
    "  model.add(keras.layers.Conv1D(filters=32, kernel_size=3, activation='relu', name=\"Conv1D_2\"))\n",
    "  model.add(keras.layers.Conv1D(filters=16, kernel_size=2, activation='relu', name=\"Conv1D_3\"))\n",
    "  model.add(keras.layers.MaxPooling1D(pool_size=2, name=\"MaxPooling1D\"))\n",
    "  model.add(keras.layers.Flatten())\n",
    "  model.add(keras.layers.Dense(32, activation='relu', name=\"Dense_1\"))\n",
    "  model.add(Dense(3, activation='softmax'))\n",
    "\n",
    "\n",
    "  optimizer=tf.keras.optimizers.Adam(learning_rate=0.001)\n",
    "\n",
    "  model.compile(loss='categorical_crossentropy',optimizer=optimizer,metrics=['acc'])\n",
    "  return model\n",
    "\n",
    "\n",
    "\n",
    "model_conv1D = build_conv1D_model()\n",
    "model_conv1D.summary()"
   ]
  },
  {
   "cell_type": "code",
   "execution_count": 81,
   "metadata": {
    "scrolled": true
   },
   "outputs": [
    {
     "name": "stdout",
     "output_type": "stream",
     "text": [
      "Epoch 1/5\n",
      "732/732 [==============================] - 1s 1ms/step - loss: 0.8246 - acc: 0.6389\n",
      "Epoch 2/5\n",
      "732/732 [==============================] - 1s 1ms/step - loss: 0.7003 - acc: 0.6787\n",
      "Epoch 3/5\n",
      "732/732 [==============================] - 2s 2ms/step - loss: 0.6276 - acc: 0.7055\n",
      "Epoch 4/5\n",
      "732/732 [==============================] - 2s 2ms/step - loss: 0.6019 - acc: 0.7166\n",
      "Epoch 5/5\n",
      "732/732 [==============================] - 1s 2ms/step - loss: 0.5955 - acc: 0.7182\n",
      "183/183 [==============================] - 0s 969us/step - loss: 0.5741 - acc: 0.7326\n",
      "Score for fold 1: loss of 0.5740771889686584; acc of 73.25819730758667%\n",
      "Epoch 1/5\n",
      "732/732 [==============================] - 1s 2ms/step - loss: 0.5802 - acc: 0.7244\n",
      "Epoch 2/5\n",
      "732/732 [==============================] - 1s 2ms/step - loss: 0.5701 - acc: 0.7256\n",
      "Epoch 3/5\n",
      "732/732 [==============================] - 1s 2ms/step - loss: 0.5678 - acc: 0.7279\n",
      "Epoch 4/5\n",
      "732/732 [==============================] - 1s 2ms/step - loss: 0.5656 - acc: 0.7304\n",
      "Epoch 5/5\n",
      "732/732 [==============================] - 1s 2ms/step - loss: 0.5642 - acc: 0.7286\n",
      "183/183 [==============================] - 0s 867us/step - loss: 0.5548 - acc: 0.7285\n",
      "Score for fold 2: loss of 0.5548355579376221; acc of 72.84836173057556%\n",
      "Epoch 1/5\n",
      "732/732 [==============================] - 1s 2ms/step - loss: 0.5586 - acc: 0.7322\n",
      "Epoch 2/5\n",
      "732/732 [==============================] - 1s 2ms/step - loss: 0.5499 - acc: 0.7371\n",
      "Epoch 3/5\n",
      "732/732 [==============================] - 1s 2ms/step - loss: 0.5526 - acc: 0.7354\n",
      "Epoch 4/5\n",
      "732/732 [==============================] - 1s 2ms/step - loss: 0.5507 - acc: 0.7383\n",
      "Epoch 5/5\n",
      "732/732 [==============================] - 1s 2ms/step - loss: 0.5483 - acc: 0.7381\n",
      "183/183 [==============================] - 0s 791us/step - loss: 0.5604 - acc: 0.7348\n",
      "Score for fold 3: loss of 0.5603793859481812; acc of 73.48018884658813%\n",
      "Epoch 1/5\n",
      "732/732 [==============================] - 1s 2ms/step - loss: 0.5426 - acc: 0.7415\n",
      "Epoch 2/5\n",
      "732/732 [==============================] - 1s 2ms/step - loss: 0.5380 - acc: 0.7425\n",
      "Epoch 3/5\n",
      "732/732 [==============================] - 1s 2ms/step - loss: 0.5360 - acc: 0.7433\n",
      "Epoch 4/5\n",
      "732/732 [==============================] - 1s 2ms/step - loss: 0.5374 - acc: 0.7427\n",
      "Epoch 5/5\n",
      "732/732 [==============================] - 1s 2ms/step - loss: 0.5325 - acc: 0.7438\n",
      "183/183 [==============================] - 0s 785us/step - loss: 0.5418 - acc: 0.7416\n",
      "Score for fold 4: loss of 0.5418359637260437; acc of 74.16325211524963%\n",
      "Epoch 1/5\n",
      "732/732 [==============================] - 1s 2ms/step - loss: 0.5330 - acc: 0.7461\n",
      "Epoch 2/5\n",
      "732/732 [==============================] - 1s 2ms/step - loss: 0.5304 - acc: 0.7463\n",
      "Epoch 3/5\n",
      "732/732 [==============================] - 1s 2ms/step - loss: 0.5286 - acc: 0.7483\n",
      "Epoch 4/5\n",
      "732/732 [==============================] - 1s 2ms/step - loss: 0.5400 - acc: 0.7432\n",
      "Epoch 5/5\n",
      "732/732 [==============================] - 1s 2ms/step - loss: 0.5293 - acc: 0.7463\n",
      "183/183 [==============================] - 0s 917us/step - loss: 0.5376 - acc: 0.7408\n",
      "Score for fold 5: loss of 0.5376203060150146; acc of 74.07786846160889%\n",
      "------------------------------------------------------------------------\n",
      "Score per fold\n",
      "------------------------------------------------------------------------\n",
      "> Fold 1 - Loss: 0.5740771889686584 - Accuracy: 73.25819730758667%\n",
      "------------------------------------------------------------------------\n",
      "> Fold 2 - Loss: 0.5548355579376221 - Accuracy: 72.84836173057556%\n",
      "------------------------------------------------------------------------\n",
      "> Fold 3 - Loss: 0.5603793859481812 - Accuracy: 73.48018884658813%\n",
      "------------------------------------------------------------------------\n",
      "> Fold 4 - Loss: 0.5418359637260437 - Accuracy: 74.16325211524963%\n",
      "------------------------------------------------------------------------\n",
      "> Fold 5 - Loss: 0.5376203060150146 - Accuracy: 74.07786846160889%\n",
      "------------------------------------------------------------------------\n",
      "Average scores for all folds:\n",
      "> Accuracy: 73.56557369232178 (+- 0.4971577696703734)\n",
      "> Loss: 0.553749680519104\n",
      "------------------------------------------------------------------------\n"
     ]
    }
   ],
   "source": [
    "# Define per-fold score containers\n",
    "# Define per-fold score containers\n",
    "from numpy.random import seed\n",
    "seed(1)\n",
    "import tensorflow\n",
    "tensorflow.random.set_seed(1)\n",
    "acc_per_fold = []\n",
    "loss_per_fold = []\n",
    "\n",
    "\n",
    "fold_no = 1\n",
    "for train, test in kfold.split(train_data_reshaped, y_train_mlp):\n",
    "  history = model_conv1D.fit(train_data_reshaped, y_train_mlp, verbose=1, epochs=5)\n",
    "  scores = model_conv1D.evaluate(X_test, y_test_mlp)\n",
    "  print(f'Score for fold {fold_no}: {model.metrics_names[0]} of {scores[0]}; {model.metrics_names[1]} of {scores[1]*100}%')\n",
    "  acc_per_fold.append(scores[1] * 100)\n",
    "  loss_per_fold.append(scores[0])\n",
    "\n",
    "  # Increase fold number\n",
    "  fold_no = fold_no + 1\n",
    "# == Provide average scores ==\n",
    "print('------------------------------------------------------------------------')\n",
    "print('Score per fold')\n",
    "for i in range(0, len(acc_per_fold)):\n",
    "  print('------------------------------------------------------------------------')\n",
    "  print(f'> Fold {i+1} - Loss: {loss_per_fold[i]} - Accuracy: {acc_per_fold[i]}%')\n",
    "print('------------------------------------------------------------------------')\n",
    "print('Average scores for all folds:')\n",
    "print(f'> Accuracy: {np.mean(acc_per_fold)} (+- {np.std(acc_per_fold)})')\n",
    "print(f'> Loss: {np.mean(loss_per_fold)}')\n",
    "print('------------------------------------------------------------------------')\n",
    "scores_mean = mean(acc_per_fold)/100\n",
    "scores_std = std(acc_per_fold)/100"
   ]
  },
  {
   "cell_type": "code",
   "execution_count": 82,
   "metadata": {},
   "outputs": [],
   "source": [
    "predictions = model_conv1D.predict(X_test)\n",
    "predicted_id = tf.math.argmax(predictions, axis=-1)\n",
    "model_name = \"CNN\"\n",
    "test_accuracy = accuracy_score(y_test,predicted_id )"
   ]
  },
  {
   "cell_type": "code",
   "execution_count": 83,
   "metadata": {},
   "outputs": [],
   "source": [
    "model_data_test_patient_features = dict(model_name = model_name,\n",
    "                  #best_params = best_params,\n",
    "                  #train_score_accuracy = scores_mean,\n",
    "                  #train_scores_std = scores_std,\n",
    "                  test_accuracy = test_accuracy,\n",
    "                  )\n",
    "\n",
    "model_results_test_patient_features = model_results_test_patient_features.append(model_data_test_patient_features, ignore_index=True)"
   ]
  },
  {
   "cell_type": "markdown",
   "metadata": {},
   "source": [
    "## 4.2 Network feature only"
   ]
  },
  {
   "cell_type": "code",
   "execution_count": 84,
   "metadata": {},
   "outputs": [],
   "source": [
    "import pandas as pd\n",
    "df = pd.read_csv(\"../data/patient.csv\", index_col = \"person_id\")\n",
    "\n",
    "\n",
    "df['years_at_label'] = df[['years_service_at_label_age', 'years_elapse_other_chronic', 'years_elapse_other_Elixhauser']].max(axis = 1)\n",
    "df = df.drop(['years_service_at_label_age', 'years_elapse_other_chronic', 'concerned_chronic'], axis = 1)\n",
    "\n",
    "# df= df.drop([\"PHN_Code\":\"person_65_up\"], axis = 1)\n",
    "\n",
    "# df['years_elapse_EX'][df['years_elapse_EX'] > 0].reset_index()\n",
    "df.shape\n",
    "## generate a sampl e weights for the machine learning based on the years of patient in the system and number\n",
    "## of episodes have been diagnosed.\n",
    "\n",
    "year_epi_long = [ y > 1 and e > 1 for y, e in zip(df['years_at_label'], df['episode_num'])]\n",
    "## np.mean(year_epi_long)   ## 0.254542349726776\n",
    "weights = [1 if x == 1 else 0.5  for x in year_epi_long]\n",
    "\n",
    "\n",
    "\n",
    "X = df.drop(['concerned_chronic_num'], axis = 1)\n",
    "y = df['concerned_chronic_num']\n",
    "y_array = pd.get_dummies(y)\n",
    "\n",
    "dict(y.value_counts())\n",
    "X = X.rename(columns={\"years_at_label\":\"Years_at_label\",\"gender\": \"Gender\", \"age_at_label\": \"Age_at_label\", \"episode_num\" : \"Episode_num\", \"icd_code_num\" : \"Icd_code_num\",\"episode_num_Elixhauser\":\"Episode_num_Elixhauser\" ,\"episode_num_other_chronic\" :\"Episode_num_other_chronic\",\"icd_num_other_chronic\":\"Icd_num_other_chronic\",\"icd_num_Elixhauser\":\"Icd_num_Elixhauser\", \"icd_num_unique_other_chronic\":\"Icd_num_unique_other_chronic\",\"icd_num_unique_Elixhauser\":\"Icd_num_unique_Elixhauser\", \"icd_4chr_uniq_other_chronic\":\"Icd_4chr_uniq_other_chronic\",\"icd_4chr_uniq_other_Elixhauser\":\"Icd_4chr_uniq_other_Elixhauser\", \"icd_3chr_uniq_other_chronic\":\"Icd_3chr_uniq_other_chronic\",\"icd_3chr_uniq_other_Elixhauser\":\"Icd_3chr_uniq_other_Elixhauser\", \"years_elapse_other_Elixhauser\":\"Years_elapse_other_Elixhauser\"})"
   ]
  },
  {
   "cell_type": "code",
   "execution_count": 85,
   "metadata": {},
   "outputs": [],
   "source": [
    "# for network features evaluation\n",
    "# network feature only\n",
    "X = X.iloc[:, [17,18,19,20,21,22,23,24,25,26]]"
   ]
  },
  {
   "cell_type": "code",
   "execution_count": 86,
   "metadata": {},
   "outputs": [],
   "source": [
    "X_train, X_test, y_train, y_test = train_test_split(X, \n",
    "                                                    y, \n",
    "                                                    test_size = 0.2,\n",
    "                                                    random_state = 1234)"
   ]
  },
  {
   "cell_type": "markdown",
   "metadata": {},
   "source": [
    "### 4.2.1 LR"
   ]
  },
  {
   "cell_type": "code",
   "execution_count": 87,
   "metadata": {},
   "outputs": [
    {
     "name": "stdout",
     "output_type": "stream",
     "text": [
      "Total run time for Multiclass Logistic Regresion with is:\n",
      "0.10 minutes.\n"
     ]
    }
   ],
   "source": [
    "# 1. running a logistic regression model with PCA\n",
    "## 1.1 build a pipeline\n",
    "pipe = Pipeline([\n",
    "    ('pca', PCA()),\n",
    "    (\"lr\", OneVsRestClassifier(LogisticRegression(penalty = \"l2\")))\n",
    "    ])\n",
    "### check available parameters: OneVsRestClassifier(LogisticRegression(penalty = \"l2\")).get_params().keys()\n",
    "\n",
    "## 1.2 create param for grid search\n",
    "param = dict(pca__n_components = [10, 25, 34],\n",
    "             lr__estimator__C = [1, 5, 10],\n",
    "             lr__estimator__max_iter = [100, 500, 1000])\n",
    "\n",
    "## 1.3 perform grid serach with cross validation\n",
    "gs = GridSearchCV(pipe, param_grid = param, scoring = auc_score)\n",
    "\n",
    "begin = timeit.default_timer()\n",
    "gs_result = gs.fit(X_train, y_train)\n",
    "end = timeit.default_timer()\n",
    "total_run_mins = (end - begin) / 60\n",
    "print(\"Total run time for Multiclass Logistic Regresion with is:\\n%.2f minutes.\" % total_run_mins)\n",
    "\n",
    "\n"
   ]
  },
  {
   "cell_type": "code",
   "execution_count": 88,
   "metadata": {},
   "outputs": [],
   "source": [
    "## 1.4 record the results\n",
    "model_name = \"LR\"\n",
    "#model_algorithm = \"Logistic Regression\"\n",
    "best_params = gs_result.best_params_\n",
    "param_str = \"LR_\" + str(best_params['lr__estimator__C']) + \"_\" +  str(best_params['lr__estimator__max_iter']) + \"_\" + str(best_params['pca__n_components'])\n",
    "#filename = \"model/Model_\" + model_name + \"_\" + param_str + '.pkl'\n",
    "best_model = gs_result.best_estimator_\n",
    "\n",
    "\n"
   ]
  },
  {
   "cell_type": "code",
   "execution_count": 89,
   "metadata": {},
   "outputs": [
    {
     "name": "stdout",
     "output_type": "stream",
     "text": [
      "Testing Accuracy: 0.6889\n"
     ]
    }
   ],
   "source": [
    "## test accuracy\n",
    "y_pred_prob = gs_result.predict_proba(X_test)\n",
    "y_pred = np.argmax(y_pred_prob, axis = 1)\n",
    "test_accuracy = np.mean(y_test == y_pred)\n",
    "print('Testing Accuracy: %.4f' % (test_accuracy))"
   ]
  },
  {
   "cell_type": "code",
   "execution_count": 90,
   "metadata": {},
   "outputs": [],
   "source": [
    "model_results_test_network_features = pd.DataFrame()"
   ]
  },
  {
   "cell_type": "code",
   "execution_count": 91,
   "metadata": {},
   "outputs": [],
   "source": [
    "model_data_test_network_features = dict(model_name = model_name,\n",
    "                  #best_params = best_params,\n",
    "                  #train_score_accuracy = scores_mean,\n",
    "                  #train_scores_std = scores_std,\n",
    "                  test_accuracy = test_accuracy,\n",
    "                  )\n",
    "\n",
    "model_results_test_network_features = model_results_test_network_features.append(model_data_test_network_features, ignore_index=True)"
   ]
  },
  {
   "cell_type": "markdown",
   "metadata": {},
   "source": [
    "### 4.2.2 KNN"
   ]
  },
  {
   "cell_type": "code",
   "execution_count": 92,
   "metadata": {},
   "outputs": [
    {
     "name": "stdout",
     "output_type": "stream",
     "text": [
      "Total run time for Multiclass Kneighbor Classifier with is:\n",
      "0.77 minutes.\n"
     ]
    }
   ],
   "source": [
    "# 2. running a Kneighbor Classifier model with PCA\n",
    "## 2.1 build a pipeline\n",
    "pipe = Pipeline([\n",
    "    ('pca', PCA()),\n",
    "    (\"knc\", OneVsRestClassifier(KNeighborsClassifier()))\n",
    "    ])\n",
    "### check available parameters: OneVsRestClassifier(KNeighborsClassifier()).get_params().keys()\n",
    "\n",
    "## 2.2 create param for grid search\n",
    "param = dict(pca__n_components = [10, 25, 34],\n",
    "             knc__estimator__n_neighbors = [5, 15, 25],\n",
    "             knc__estimator__weights = [\"uniform\", \"distance\"])\n",
    "\n",
    "## 2.3 perform grid serach with cross validation\n",
    "gs = GridSearchCV(pipe, param_grid = param, scoring = auc_score)\n",
    "\n",
    "begin = timeit.default_timer()\n",
    "gs_result = gs.fit(X_train, y_train)\n",
    "end = timeit.default_timer()\n",
    "total_run_mins = (end - begin) / 60\n",
    "print(\"Total run time for Multiclass Kneighbor Classifier with is:\\n%.2f minutes.\" % total_run_mins)\n",
    "\n",
    "\n",
    "\n"
   ]
  },
  {
   "cell_type": "code",
   "execution_count": 93,
   "metadata": {},
   "outputs": [],
   "source": [
    "model_name = \"KNN\"\n",
    "best_params = gs_result.best_params_\n",
    "param_str = \"KNN_\" + str(best_params['knc__estimator__n_neighbors']) + \"_\" +  str(best_params['knc__estimator__weights']) + \"_\" + str(best_params['pca__n_components'])\n",
    "#filename = \"model/Model_\" + model_name + \"_\" + param_str + '.pkl'\n",
    "best_model = gs_result.best_estimator_\n",
    "\n",
    "\n"
   ]
  },
  {
   "cell_type": "code",
   "execution_count": 94,
   "metadata": {},
   "outputs": [
    {
     "name": "stdout",
     "output_type": "stream",
     "text": [
      "Testing Accuracy: 0.6966\n"
     ]
    }
   ],
   "source": [
    "## test accuracy\n",
    "y_pred_prob = gs_result.predict_proba(X_test)\n",
    "y_pred = np.argmax(y_pred_prob, axis = 1)\n",
    "test_accuracy = np.mean(y_test == y_pred)\n",
    "print('Testing Accuracy: %.4f' % (test_accuracy))"
   ]
  },
  {
   "cell_type": "code",
   "execution_count": 95,
   "metadata": {},
   "outputs": [],
   "source": [
    "model_data_test_network_features = dict(model_name = model_name,\n",
    "                  #best_params = best_params,\n",
    "                  #train_score_accuracy = scores_mean,\n",
    "                  #train_scores_std = scores_std,\n",
    "                  test_accuracy = test_accuracy,\n",
    "                  )\n",
    "\n",
    "model_results_test_network_features = model_results_test_network_features.append(model_data_test_network_features, ignore_index=True)\n"
   ]
  },
  {
   "cell_type": "markdown",
   "metadata": {},
   "source": [
    "### 4.2.3 NB"
   ]
  },
  {
   "cell_type": "code",
   "execution_count": 96,
   "metadata": {},
   "outputs": [
    {
     "name": "stdout",
     "output_type": "stream",
     "text": [
      "Total run time for Multiclass Gaussian NaiveBayes with is:\n",
      "0.02 minutes.\n"
     ]
    }
   ],
   "source": [
    "# 3. running a GaussianNB with Standsclaer\n",
    "## 3.1 build a pipeline\n",
    "pipe = Pipeline([\n",
    "    ('ss', StandardScaler()),\n",
    "    (\"nb\", OneVsRestClassifier(GaussianNB()))\n",
    "    ])\n",
    "### check available parameters: OneVsRestClassifier(GaussianNB()).get_params().keys()\n",
    "\n",
    "## 3.2 create param for grid search\n",
    "param = dict(nb__estimator__var_smoothing = [10, 1, 0.1, 0.01, 0.001, 0.0001, 1e-6,1e-8, 1e-9])\n",
    "\n",
    "## 3.3 perform grid serach with cross validation\n",
    "gs = GridSearchCV(pipe, param_grid = param, scoring = auc_score)\n",
    "\n",
    "begin = timeit.default_timer()\n",
    "gs_result = gs.fit(X_train, y_train)\n",
    "end = timeit.default_timer()\n",
    "total_run_mins = (end - begin) / 60\n",
    "print(\"Total run time for Multiclass Gaussian NaiveBayes with is:\\n%.2f minutes.\" % total_run_mins)"
   ]
  },
  {
   "cell_type": "code",
   "execution_count": 97,
   "metadata": {},
   "outputs": [],
   "source": [
    "## 3.4 record the results\n",
    "model_name = \"NB\"\n",
    "best_params = gs_result.best_params_\n",
    "param_str = \"NB_\" + str(best_params['nb__estimator__var_smoothing']) \n",
    "\n",
    "## the model to disk\n",
    "best_model = gs_result.best_estimator_"
   ]
  },
  {
   "cell_type": "code",
   "execution_count": 98,
   "metadata": {},
   "outputs": [
    {
     "name": "stdout",
     "output_type": "stream",
     "text": [
      "Testing Accuracy: 0.6211\n"
     ]
    }
   ],
   "source": [
    "## test accuracy\n",
    "y_pred_prob = gs_result.predict_proba(X_test)\n",
    "y_pred = np.argmax(y_pred_prob, axis = 1)\n",
    "test_accuracy = np.mean(y_test == y_pred)\n",
    "print('Testing Accuracy: %.4f' % (test_accuracy))"
   ]
  },
  {
   "cell_type": "code",
   "execution_count": 99,
   "metadata": {},
   "outputs": [],
   "source": [
    "model_data_test_network_features = dict(model_name = model_name,\n",
    "                  #best_params = best_params,\n",
    "                  #train_score_accuracy = scores_mean,\n",
    "                  #train_scores_std = scores_std,\n",
    "                  test_accuracy = test_accuracy,\n",
    "                  )\n",
    "\n",
    "model_results_test_network_features = model_results_test_network_features.append(model_data_test_network_features, ignore_index=True)"
   ]
  },
  {
   "cell_type": "markdown",
   "metadata": {},
   "source": [
    "### 4.2.4 RF"
   ]
  },
  {
   "cell_type": "code",
   "execution_count": 100,
   "metadata": {},
   "outputs": [
    {
     "name": "stdout",
     "output_type": "stream",
     "text": [
      "Total run time for Multiclass RandomForest with is:\n",
      "0.11 minutes.\n"
     ]
    }
   ],
   "source": [
    "# 4. running a Support Vector Machine model with RandomForest Classifier\n",
    "## 4.1 build a pipeline\n",
    "pipe = Pipeline([\n",
    "    ('ss', StandardScaler()),\n",
    "    (\"rf\", OneVsRestClassifier(RandomForestClassifier()))\n",
    "    ])\n",
    "### check available parameters: OneVsRestClassifier(RandomForestClassifier()).get_params().keys()\n",
    "\n",
    "## 4.2 create param for grid search\n",
    "param = dict(rf__estimator__n_estimators = [1, 5, 10],\n",
    "             rf__estimator__criterion = ['gini', 'entropy'],\n",
    "             rf__estimator__max_features = ['sqrt', 'log2'])\n",
    "\n",
    "## 4.3 perform grid serach with cross validation\n",
    "gs = GridSearchCV(pipe, param_grid = param, scoring = auc_score)\n",
    "\n",
    "begin = timeit.default_timer()\n",
    "gs_result = gs.fit(X_train, y_train)\n",
    "end = timeit.default_timer()\n",
    "total_run_mins = (end - begin) / 60\n",
    "print(\"Total run time for Multiclass RandomForest with is:\\n%.2f minutes.\" % total_run_mins)\n",
    "\n",
    "\n"
   ]
  },
  {
   "cell_type": "code",
   "execution_count": 101,
   "metadata": {},
   "outputs": [],
   "source": [
    "## 4.4 record the results\n",
    "model_name = \"RF\"\n",
    "best_params = gs_result.best_params_\n",
    "param_str = \"RF_\" + str(best_params['rf__estimator__n_estimators']) + \"_\" +  str(best_params['rf__estimator__criterion']) + \\\n",
    "                 str(best_params['rf__estimator__max_features'])\n",
    "\n",
    "## the model to disk\n",
    "best_model = gs_result.best_estimator_"
   ]
  },
  {
   "cell_type": "code",
   "execution_count": 102,
   "metadata": {},
   "outputs": [
    {
     "name": "stdout",
     "output_type": "stream",
     "text": [
      "Testing Accuracy: 0.7034\n"
     ]
    }
   ],
   "source": [
    "## test accuracy\n",
    "y_pred_prob = gs_result.predict_proba(X_test)\n",
    "y_pred = np.argmax(y_pred_prob, axis = 1)\n",
    "test_accuracy = np.mean(y_test == y_pred)\n",
    "print('Testing Accuracy: %.4f' % (test_accuracy))"
   ]
  },
  {
   "cell_type": "code",
   "execution_count": 103,
   "metadata": {},
   "outputs": [],
   "source": [
    "model_data_test_network_features = dict(model_name = model_name,\n",
    "                  #best_params = best_params,\n",
    "                  #train_score_accuracy = scores_mean,\n",
    "                  #train_scores_std = scores_std,\n",
    "                  test_accuracy = test_accuracy,\n",
    "                  )\n",
    "\n",
    "model_results_test_network_features = model_results_test_network_features.append(model_data_test_network_features, ignore_index=True)"
   ]
  },
  {
   "cell_type": "markdown",
   "metadata": {},
   "source": [
    "### 4.2.5 XGboost"
   ]
  },
  {
   "cell_type": "code",
   "execution_count": 104,
   "metadata": {},
   "outputs": [
    {
     "name": "stdout",
     "output_type": "stream",
     "text": [
      "Total run time for Multiclass xgBoost with is:\n",
      "1.78 minutes.\n"
     ]
    }
   ],
   "source": [
    "## 5.1 build a pipeline\n",
    "pipe = Pipeline([\n",
    "    ('ss', StandardScaler()),\n",
    "    (\"xg\", OneVsRestClassifier(xgb.XGBClassifier(scale_pos_weight = 1,\n",
    "                                                 min_child_weight = 1, \n",
    "                                                 objective = 'binary:logistic')))  \n",
    "    ])\n",
    "### check available parameters: OneVsRestClassifier(xgb.XGBClassifier()).get_params().keys()\n",
    "\n",
    "## 5.2 create param for grid search\n",
    "param = dict(xg__estimator__n_estimators = [2000], # [1000, 2000, 3000]\n",
    "             xg__estimator__max_depth = [5], # [3, 4, 5]\n",
    "             xg__estimator__subsample = [0.8], # [0.5, 0.7, 0.8]\n",
    "             xg__estimator__learning_rate = [0.01], # [0.01, 0.02, 0.05]\n",
    "             xg__estimator__colsample_bytree = [0.8] # [0.5, 0.7, 0.8]\n",
    "             )\n",
    "\n",
    "## 5.3 perform grid serach with cross validation\n",
    "gs = GridSearchCV(pipe, param_grid = param, scoring = auc_score)\n",
    "\n",
    "begin = timeit.default_timer()\n",
    "gs_result = gs.fit(X_train, y_train)\n",
    "end = timeit.default_timer()\n",
    "total_run_mins = (end - begin) / 60\n",
    "print(\"Total run time for Multiclass xgBoost with is:\\n%.2f minutes.\" % total_run_mins)"
   ]
  },
  {
   "cell_type": "code",
   "execution_count": 105,
   "metadata": {},
   "outputs": [],
   "source": [
    "## 5.4 record the results\n",
    "model_name = \"XGBoost\"\n",
    "best_params = gs_result.best_params_\n",
    "param_str = \"XG_\" + str(best_params['xg__estimator__n_estimators']) + \"_\" +  str(best_params['xg__estimator__max_depth']) + \\\n",
    "                    str(best_params['xg__estimator__subsample']) + \"_\" +  str(best_params['xg__estimator__colsample_bytree'])\n",
    "    \n",
    "\n",
    "## the model to disk\n",
    "best_model = gs_result.best_estimator_"
   ]
  },
  {
   "cell_type": "code",
   "execution_count": 106,
   "metadata": {},
   "outputs": [
    {
     "name": "stdout",
     "output_type": "stream",
     "text": [
      "Testing Accuracy: 0.7092\n"
     ]
    }
   ],
   "source": [
    "## test accuracy\n",
    "y_pred_prob = gs_result.predict_proba(X_test)\n",
    "y_pred = np.argmax(y_pred_prob, axis = 1)\n",
    "test_accuracy = np.mean(y_test == y_pred)\n",
    "print('Testing Accuracy: %.4f' % (test_accuracy))\n",
    "\n",
    "\n"
   ]
  },
  {
   "cell_type": "code",
   "execution_count": 107,
   "metadata": {},
   "outputs": [],
   "source": [
    "model_data_test_network_features = dict(model_name = model_name,\n",
    "                  #best_params = best_params,\n",
    "                  #train_score_accuracy = scores_mean,\n",
    "                  #train_scores_std = scores_std,\n",
    "                  test_accuracy = test_accuracy,\n",
    "                  )\n",
    "\n",
    "model_results_test_network_features = model_results_test_network_features.append(model_data_test_network_features, ignore_index=True)"
   ]
  },
  {
   "cell_type": "markdown",
   "metadata": {},
   "source": [
    "### 4.2.6 MLP"
   ]
  },
  {
   "cell_type": "code",
   "execution_count": 108,
   "metadata": {},
   "outputs": [],
   "source": [
    "kfold = KFold(n_splits=5, shuffle=True)\n",
    "X_train, X_test, y_train, y_test = train_test_split(X, \n",
    "                                                    y, \n",
    "                                                    test_size = 0.2,\n",
    "                                                    random_state = 1234)\n",
    "\n",
    "\n",
    "y_train_mlp = to_categorical(y_train)\n",
    "y_test_mlp = to_categorical(y_test)"
   ]
  },
  {
   "cell_type": "code",
   "execution_count": 109,
   "metadata": {},
   "outputs": [
    {
     "name": "stdout",
     "output_type": "stream",
     "text": [
      "------------------------------------------------------------------------\n",
      "Training for fold 1 ...\n",
      "Epoch 1/20\n",
      "732/732 [==============================] - 1s 1ms/step - loss: 4193.6689 - acc: 0.6689\n",
      "Epoch 2/20\n",
      "732/732 [==============================] - 1s 989us/step - loss: 0.7411 - acc: 0.6808\n",
      "Epoch 3/20\n",
      "732/732 [==============================] - 1s 976us/step - loss: 0.7412 - acc: 0.6808\n",
      "Epoch 4/20\n",
      "732/732 [==============================] - 1s 968us/step - loss: 0.7411 - acc: 0.6808\n",
      "Epoch 5/20\n",
      "732/732 [==============================] - 1s 976us/step - loss: 0.7990 - acc: 0.6808\n",
      "Epoch 6/20\n",
      "732/732 [==============================] - 1s 1ms/step - loss: 0.7410 - acc: 0.6808\n",
      "Epoch 7/20\n",
      "732/732 [==============================] - 1s 978us/step - loss: 0.7406 - acc: 0.6808\n",
      "Epoch 8/20\n",
      "732/732 [==============================] - 1s 963us/step - loss: 0.7405 - acc: 0.6808\n",
      "Epoch 9/20\n",
      "732/732 [==============================] - 1s 969us/step - loss: 0.7405 - acc: 0.6808\n",
      "Epoch 10/20\n",
      "732/732 [==============================] - 1s 978us/step - loss: 0.7410 - acc: 0.6808\n",
      "Epoch 11/20\n",
      "732/732 [==============================] - 1s 967us/step - loss: 0.7399 - acc: 0.6808\n",
      "Epoch 12/20\n",
      "732/732 [==============================] - 1s 970us/step - loss: 0.7432 - acc: 0.6808\n",
      "Epoch 13/20\n",
      "732/732 [==============================] - 1s 983us/step - loss: 0.7398 - acc: 0.6808\n",
      "Epoch 14/20\n",
      "732/732 [==============================] - 1s 967us/step - loss: 0.7404 - acc: 0.6808\n",
      "Epoch 15/20\n",
      "732/732 [==============================] - 1s 973us/step - loss: 0.7401 - acc: 0.6808\n",
      "Epoch 16/20\n",
      "732/732 [==============================] - 1s 1ms/step - loss: 0.7405 - acc: 0.6808\n",
      "Epoch 17/20\n",
      "732/732 [==============================] - 1s 972us/step - loss: 0.7401 - acc: 0.6808\n",
      "Epoch 18/20\n",
      "732/732 [==============================] - 1s 976us/step - loss: 0.7403 - acc: 0.6808\n",
      "Epoch 19/20\n",
      "732/732 [==============================] - 1s 977us/step - loss: 0.7406 - acc: 0.6808\n",
      "Epoch 20/20\n",
      "732/732 [==============================] - 1s 964us/step - loss: 0.7401 - acc: 0.6808\n",
      "183/183 [==============================] - 0s 689us/step - loss: 0.7436 - acc: 0.6808\n",
      "Score for fold 1: loss of 0.7436140775680542; acc of 68.08401346206665%\n",
      "------------------------------------------------------------------------\n",
      "Training for fold 2 ...\n",
      "Epoch 1/20\n",
      "732/732 [==============================] - 1s 954us/step - loss: 3705.9561 - acc: 0.6565\n",
      "Epoch 2/20\n",
      "732/732 [==============================] - 1s 969us/step - loss: 0.7410 - acc: 0.6807\n",
      "Epoch 3/20\n",
      "732/732 [==============================] - 1s 990us/step - loss: 0.7413 - acc: 0.6803\n",
      "Epoch 4/20\n",
      "732/732 [==============================] - 1s 968us/step - loss: 0.7414 - acc: 0.6808\n",
      "Epoch 5/20\n",
      "732/732 [==============================] - 1s 993us/step - loss: 0.7411 - acc: 0.6808\n",
      "Epoch 6/20\n",
      "732/732 [==============================] - 1s 977us/step - loss: 0.7412 - acc: 0.6808\n",
      "Epoch 7/20\n",
      "732/732 [==============================] - 1s 974us/step - loss: 0.7407 - acc: 0.6808\n",
      "Epoch 8/20\n",
      "732/732 [==============================] - 1s 964us/step - loss: 0.7410 - acc: 0.6808\n",
      "Epoch 9/20\n",
      "732/732 [==============================] - 1s 983us/step - loss: 0.7408 - acc: 0.6808\n",
      "Epoch 10/20\n",
      "732/732 [==============================] - 1s 977us/step - loss: 0.7415 - acc: 0.6808\n",
      "Epoch 11/20\n",
      "732/732 [==============================] - 1s 973us/step - loss: 0.7403 - acc: 0.6808\n",
      "Epoch 12/20\n",
      "732/732 [==============================] - 1s 971us/step - loss: 0.7405 - acc: 0.6808\n",
      "Epoch 13/20\n",
      "732/732 [==============================] - 1s 949us/step - loss: 0.7402 - acc: 0.6808\n",
      "Epoch 14/20\n",
      "732/732 [==============================] - 1s 983us/step - loss: 0.7405 - acc: 0.6808\n",
      "Epoch 15/20\n",
      "732/732 [==============================] - 1s 992us/step - loss: 0.7406 - acc: 0.6808\n",
      "Epoch 16/20\n",
      "732/732 [==============================] - 1s 973us/step - loss: 0.7406 - acc: 0.6808\n",
      "Epoch 17/20\n",
      "732/732 [==============================] - 1s 998us/step - loss: 0.7404 - acc: 0.6808\n",
      "Epoch 18/20\n",
      "732/732 [==============================] - 1s 980us/step - loss: 0.7402 - acc: 0.6808\n",
      "Epoch 19/20\n",
      "732/732 [==============================] - 1s 1ms/step - loss: 0.7405 - acc: 0.6808\n",
      "Epoch 20/20\n",
      "732/732 [==============================] - 1s 1ms/step - loss: 0.7403 - acc: 0.6804\n",
      "183/183 [==============================] - 0s 709us/step - loss: 0.7462 - acc: 0.6808\n",
      "Score for fold 2: loss of 0.7462080717086792; acc of 68.08401346206665%\n",
      "------------------------------------------------------------------------\n",
      "Training for fold 3 ...\n",
      "Epoch 1/20\n",
      "732/732 [==============================] - 1s 984us/step - loss: 3571.6318 - acc: 0.6637\n",
      "Epoch 2/20\n",
      "732/732 [==============================] - 1s 994us/step - loss: 0.7418 - acc: 0.6805\n",
      "Epoch 3/20\n",
      "732/732 [==============================] - 1s 980us/step - loss: 0.7416 - acc: 0.6808\n",
      "Epoch 4/20\n",
      "732/732 [==============================] - 1s 1ms/step - loss: 0.7412 - acc: 0.6808\n",
      "Epoch 5/20\n",
      "732/732 [==============================] - 1s 1ms/step - loss: 0.7405 - acc: 0.6808\n",
      "Epoch 6/20\n",
      "732/732 [==============================] - 1s 1ms/step - loss: 0.7409 - acc: 0.6808\n",
      "Epoch 7/20\n",
      "732/732 [==============================] - 1s 1ms/step - loss: 0.7414 - acc: 0.6808\n",
      "Epoch 8/20\n",
      "732/732 [==============================] - 1s 982us/step - loss: 0.7405 - acc: 0.6808\n",
      "Epoch 9/20\n",
      "732/732 [==============================] - 1s 989us/step - loss: 0.7406 - acc: 0.6808\n",
      "Epoch 10/20\n",
      "732/732 [==============================] - 1s 1ms/step - loss: 0.7411 - acc: 0.6808\n",
      "Epoch 11/20\n",
      "732/732 [==============================] - 1s 2ms/step - loss: 0.7398 - acc: 0.6808\n",
      "Epoch 12/20\n",
      "732/732 [==============================] - 1s 2ms/step - loss: 0.7400 - acc: 0.6808\n",
      "Epoch 13/20\n",
      "732/732 [==============================] - 1s 2ms/step - loss: 0.7396 - acc: 0.6808\n",
      "Epoch 14/20\n",
      "732/732 [==============================] - 1s 1ms/step - loss: 0.7400 - acc: 0.6808\n",
      "Epoch 15/20\n",
      "732/732 [==============================] - 1s 1ms/step - loss: 0.7398 - acc: 0.6808\n",
      "Epoch 16/20\n",
      "732/732 [==============================] - 1s 992us/step - loss: 0.7408 - acc: 0.6808\n",
      "Epoch 17/20\n",
      "732/732 [==============================] - 1s 1ms/step - loss: 0.7401 - acc: 0.6808\n",
      "Epoch 18/20\n",
      "732/732 [==============================] - 1s 1ms/step - loss: 0.7399 - acc: 0.6808\n",
      "Epoch 19/20\n",
      "732/732 [==============================] - 1s 1ms/step - loss: 0.7402 - acc: 0.6808\n",
      "Epoch 20/20\n",
      "732/732 [==============================] - 1s 1ms/step - loss: 0.7398 - acc: 0.6808\n",
      "183/183 [==============================] - 0s 694us/step - loss: 0.7445 - acc: 0.6808\n",
      "Score for fold 3: loss of 0.7445307374000549; acc of 68.08401346206665%\n",
      "------------------------------------------------------------------------\n",
      "Training for fold 4 ...\n",
      "Epoch 1/20\n",
      "732/732 [==============================] - 1s 983us/step - loss: 4450.5625 - acc: 0.6585\n",
      "Epoch 2/20\n",
      "732/732 [==============================] - 1s 986us/step - loss: 0.7433 - acc: 0.6800\n",
      "Epoch 3/20\n",
      "732/732 [==============================] - 1s 986us/step - loss: 0.7416 - acc: 0.6806\n",
      "Epoch 4/20\n",
      "732/732 [==============================] - 1s 992us/step - loss: 0.7411 - acc: 0.6808\n",
      "Epoch 5/20\n",
      "732/732 [==============================] - 1s 994us/step - loss: 0.7407 - acc: 0.6808\n",
      "Epoch 6/20\n",
      "732/732 [==============================] - 1s 978us/step - loss: 0.7410 - acc: 0.6808\n",
      "Epoch 7/20\n",
      "732/732 [==============================] - 1s 984us/step - loss: 0.7405 - acc: 0.6808\n",
      "Epoch 8/20\n",
      "732/732 [==============================] - 1s 976us/step - loss: 0.7407 - acc: 0.6808\n",
      "Epoch 9/20\n",
      "732/732 [==============================] - 1s 972us/step - loss: 0.7405 - acc: 0.6808\n",
      "Epoch 10/20\n",
      "732/732 [==============================] - 1s 964us/step - loss: 0.7413 - acc: 0.6808\n",
      "Epoch 11/20\n",
      "732/732 [==============================] - 1s 985us/step - loss: 0.7400 - acc: 0.6808\n",
      "Epoch 12/20\n",
      "732/732 [==============================] - 1s 949us/step - loss: 0.7402 - acc: 0.6808\n",
      "Epoch 13/20\n",
      "732/732 [==============================] - 1s 944us/step - loss: 0.7399 - acc: 0.6808\n",
      "Epoch 14/20\n",
      "732/732 [==============================] - 1s 958us/step - loss: 0.7402 - acc: 0.6808\n",
      "Epoch 15/20\n",
      "732/732 [==============================] - 1s 1ms/step - loss: 0.7402 - acc: 0.6808\n",
      "Epoch 16/20\n",
      "732/732 [==============================] - 1s 1ms/step - loss: 0.7404 - acc: 0.6808\n",
      "Epoch 17/20\n",
      "732/732 [==============================] - 1s 1ms/step - loss: 0.7402 - acc: 0.6808\n",
      "Epoch 18/20\n",
      "732/732 [==============================] - 1s 1ms/step - loss: 0.7400 - acc: 0.6808\n",
      "Epoch 19/20\n",
      "732/732 [==============================] - 1s 1ms/step - loss: 0.7403 - acc: 0.6808\n",
      "Epoch 20/20\n",
      "732/732 [==============================] - 1s 1ms/step - loss: 0.7401 - acc: 0.6808\n",
      "183/183 [==============================] - 0s 742us/step - loss: 0.7460 - acc: 0.6808\n",
      "Score for fold 4: loss of 0.7460475564002991; acc of 68.08401346206665%\n",
      "------------------------------------------------------------------------\n",
      "Training for fold 5 ...\n",
      "Epoch 1/20\n",
      "732/732 [==============================] - 1s 1ms/step - loss: 4350.4966 - acc: 0.6695\n",
      "Epoch 2/20\n",
      "732/732 [==============================] - 1s 1ms/step - loss: 0.7413 - acc: 0.6808\n",
      "Epoch 3/20\n",
      "732/732 [==============================] - 1s 1ms/step - loss: 0.7413 - acc: 0.6808\n",
      "Epoch 4/20\n",
      "732/732 [==============================] - 1s 1ms/step - loss: 0.7412 - acc: 0.6808\n",
      "Epoch 5/20\n",
      "732/732 [==============================] - 1s 1ms/step - loss: 0.7405 - acc: 0.6808\n",
      "Epoch 6/20\n",
      "732/732 [==============================] - 1s 1ms/step - loss: 0.7408 - acc: 0.6808\n",
      "Epoch 7/20\n",
      "732/732 [==============================] - 1s 1ms/step - loss: 0.7406 - acc: 0.6808\n",
      "Epoch 8/20\n",
      "732/732 [==============================] - 1s 1ms/step - loss: 0.7408 - acc: 0.6808\n",
      "Epoch 9/20\n",
      "732/732 [==============================] - 1s 1ms/step - loss: 0.7408 - acc: 0.6808\n",
      "Epoch 10/20\n",
      "732/732 [==============================] - 1s 1ms/step - loss: 0.7416 - acc: 0.6808\n",
      "Epoch 11/20\n",
      "732/732 [==============================] - 1s 1ms/step - loss: 0.7404 - acc: 0.6808\n",
      "Epoch 12/20\n",
      "732/732 [==============================] - 1s 1ms/step - loss: 0.7408 - acc: 0.6808\n",
      "Epoch 13/20\n",
      "732/732 [==============================] - 1s 1ms/step - loss: 0.7402 - acc: 0.6808\n",
      "Epoch 14/20\n",
      "732/732 [==============================] - 1s 963us/step - loss: 0.7409 - acc: 0.6808\n",
      "Epoch 15/20\n",
      "732/732 [==============================] - 1s 1ms/step - loss: 0.7405 - acc: 0.6808\n",
      "Epoch 16/20\n",
      "732/732 [==============================] - 1s 1ms/step - loss: 0.7410 - acc: 0.6808\n",
      "Epoch 17/20\n",
      "732/732 [==============================] - 1s 1ms/step - loss: 0.7403 - acc: 0.6808\n",
      "Epoch 18/20\n",
      "732/732 [==============================] - 1s 966us/step - loss: 0.7405 - acc: 0.6808\n",
      "Epoch 19/20\n",
      "732/732 [==============================] - 1s 941us/step - loss: 0.7483 - acc: 0.6808\n",
      "Epoch 20/20\n",
      "732/732 [==============================] - 1s 944us/step - loss: 0.7399 - acc: 0.6808\n",
      "183/183 [==============================] - 0s 662us/step - loss: 0.7453 - acc: 0.6808\n",
      "Score for fold 5: loss of 0.7453480958938599; acc of 68.08401346206665%\n",
      "------------------------------------------------------------------------\n",
      "Score per fold\n",
      "------------------------------------------------------------------------\n",
      "> Fold 1 - Loss: 0.7436140775680542 - Accuracy: 68.08401346206665%\n",
      "------------------------------------------------------------------------\n",
      "> Fold 2 - Loss: 0.7462080717086792 - Accuracy: 68.08401346206665%\n",
      "------------------------------------------------------------------------\n",
      "> Fold 3 - Loss: 0.7445307374000549 - Accuracy: 68.08401346206665%\n",
      "------------------------------------------------------------------------\n",
      "> Fold 4 - Loss: 0.7460475564002991 - Accuracy: 68.08401346206665%\n",
      "------------------------------------------------------------------------\n",
      "> Fold 5 - Loss: 0.7453480958938599 - Accuracy: 68.08401346206665%\n",
      "------------------------------------------------------------------------\n",
      "Average scores for all folds:\n",
      "> Accuracy: 68.08401346206665 (+- 0.0)\n",
      "> Loss: 0.7451497077941894\n",
      "------------------------------------------------------------------------\n"
     ]
    }
   ],
   "source": [
    "# Define per-fold score containers\n",
    "from numpy.random import seed\n",
    "seed(1)\n",
    "import tensorflow\n",
    "tensorflow.random.set_seed(1)\n",
    "\n",
    "acc_per_fold = []\n",
    "loss_per_fold = []\n",
    "\n",
    "\n",
    "fold_no = 1\n",
    "for train, test in kfold.split(X_train, y_train_mlp):\n",
    "  model = Sequential()\n",
    "  model.add(Dense(256, input_dim=10, activation='relu'))\n",
    "  model.add(Dense(256, activation='relu'))\n",
    "  model.add(Dense(3, activation='softmax'))\n",
    "  model.compile(optimizer=tf.keras.optimizers.Adam(learning_rate=0.01), loss=\"categorical_crossentropy\",  metrics=[\"acc\"])\n",
    "  print('------------------------------------------------------------------------')\n",
    "  print(f'Training for fold {fold_no} ...')\n",
    "  history = model.fit(X_train, y_train_mlp, verbose=1, epochs=20)\n",
    "  scores = model.evaluate(X_test, y_test_mlp)\n",
    "  print(f'Score for fold {fold_no}: {model.metrics_names[0]} of {scores[0]}; {model.metrics_names[1]} of {scores[1]*100}%')\n",
    "  acc_per_fold.append(scores[1] * 100)\n",
    "  loss_per_fold.append(scores[0])\n",
    "\n",
    "  # Increase fold number\n",
    "  fold_no = fold_no + 1\n",
    "# == Provide average scores ==\n",
    "print('------------------------------------------------------------------------')\n",
    "print('Score per fold')\n",
    "for i in range(0, len(acc_per_fold)):\n",
    "  print('------------------------------------------------------------------------')\n",
    "  print(f'> Fold {i+1} - Loss: {loss_per_fold[i]} - Accuracy: {acc_per_fold[i]}%')\n",
    "print('------------------------------------------------------------------------')\n",
    "print('Average scores for all folds:')\n",
    "print(f'> Accuracy: {np.mean(acc_per_fold)} (+- {np.std(acc_per_fold)})')\n",
    "print(f'> Loss: {np.mean(loss_per_fold)}')\n",
    "print('------------------------------------------------------------------------')\n",
    "scores_mean = mean(acc_per_fold)/100\n",
    "scores_std = std(acc_per_fold)/100"
   ]
  },
  {
   "cell_type": "code",
   "execution_count": 110,
   "metadata": {},
   "outputs": [],
   "source": [
    "predictions = model.predict(X_test)\n",
    "predicted_id = tf.math.argmax(predictions, axis=-1)\n",
    "model_name = \"MLP\"\n",
    "test_accuracy = accuracy_score(y_test,predicted_id )\n",
    "\n"
   ]
  },
  {
   "cell_type": "code",
   "execution_count": 111,
   "metadata": {},
   "outputs": [],
   "source": [
    "model_data_test_network_features = dict(model_name = model_name,\n",
    "                  #best_params = best_params,\n",
    "                  #train_score_accuracy = scores_mean,\n",
    "                  #train_scores_std = scores_std,\n",
    "                  test_accuracy = test_accuracy,\n",
    "                  )\n",
    "\n",
    "model_results_test_network_features = model_results_test_network_features.append(model_data_test_network_features, ignore_index=True)"
   ]
  },
  {
   "cell_type": "markdown",
   "metadata": {},
   "source": [
    "### 4.2.7 CNN"
   ]
  },
  {
   "cell_type": "code",
   "execution_count": 112,
   "metadata": {},
   "outputs": [],
   "source": [
    "X_train, X_test, y_train, y_test = train_test_split(X, \n",
    "                                                    y, \n",
    "                                                    test_size = 0.2,\n",
    "                                                    random_state = 1234)\n",
    "X_train = X_train.to_numpy()\n"
   ]
  },
  {
   "cell_type": "code",
   "execution_count": 113,
   "metadata": {},
   "outputs": [
    {
     "name": "stdout",
     "output_type": "stream",
     "text": [
      "After reshape train data set shape:\n",
      " (23424, 10, 1)\n",
      "1 Sample shape:\n",
      " (10, 1)\n",
      "An example sample:\n",
      " [[8.41000000e+02]\n",
      " [6.18843443e-02]\n",
      " [3.53220000e+05]\n",
      " [1.00000000e+00]\n",
      " [4.12665862e-05]\n",
      " [3.62668901e-05]\n",
      " [3.10254896e-05]\n",
      " [3.52097416e-05]\n",
      " [1.12520000e+04]\n",
      " [5.57339969e-05]]\n"
     ]
    }
   ],
   "source": [
    "sample_size = X_train.shape[0] # number of samples in train set\n",
    "time_steps  = X_train.shape[1] # number of features in train set\n",
    "input_dimension = 1               # each feature is represented by 1 number\n",
    "\n",
    "train_data_reshaped = X_train.reshape(sample_size,time_steps,input_dimension)\n",
    "print(\"After reshape train data set shape:\\n\", train_data_reshaped.shape)\n",
    "print(\"1 Sample shape:\\n\",train_data_reshaped[0].shape)\n",
    "print(\"An example sample:\\n\", train_data_reshaped[0])"
   ]
  },
  {
   "cell_type": "code",
   "execution_count": 114,
   "metadata": {},
   "outputs": [],
   "source": [
    "X_test = X_test.to_numpy()\n",
    "test_data_reshaped = X_test.reshape(X_test.shape[0],X_test.shape[1],1)"
   ]
  },
  {
   "cell_type": "code",
   "execution_count": 115,
   "metadata": {},
   "outputs": [
    {
     "name": "stdout",
     "output_type": "stream",
     "text": [
      "Model: \"model_conv1D\"\n",
      "_________________________________________________________________\n",
      " Layer (type)                Output Shape              Param #   \n",
      "=================================================================\n",
      " Conv1D_1 (Conv1D)           (None, 4, 64)             512       \n",
      "                                                                 \n",
      " Conv1D_2 (Conv1D)           (None, 2, 32)             6176      \n",
      "                                                                 \n",
      " Conv1D_3 (Conv1D)           (None, 1, 16)             1040      \n",
      "                                                                 \n",
      " flatten_2 (Flatten)         (None, 16)                0         \n",
      "                                                                 \n",
      " Dense_1 (Dense)             (None, 32)                544       \n",
      "                                                                 \n",
      " dense_47 (Dense)            (None, 3)                 99        \n",
      "                                                                 \n",
      "=================================================================\n",
      "Total params: 8,371\n",
      "Trainable params: 8,371\n",
      "Non-trainable params: 0\n",
      "_________________________________________________________________\n"
     ]
    }
   ],
   "source": [
    "def build_conv1D_model():\n",
    "\n",
    "  n_timesteps = train_data_reshaped.shape[1] #13\n",
    "  n_features  = train_data_reshaped.shape[2] #1 \n",
    "  model = keras.Sequential(name=\"model_conv1D\")\n",
    "  model.add(keras.layers.Input(shape=(n_timesteps,n_features)))\n",
    "  model.add(keras.layers.Conv1D(filters=64, kernel_size=7, activation='relu', name=\"Conv1D_1\"))\n",
    "  model.add(keras.layers.Conv1D(filters=32, kernel_size=3, activation='relu', name=\"Conv1D_2\"))\n",
    "  model.add(keras.layers.Conv1D(filters=16, kernel_size=2, activation='relu', name=\"Conv1D_3\"))\n",
    "  #model.add(keras.layers.MaxPooling1D(pool_size=2, name=\"MaxPooling1D\"))\n",
    "  model.add(keras.layers.Flatten())\n",
    "  model.add(keras.layers.Dense(32, activation='relu', name=\"Dense_1\"))\n",
    "  model.add(Dense(3, activation='softmax'))\n",
    "\n",
    "\n",
    "  optimizer=tf.keras.optimizers.Adam(learning_rate=0.001)\n",
    "\n",
    "  model.compile(loss='categorical_crossentropy',optimizer=optimizer,metrics=['acc'])\n",
    "  return model\n",
    "\n",
    "\n",
    "\n",
    "model_conv1D = build_conv1D_model()\n",
    "model_conv1D.summary()"
   ]
  },
  {
   "cell_type": "code",
   "execution_count": 116,
   "metadata": {},
   "outputs": [
    {
     "name": "stdout",
     "output_type": "stream",
     "text": [
      "Epoch 1/5\n",
      "732/732 [==============================] - 1s 992us/step - loss: 253.4666 - acc: 0.6313\n",
      "Epoch 2/5\n",
      "732/732 [==============================] - 1s 992us/step - loss: 0.7449 - acc: 0.6608\n",
      "Epoch 3/5\n",
      "732/732 [==============================] - 1s 1ms/step - loss: 0.7395 - acc: 0.6808\n",
      "Epoch 4/5\n",
      "732/732 [==============================] - 1s 994us/step - loss: 0.7386 - acc: 0.6808\n",
      "Epoch 5/5\n",
      "732/732 [==============================] - 1s 1000us/step - loss: 0.7387 - acc: 0.6808\n",
      "183/183 [==============================] - 0s 711us/step - loss: 0.7444 - acc: 0.6808\n",
      "Score for fold 1: loss of 0.7444204688072205; acc of 68.08401346206665%\n",
      "Epoch 1/5\n",
      "732/732 [==============================] - 1s 1ms/step - loss: 0.7389 - acc: 0.6808\n",
      "Epoch 2/5\n",
      "732/732 [==============================] - 1s 995us/step - loss: 0.7388 - acc: 0.6808\n",
      "Epoch 3/5\n",
      "732/732 [==============================] - 1s 1ms/step - loss: 0.7391 - acc: 0.6808\n",
      "Epoch 4/5\n",
      "732/732 [==============================] - 1s 1ms/step - loss: 0.7389 - acc: 0.6808\n",
      "Epoch 5/5\n",
      "732/732 [==============================] - 1s 994us/step - loss: 0.7388 - acc: 0.6808\n",
      "183/183 [==============================] - 0s 778us/step - loss: 0.7448 - acc: 0.6808\n",
      "Score for fold 2: loss of 0.7447754144668579; acc of 68.08401346206665%\n",
      "Epoch 1/5\n",
      "732/732 [==============================] - 1s 1ms/step - loss: 0.7390 - acc: 0.6808\n",
      "Epoch 2/5\n",
      "732/732 [==============================] - 1s 1ms/step - loss: 0.7388 - acc: 0.6808\n",
      "Epoch 3/5\n",
      "732/732 [==============================] - 1s 995us/step - loss: 134.5580 - acc: 0.6632\n",
      "Epoch 4/5\n",
      "732/732 [==============================] - 1s 997us/step - loss: 0.7391 - acc: 0.6808\n",
      "Epoch 5/5\n",
      "732/732 [==============================] - 1s 1ms/step - loss: 0.7386 - acc: 0.6808\n",
      "183/183 [==============================] - 0s 779us/step - loss: 0.7432 - acc: 0.6808\n",
      "Score for fold 3: loss of 0.743161141872406; acc of 68.08401346206665%\n",
      "Epoch 1/5\n",
      "732/732 [==============================] - 1s 1ms/step - loss: 0.7386 - acc: 0.6808\n",
      "Epoch 2/5\n",
      "732/732 [==============================] - 1s 1ms/step - loss: 0.7385 - acc: 0.6808\n",
      "Epoch 3/5\n",
      "732/732 [==============================] - 1s 993us/step - loss: 0.7388 - acc: 0.6808\n",
      "Epoch 4/5\n",
      "732/732 [==============================] - 1s 1ms/step - loss: 0.7385 - acc: 0.6808\n",
      "Epoch 5/5\n",
      "732/732 [==============================] - 1s 1ms/step - loss: 0.7386 - acc: 0.6808\n",
      "183/183 [==============================] - 0s 779us/step - loss: 0.7432 - acc: 0.6808\n",
      "Score for fold 4: loss of 0.7432013154029846; acc of 68.08401346206665%\n",
      "Epoch 1/5\n",
      "732/732 [==============================] - 1s 1ms/step - loss: 0.7388 - acc: 0.6808\n",
      "Epoch 2/5\n",
      "732/732 [==============================] - 1s 1ms/step - loss: 0.7386 - acc: 0.6808\n",
      "Epoch 3/5\n",
      "732/732 [==============================] - 1s 999us/step - loss: 0.7388 - acc: 0.6808\n",
      "Epoch 4/5\n",
      "732/732 [==============================] - 1s 1ms/step - loss: 0.7386 - acc: 0.6808\n",
      "Epoch 5/5\n",
      "732/732 [==============================] - 1s 992us/step - loss: 0.7387 - acc: 0.6808\n",
      "183/183 [==============================] - 0s 776us/step - loss: 0.7435 - acc: 0.6808\n",
      "Score for fold 5: loss of 0.7435042858123779; acc of 68.08401346206665%\n",
      "------------------------------------------------------------------------\n",
      "Score per fold\n",
      "------------------------------------------------------------------------\n",
      "> Fold 1 - Loss: 0.7444204688072205 - Accuracy: 68.08401346206665%\n",
      "------------------------------------------------------------------------\n",
      "> Fold 2 - Loss: 0.7447754144668579 - Accuracy: 68.08401346206665%\n",
      "------------------------------------------------------------------------\n",
      "> Fold 3 - Loss: 0.743161141872406 - Accuracy: 68.08401346206665%\n",
      "------------------------------------------------------------------------\n",
      "> Fold 4 - Loss: 0.7432013154029846 - Accuracy: 68.08401346206665%\n",
      "------------------------------------------------------------------------\n",
      "> Fold 5 - Loss: 0.7435042858123779 - Accuracy: 68.08401346206665%\n",
      "------------------------------------------------------------------------\n",
      "Average scores for all folds:\n",
      "> Accuracy: 68.08401346206665 (+- 0.0)\n",
      "> Loss: 0.7438125252723694\n",
      "------------------------------------------------------------------------\n"
     ]
    }
   ],
   "source": [
    "# Define per-fold score containers\n",
    "# Define per-fold score containers\n",
    "from numpy.random import seed\n",
    "seed(1)\n",
    "import tensorflow\n",
    "tensorflow.random.set_seed(1)\n",
    "acc_per_fold = []\n",
    "loss_per_fold = []\n",
    "\n",
    "\n",
    "fold_no = 1\n",
    "for train, test in kfold.split(train_data_reshaped, y_train_mlp):\n",
    "  history = model_conv1D.fit(train_data_reshaped, y_train_mlp, verbose=1, epochs=5)\n",
    "  scores = model_conv1D.evaluate(X_test, y_test_mlp)\n",
    "  print(f'Score for fold {fold_no}: {model.metrics_names[0]} of {scores[0]}; {model.metrics_names[1]} of {scores[1]*100}%')\n",
    "  acc_per_fold.append(scores[1] * 100)\n",
    "  loss_per_fold.append(scores[0])\n",
    "\n",
    "  # Increase fold number\n",
    "  fold_no = fold_no + 1\n",
    "# == Provide average scores ==\n",
    "print('------------------------------------------------------------------------')\n",
    "print('Score per fold')\n",
    "for i in range(0, len(acc_per_fold)):\n",
    "  print('------------------------------------------------------------------------')\n",
    "  print(f'> Fold {i+1} - Loss: {loss_per_fold[i]} - Accuracy: {acc_per_fold[i]}%')\n",
    "print('------------------------------------------------------------------------')\n",
    "print('Average scores for all folds:')\n",
    "print(f'> Accuracy: {np.mean(acc_per_fold)} (+- {np.std(acc_per_fold)})')\n",
    "print(f'> Loss: {np.mean(loss_per_fold)}')\n",
    "print('------------------------------------------------------------------------')\n",
    "scores_mean = mean(acc_per_fold)/100\n",
    "scores_std = std(acc_per_fold)/100"
   ]
  },
  {
   "cell_type": "code",
   "execution_count": 117,
   "metadata": {},
   "outputs": [],
   "source": [
    "predictions = model_conv1D.predict(X_test)\n",
    "predicted_id = tf.math.argmax(predictions, axis=-1)\n",
    "model_name = \"CNN\"\n",
    "test_accuracy = accuracy_score(y_test,predicted_id )"
   ]
  },
  {
   "cell_type": "code",
   "execution_count": 118,
   "metadata": {},
   "outputs": [],
   "source": [
    "model_data_test_network_features = dict(model_name = model_name,\n",
    "                  #best_params = best_params,\n",
    "                  #train_score_accuracy = scores_mean,\n",
    "                  #train_scores_std = scores_std,\n",
    "                  test_accuracy = test_accuracy,\n",
    "                  )\n",
    "\n",
    "model_results_test_network_features = model_results_test_network_features.append(model_data_test_network_features, ignore_index=True)"
   ]
  },
  {
   "cell_type": "code",
   "execution_count": 119,
   "metadata": {},
   "outputs": [],
   "source": [
    "model_results_test_network_features = model_results_test_network_features.round(4)"
   ]
  },
  {
   "cell_type": "code",
   "execution_count": 120,
   "metadata": {},
   "outputs": [],
   "source": [
    "model_results_test_patient_features = model_results_test_patient_features.round(4)"
   ]
  },
  {
   "cell_type": "code",
   "execution_count": 121,
   "metadata": {},
   "outputs": [],
   "source": [
    "accuray_with_different_features = model_results_test_network_features.merge(model_results_test_patient_features, how='inner', on='model_name')"
   ]
  },
  {
   "cell_type": "code",
   "execution_count": 122,
   "metadata": {},
   "outputs": [
    {
     "data": {
      "text/html": [
       "<div>\n",
       "<style scoped>\n",
       "    .dataframe tbody tr th:only-of-type {\n",
       "        vertical-align: middle;\n",
       "    }\n",
       "\n",
       "    .dataframe tbody tr th {\n",
       "        vertical-align: top;\n",
       "    }\n",
       "\n",
       "    .dataframe thead th {\n",
       "        text-align: right;\n",
       "    }\n",
       "</style>\n",
       "<table border=\"1\" class=\"dataframe\">\n",
       "  <thead>\n",
       "    <tr style=\"text-align: right;\">\n",
       "      <th></th>\n",
       "      <th>model_name</th>\n",
       "      <th>test_accuracy_x</th>\n",
       "      <th>test_accuracy_y</th>\n",
       "    </tr>\n",
       "  </thead>\n",
       "  <tbody>\n",
       "    <tr>\n",
       "      <th>0</th>\n",
       "      <td>LR</td>\n",
       "      <td>0.6889</td>\n",
       "      <td>0.6549</td>\n",
       "    </tr>\n",
       "    <tr>\n",
       "      <th>1</th>\n",
       "      <td>KNN</td>\n",
       "      <td>0.6966</td>\n",
       "      <td>0.6417</td>\n",
       "    </tr>\n",
       "    <tr>\n",
       "      <th>2</th>\n",
       "      <td>NB</td>\n",
       "      <td>0.6211</td>\n",
       "      <td>0.6219</td>\n",
       "    </tr>\n",
       "    <tr>\n",
       "      <th>3</th>\n",
       "      <td>RF</td>\n",
       "      <td>0.7034</td>\n",
       "      <td>0.5927</td>\n",
       "    </tr>\n",
       "    <tr>\n",
       "      <th>4</th>\n",
       "      <td>XGBoost</td>\n",
       "      <td>0.7092</td>\n",
       "      <td>0.7541</td>\n",
       "    </tr>\n",
       "    <tr>\n",
       "      <th>5</th>\n",
       "      <td>MLP</td>\n",
       "      <td>0.6808</td>\n",
       "      <td>0.7290</td>\n",
       "    </tr>\n",
       "    <tr>\n",
       "      <th>6</th>\n",
       "      <td>CNN</td>\n",
       "      <td>0.6808</td>\n",
       "      <td>0.7408</td>\n",
       "    </tr>\n",
       "  </tbody>\n",
       "</table>\n",
       "</div>"
      ],
      "text/plain": [
       "  model_name  test_accuracy_x  test_accuracy_y\n",
       "0         LR           0.6889           0.6549\n",
       "1        KNN           0.6966           0.6417\n",
       "2         NB           0.6211           0.6219\n",
       "3         RF           0.7034           0.5927\n",
       "4    XGBoost           0.7092           0.7541\n",
       "5        MLP           0.6808           0.7290\n",
       "6        CNN           0.6808           0.7408"
      ]
     },
     "execution_count": 122,
     "metadata": {},
     "output_type": "execute_result"
    }
   ],
   "source": [
    "accuray_with_different_features"
   ]
  },
  {
   "cell_type": "code",
   "execution_count": 123,
   "metadata": {},
   "outputs": [],
   "source": [
    "accuray_with_different_features = accuray_with_different_features.rename(columns={\"test_accuracy_x\": \"Network Feature only\", \"test_accuracy_y\": \"Patient Feature only\"})"
   ]
  },
  {
   "cell_type": "code",
   "execution_count": 124,
   "metadata": {},
   "outputs": [],
   "source": [
    "accuray_with_different_features = accuray_with_different_features.transpose()"
   ]
  },
  {
   "cell_type": "code",
   "execution_count": 125,
   "metadata": {},
   "outputs": [],
   "source": [
    "accuray_with_different_features.columns=accuray_with_different_features.iloc[0]"
   ]
  },
  {
   "cell_type": "code",
   "execution_count": 126,
   "metadata": {},
   "outputs": [
    {
     "data": {
      "text/html": [
       "<div>\n",
       "<style scoped>\n",
       "    .dataframe tbody tr th:only-of-type {\n",
       "        vertical-align: middle;\n",
       "    }\n",
       "\n",
       "    .dataframe tbody tr th {\n",
       "        vertical-align: top;\n",
       "    }\n",
       "\n",
       "    .dataframe thead th {\n",
       "        text-align: right;\n",
       "    }\n",
       "</style>\n",
       "<table border=\"1\" class=\"dataframe\">\n",
       "  <thead>\n",
       "    <tr style=\"text-align: right;\">\n",
       "      <th>model_name</th>\n",
       "      <th>LR</th>\n",
       "      <th>KNN</th>\n",
       "      <th>NB</th>\n",
       "      <th>RF</th>\n",
       "      <th>XGBoost</th>\n",
       "      <th>MLP</th>\n",
       "      <th>CNN</th>\n",
       "    </tr>\n",
       "  </thead>\n",
       "  <tbody>\n",
       "    <tr>\n",
       "      <th>model_name</th>\n",
       "      <td>LR</td>\n",
       "      <td>KNN</td>\n",
       "      <td>NB</td>\n",
       "      <td>RF</td>\n",
       "      <td>XGBoost</td>\n",
       "      <td>MLP</td>\n",
       "      <td>CNN</td>\n",
       "    </tr>\n",
       "    <tr>\n",
       "      <th>Network Feature only</th>\n",
       "      <td>0.6889</td>\n",
       "      <td>0.6966</td>\n",
       "      <td>0.6211</td>\n",
       "      <td>0.7034</td>\n",
       "      <td>0.7092</td>\n",
       "      <td>0.6808</td>\n",
       "      <td>0.6808</td>\n",
       "    </tr>\n",
       "    <tr>\n",
       "      <th>Patient Feature only</th>\n",
       "      <td>0.6549</td>\n",
       "      <td>0.6417</td>\n",
       "      <td>0.6219</td>\n",
       "      <td>0.5927</td>\n",
       "      <td>0.7541</td>\n",
       "      <td>0.729</td>\n",
       "      <td>0.7408</td>\n",
       "    </tr>\n",
       "  </tbody>\n",
       "</table>\n",
       "</div>"
      ],
      "text/plain": [
       "model_name                LR     KNN      NB      RF  XGBoost     MLP     CNN\n",
       "model_name                LR     KNN      NB      RF  XGBoost     MLP     CNN\n",
       "Network Feature only  0.6889  0.6966  0.6211  0.7034   0.7092  0.6808  0.6808\n",
       "Patient Feature only  0.6549  0.6417  0.6219  0.5927   0.7541   0.729  0.7408"
      ]
     },
     "execution_count": 126,
     "metadata": {},
     "output_type": "execute_result"
    }
   ],
   "source": [
    "accuray_with_different_features"
   ]
  },
  {
   "cell_type": "code",
   "execution_count": 127,
   "metadata": {},
   "outputs": [],
   "source": [
    "accuray_with_different_features=accuray_with_different_features[1:]"
   ]
  },
  {
   "cell_type": "code",
   "execution_count": 128,
   "metadata": {},
   "outputs": [
    {
     "data": {
      "text/html": [
       "<div>\n",
       "<style scoped>\n",
       "    .dataframe tbody tr th:only-of-type {\n",
       "        vertical-align: middle;\n",
       "    }\n",
       "\n",
       "    .dataframe tbody tr th {\n",
       "        vertical-align: top;\n",
       "    }\n",
       "\n",
       "    .dataframe thead th {\n",
       "        text-align: right;\n",
       "    }\n",
       "</style>\n",
       "<table border=\"1\" class=\"dataframe\">\n",
       "  <thead>\n",
       "    <tr style=\"text-align: right;\">\n",
       "      <th>model_name</th>\n",
       "      <th>LR</th>\n",
       "      <th>KNN</th>\n",
       "      <th>NB</th>\n",
       "      <th>RF</th>\n",
       "      <th>XGBoost</th>\n",
       "      <th>MLP</th>\n",
       "      <th>CNN</th>\n",
       "    </tr>\n",
       "  </thead>\n",
       "  <tbody>\n",
       "    <tr>\n",
       "      <th>Network Feature only</th>\n",
       "      <td>0.6889</td>\n",
       "      <td>0.6966</td>\n",
       "      <td>0.6211</td>\n",
       "      <td>0.7034</td>\n",
       "      <td>0.7092</td>\n",
       "      <td>0.6808</td>\n",
       "      <td>0.6808</td>\n",
       "    </tr>\n",
       "    <tr>\n",
       "      <th>Patient Feature only</th>\n",
       "      <td>0.6549</td>\n",
       "      <td>0.6417</td>\n",
       "      <td>0.6219</td>\n",
       "      <td>0.5927</td>\n",
       "      <td>0.7541</td>\n",
       "      <td>0.729</td>\n",
       "      <td>0.7408</td>\n",
       "    </tr>\n",
       "  </tbody>\n",
       "</table>\n",
       "</div>"
      ],
      "text/plain": [
       "model_name                LR     KNN      NB      RF XGBoost     MLP     CNN\n",
       "Network Feature only  0.6889  0.6966  0.6211  0.7034  0.7092  0.6808  0.6808\n",
       "Patient Feature only  0.6549  0.6417  0.6219  0.5927  0.7541   0.729  0.7408"
      ]
     },
     "execution_count": 128,
     "metadata": {},
     "output_type": "execute_result"
    }
   ],
   "source": [
    "accuray_with_different_features"
   ]
  },
  {
   "cell_type": "code",
   "execution_count": 129,
   "metadata": {},
   "outputs": [],
   "source": [
    "accuray_with_different_features.to_csv(\"../results/Table5.csv\")"
   ]
  },
  {
   "cell_type": "markdown",
   "metadata": {},
   "source": [
    "## 5. Feature importance"
   ]
  },
  {
   "cell_type": "markdown",
   "metadata": {},
   "source": [
    "Since XGBoost outperformed other machine learning methods, it is vital to figure out which features are most relevant for a deeper understanding of the model. Feature importance provides a score to each feature based on its usefulness or importance to create the model's boosted trees. The higher the relative importance of a feature, the more it is used in trees to make key decisions or top-level splits. The feature importances of XGBoost are visualised in Figure 2. For feature importance, the number of episodes, transitivity, PageRank score with alcohol as a personalised vector, Degree are the most important features, which have F-1 feature importance gain score higher than 10. "
   ]
  },
  {
   "cell_type": "code",
   "execution_count": 130,
   "metadata": {},
   "outputs": [],
   "source": [
    "import pandas as pd\n",
    "df = pd.read_csv(\"../data/patient.csv\", index_col = \"person_id\")\n",
    "df['years_at_label'] = df[['years_service_at_label_age', 'years_elapse_other_chronic', 'years_elapse_other_Elixhauser']].max(axis = 1)\n",
    "df = df.drop(['years_service_at_label_age', 'years_elapse_other_chronic', 'concerned_chronic'], axis = 1)\n",
    "\n",
    "# df= df.drop([\"PHN_Code\":\"person_65_up\"], axis = 1)\n",
    "\n",
    "# df['years_elapse_EX'][df['years_elapse_EX'] > 0].reset_index()\n",
    "df.shape\n",
    "## generate a sampl e weights for the machine learning based on the years of patient in the system and number\n",
    "## of episodes have been diagnosed.\n",
    "\n",
    "year_epi_long = [ y > 1 and e > 1 for y, e in zip(df['years_at_label'], df['episode_num'])]\n",
    "## np.mean(year_epi_long)   ## 0.254542349726776\n",
    "weights = [1 if x == 1 else 0.5  for x in year_epi_long]\n",
    "\n",
    "X = df.drop(['concerned_chronic_num'], axis = 1)\n",
    "y = df['concerned_chronic_num']\n",
    "y_array = pd.get_dummies(y)\n",
    "\n",
    "dict(y.value_counts())\n",
    "X = X.rename(columns={\"years_at_label\":\"Years_at_label\",\"gender\": \"Gender\", \"age_at_label\": \"Age_at_label\", \"episode_num\" : \"Episode_num\", \"icd_code_num\" : \"Icd_code_num\",\"episode_num_Elixhauser\":\"Episode_num_Elixhauser\" ,\"episode_num_other_chronic\" :\"Episode_num_other_chronic\",\"icd_num_other_chronic\":\"Icd_num_other_chronic\",\"icd_num_Elixhauser\":\"Icd_num_Elixhauser\", \"icd_num_unique_other_chronic\":\"Icd_num_unique_other_chronic\",\"icd_num_unique_Elixhauser\":\"Icd_num_unique_Elixhauser\", \"icd_4chr_uniq_other_chronic\":\"Icd_4chr_uniq_other_chronic\",\"icd_4chr_uniq_other_Elixhauser\":\"Icd_4chr_uniq_other_Elixhauser\", \"icd_3chr_uniq_other_chronic\":\"Icd_3chr_uniq_other_chronic\",\"icd_3chr_uniq_other_Elixhauser\":\"Icd_3chr_uniq_other_Elixhauser\", \"years_elapse_other_Elixhauser\":\"Years_elapse_other_Elixhauser\"})\n",
    "X = X.rename(columns = {\"Trasitivity\":\"Transitivity\"})"
   ]
  },
  {
   "cell_type": "code",
   "execution_count": 131,
   "metadata": {},
   "outputs": [],
   "source": [
    "## initilize the dataframe\n",
    "from sklearn.model_selection import train_test_split\n",
    "model_results = pd.DataFrame()\n",
    "prediction_results = pd.DataFrame()\n",
    "classify_report = pd.DataFrame()\n",
    "\n",
    "X_train, X_test, y_train, y_test = train_test_split(X, y,\n",
    "                                                    # y_array, \n",
    "                                                    test_size = 0.2,\n",
    "                                                    random_state = 1234)\n",
    "\n",
    "#weights = [1 if x == 1 else 0.5  for x in [ y > 1 and e > 1 for y, e in zip(X_train['Years_at_label'], X_train['Episode_num'])]]\n",
    "\n",
    "## get test data index\n",
    "y_test_index = X_test.index\n",
    "pred_index = y_test_index.to_numpy().reshape(-1,1)\n",
    "\n",
    "auc_score = make_scorer(roc_auc_score)"
   ]
  },
  {
   "cell_type": "code",
   "execution_count": 132,
   "metadata": {},
   "outputs": [
    {
     "name": "stdout",
     "output_type": "stream",
     "text": [
      "[13:44:11] WARNING: /Users/runner/work/xgboost/xgboost/python-package/build/temp.macosx-10.9-x86_64-3.7/xgboost/src/learner.cc:627: \n",
      "Parameters: { \"scale_pos_weight\" } might not be used.\n",
      "\n",
      "  This could be a false alarm, with some parameters getting used by language bindings but\n",
      "  then being mistakenly passed down to XGBoost core, or some parameter actually being used\n",
      "  but getting flagged wrongly here. Please open an issue if you find any such cases.\n",
      "\n",
      "\n",
      "Accuracy on test data: 0.9505\n"
     ]
    }
   ],
   "source": [
    "xgb_model = xgb.XGBClassifier(scale_pos_weight = 1,\n",
    "                                                 min_child_weight = 1, \n",
    "                                                 n_estimators = 2000,\n",
    "                                                 max_depth = 5,\n",
    "                                                 subsample = 0.8,\n",
    "                                                 learning_rate = 0.01,\n",
    "                                                 colsample_bytree = 0.8,\n",
    "                                                 objective = 'binary:logistic', random_state = 1234)\n",
    "\n",
    "xgb_model.fit(X_train, y_train)\n",
    "pred = xgb_model.predict(X_test)\n",
    "accuracy_score(y_test, pred)\n",
    "\n",
    "print(\"Accuracy on test data: {:.4f}\".format(xgb_model.score(X_test, y_test)))"
   ]
  },
  {
   "cell_type": "code",
   "execution_count": 133,
   "metadata": {},
   "outputs": [
    {
     "data": {
      "image/png": "[encoded data removed]",
      "text/plain": [
       "<Figure size 432x288 with 1 Axes>"
      ]
     },
     "metadata": {
      "needs_background": "light"
     },
     "output_type": "display_data"
    }
   ],
   "source": [
    "import matplotlib.pyplot as plt\n",
    "\n",
    "ax = xgb.plot_importance(xgb_model, height = 0.9, max_num_features=10, title = None, grid=False, show_values=False, importance_type='gain', ylabel=None)\n",
    "#xgb.plot_importance(xgb_model, ax=None, height=0.2, xlim=None, ylim=None, title='Feature importance', xlabel='F score', ylabel='Features', fmap='', importance_type='weight', max_num_features=None, grid=True, show_values=True, **kwargs)\n",
    "ax.figure.tight_layout()\n",
    "ax.figure.savefig('../results/Figure2.png', dpi = 200)"
   ]
  },
  {
   "cell_type": "code",
   "execution_count": 134,
   "metadata": {},
   "outputs": [
    {
     "data": {
      "image/png": "[encoded data removed]",
      "text/plain": [
       "<Figure size 864x576 with 2 Axes>"
      ]
     },
     "metadata": {
      "needs_background": "light"
     },
     "output_type": "display_data"
    }
   ],
   "source": [
    "from sklearn.inspection import permutation_importance\n",
    "import matplotlib.pyplot as plt\n",
    "\n",
    "xgb_model.feature_importances_  ##[xgb_importance_sorted_idx]\n",
    "\n",
    "\n",
    "\n",
    "result = permutation_importance(xgb_model, X_train, y_train, \n",
    "                                random_state=1142)\n",
    "perm_sorted_idx = result.importances_mean.argsort()\n",
    "\n",
    "xgb_importance_sorted_idx = np.argsort(xgb_model.feature_importances_)\n",
    "xgb_ypos = np.arange(0, len(xgb_model.feature_importances_)) + 0.5\n",
    "\n",
    "fig, (ax1, ax2) = plt.subplots(1, 2, figsize=(12, 8))\n",
    "# fig, (ax1) = plt.subplots(1, figsize=(12, 8))\n",
    "ax1.barh(xgb_ypos,\n",
    "         xgb_model.feature_importances_[xgb_importance_sorted_idx], height=0.7)\n",
    "ax1.set_yticklabels(X.columns.values[xgb_importance_sorted_idx])\n",
    "ax1.set_yticks(xgb_ypos)\n",
    "ax1.set_ylim((0, len(xgb_model.feature_importances_)))\n",
    "ax2.boxplot(result.importances[perm_sorted_idx].T, vert=False,\n",
    "            labels=X.columns.values[perm_sorted_idx])\n",
    "fig.tight_layout()\n",
    "#plt.savefig('Variable_importance_2_perm_with_net.png', dpi=1000)\n",
    "plt.show()"
   ]
  },
  {
   "cell_type": "markdown",
   "metadata": {},
   "source": [
    "\n",
    "When features are collinear, permutating one feature will have little effect on the models performance because it \n",
    "can get the same information from a correlated feature. One way to handle multicollinear features is by performing \n",
    "hierarchical clustering on the Spearman rank-order correlations, picking a threshold, and keeping a single feature \n",
    "from each cluster. First, we plot a heatmap of the correlated features:"
   ]
  },
  {
   "cell_type": "code",
   "execution_count": 135,
   "metadata": {},
   "outputs": [
    {
     "data": {
      "image/png": "[encoded data removed]",
      "text/plain": [
       "<Figure size 432x288 with 2 Axes>"
      ]
     },
     "metadata": {
      "needs_background": "light"
     },
     "output_type": "display_data"
    }
   ],
   "source": [
    "\n",
    "from scipy.stats import spearmanr\n",
    "from scipy.cluster import hierarchy\n",
    "from collections import defaultdict\n",
    "import pandas as pd\n",
    "import matplotlib.pyplot as plt\n",
    "defaultdict(list)\n",
    "\n",
    "import matplotlib.pyplot as plt\n",
    "import numpy as np\n",
    "\n",
    "\n",
    "#fig, (ax2) = plt.subplots(1, 1, figsize=(12, 6))\n",
    "\n",
    "#fig, (ax1, ax2) = plt.subplots(1, 2, figsize=(12, 9))\n",
    "corr = spearmanr(X).correlation\n",
    "corr_linkage = hierarchy.ward(corr)\n",
    "dendro = hierarchy.dendrogram(\n",
    "    corr_linkage, labels=X.columns.values.tolist(), ax=ax1, leaf_rotation=90\n",
    ")\n",
    "dendro_idx = np.arange(0, len(dendro['ivl']))\n",
    "\n",
    "plt.imshow(corr[dendro['leaves'], :][:, dendro['leaves']])\n",
    "plt.colorbar()\n",
    "plt.xticks(dendro_idx)\n",
    "plt.yticks(dendro_idx)\n",
    "#plt.set_xticklabels(dendro['ivl'], rotation=90)\n",
    "#plt.set_yticklabels(dendro['ivl'])\n",
    "#fig.suptitle(\"Variable correlation\", fontsize=14)#, va = \"bottom\")\n",
    "#fig.tight_layout()\n",
    "#plt.savefig('Variable_cluster_with_network.png')\n",
    "\n",
    "plt.show()"
   ]
  },
  {
   "cell_type": "code",
   "execution_count": 136,
   "metadata": {},
   "outputs": [
    {
     "data": {
      "image/png": "[encoded data removed]",
      "text/plain": [
       "<Figure size 648x432 with 1 Axes>"
      ]
     },
     "metadata": {
      "needs_background": "light"
     },
     "output_type": "display_data"
    }
   ],
   "source": [
    "\n",
    "from scipy.stats import spearmanr\n",
    "from scipy.cluster import hierarchy\n",
    "from collections import defaultdict\n",
    "defaultdict(list)\n",
    "\n",
    "import matplotlib.pyplot as plt\n",
    "import numpy as np\n",
    "\n",
    "\n",
    "fig, (ax1) = plt.subplots(1, 1, figsize=(9,6 ))\n",
    "\n",
    "#fig, (ax1, ax2) = plt.subplots(1, 2, figsize=(12, 9))\n",
    "corr = spearmanr(X).correlation\n",
    "corr_linkage = hierarchy.ward(corr)\n",
    "dendro = hierarchy.dendrogram(\n",
    "    corr_linkage, labels=X.columns.values.tolist(), ax=ax1, leaf_rotation=90\n",
    ")\n",
    "dendro_idx = np.arange(0, len(dendro['ivl']))\n",
    "\n",
    "ax2.imshow(corr[dendro['leaves'], :][:, dendro['leaves']])\n",
    "#ax2.colorbar()\n",
    "\n",
    "ax2.set_xticks(dendro_idx)\n",
    "ax2.set_yticks(dendro_idx)\n",
    "ax2.set_xticklabels(dendro['ivl'], rotation=90 )\n",
    "ax2.set_yticklabels(dendro['ivl'])\n",
    "#fig.suptitle(\"Variable correlation\", fontsize=14)#, va = \"bottom\")\n",
    "fig.tight_layout()\n",
    "plt.savefig('../results/Figure3.png', dpi = 200)\n",
    "\n",
    "plt.show()"
   ]
  },
  {
   "cell_type": "code",
   "execution_count": 137,
   "metadata": {},
   "outputs": [
    {
     "data": {
      "image/png": "[encoded data removed]",
      "text/plain": [
       "<Figure size 648x432 with 2 Axes>"
      ]
     },
     "metadata": {
      "needs_background": "light"
     },
     "output_type": "display_data"
    }
   ],
   "source": [
    "import seaborn as sns\n",
    "corr = spearmanr(X).correlation\n",
    "\n",
    "\n",
    "fig, (ax) = plt.subplots(1, 1, figsize=(9,6 ))\n",
    "\n",
    "\n",
    "ax = sns.heatmap(\n",
    "    corr, \n",
    "    vmin=-1, vmax=1, center=0,\n",
    "    cmap=sns.diverging_palette(20, 220, n=200),\n",
    "    square=True\n",
    ")\n",
    "\n",
    "ax.set_xticks(dendro_idx)\n",
    "ax.set_yticks(dendro_idx)\n",
    "ax.set_xticklabels(dendro['ivl'], rotation=90)\n",
    "ax.set_yticklabels(dendro['ivl'], rotation=360)\n",
    "#fig.suptitle(\"Variable correlation\", fontsize=14)#, va = \"bottom\")\n",
    "fig.tight_layout()\n",
    "plt.savefig('../results/Figure4.png', dpi = 200)\n",
    "\n"
   ]
  },
  {
   "cell_type": "markdown",
   "metadata": {},
   "source": [
    "## 6. Best model "
   ]
  },
  {
   "cell_type": "markdown",
   "metadata": {},
   "source": [
    "Next, we manually pick a threshold by visual inspection of the dendrogram to group our features into clusters and \n",
    "choose a feature from each cluster to keep, select those features from our dataset, and train a new Xgboost. \n",
    "The test accuracy of the new random forest did not change much compared to the Xgboost trained on the \n",
    "complete dataset."
   ]
  },
  {
   "cell_type": "code",
   "execution_count": 138,
   "metadata": {},
   "outputs": [
    {
     "name": "stdout",
     "output_type": "stream",
     "text": [
      "[13:45:29] WARNING: /Users/runner/work/xgboost/xgboost/python-package/build/temp.macosx-10.9-x86_64-3.7/xgboost/src/learner.cc:627: \n",
      "Parameters: { \"scale_pos_weight\" } might not be used.\n",
      "\n",
      "  This could be a false alarm, with some parameters getting used by language bindings but\n",
      "  then being mistakenly passed down to XGBoost core, or some parameter actually being used\n",
      "  but getting flagged wrongly here. Please open an issue if you find any such cases.\n",
      "\n",
      "\n",
      "Accuracy on test data: 0.9517\n"
     ]
    }
   ],
   "source": [
    "\n",
    "\n",
    "cluster_ids = hierarchy.fcluster(corr_linkage, 0.2, criterion='distance')\n",
    "cluster_id_to_feature_ids = defaultdict(list)\n",
    "for idx, cluster_id in enumerate(cluster_ids):\n",
    "    cluster_id_to_feature_ids[cluster_id].append(idx)\n",
    "selected_features = [v[0] for v in cluster_id_to_feature_ids.values()]\n",
    "X.columns.values[selected_features]\n",
    "\n",
    "\n",
    "X_train_sel = X_train.iloc[:, selected_features]\n",
    "X_test_sel = X_test.iloc[:, selected_features]\n",
    "\n",
    "X_test_sel.head()\n",
    "\n",
    "xgb_model.fit(X_train_sel, y_train)\n",
    "pred = xgb_model.predict(X_test_sel)\n",
    "accuracy_score(y_test, pred)\n",
    "\n",
    "print(\"Accuracy on test data: {:.4f}\".format(xgb_model.score(X_test_sel, y_test)))\n",
    "\n",
    "\n"
   ]
  },
  {
   "cell_type": "code",
   "execution_count": 139,
   "metadata": {},
   "outputs": [],
   "source": [
    "best_result = xgb_model.score(X_test_sel, y_test)\n"
   ]
  },
  {
   "cell_type": "code",
   "execution_count": 140,
   "metadata": {},
   "outputs": [],
   "source": [
    "df_best = pd.DataFrame({'best result': [best_result]})"
   ]
  },
  {
   "cell_type": "code",
   "execution_count": 141,
   "metadata": {},
   "outputs": [],
   "source": [
    "df_best = df_best.round(4)"
   ]
  },
  {
   "cell_type": "code",
   "execution_count": 142,
   "metadata": {},
   "outputs": [],
   "source": [
    "df_best.to_csv(\"../results/best_result.csv\", index = False)"
   ]
  },
  {
   "cell_type": "code",
   "execution_count": 143,
   "metadata": {},
   "outputs": [],
   "source": [
    "header = []\n",
    "for col in X_train_sel.columns:\n",
    "    header.append(col)"
   ]
  },
  {
   "cell_type": "code",
   "execution_count": 144,
   "metadata": {},
   "outputs": [],
   "source": [
    "header = pd.DataFrame (header, columns = ['final feature'])"
   ]
  },
  {
   "cell_type": "code",
   "execution_count": 145,
   "metadata": {},
   "outputs": [],
   "source": [
    "header.to_csv(\"../results/Table6.csv\", index = False)\n",
    "\n"
   ]
  },
  {
   "cell_type": "code",
   "execution_count": 146,
   "metadata": {},
   "outputs": [
    {
     "name": "stdout",
     "output_type": "stream",
     "text": [
      "[[1085   48    3]\n",
      " [   5 3446  161]\n",
      " [   1   65 1042]]\n"
     ]
    }
   ],
   "source": [
    "from sklearn.metrics import confusion_matrix\n",
    "cf_matrix = confusion_matrix(y_test, pred)\n",
    "print(cf_matrix)"
   ]
  },
  {
   "cell_type": "code",
   "execution_count": 147,
   "metadata": {},
   "outputs": [],
   "source": [
    "import numpy as np\n",
    "import matplotlib.pyplot as plt\n",
    "import seaborn as sns\n",
    "\n",
    "def make_confusion_matrix(cf,\n",
    "                          group_names=None,\n",
    "                          categories=index_to_label(np.unique(y_test)),\n",
    "                          count=True,\n",
    "                          percent=True,\n",
    "                          cbar=True,\n",
    "                          xyticks=True,\n",
    "                          xyplotlabels=True,\n",
    "                          sum_stats=True,\n",
    "                          figsize=None,\n",
    "                          cmap='Blues',\n",
    "                          title=None):\n",
    "    '''\n",
    "    This function will make a pretty plot of an sklearn Confusion Matrix cm using a Seaborn heatmap visualization.\n",
    "    Arguments\n",
    "    ---------\n",
    "    cf:            confusion matrix to be passed in\n",
    "    group_names:   List of strings that represent the labels row by row to be shown in each square.\n",
    "    categories:    List of strings containing the categories to be displayed on the x,y axis. Default is 'auto'\n",
    "    count:         If True, show the raw number in the confusion matrix. Default is True.\n",
    "    normalize:     If True, show the proportions for each category. Default is True.\n",
    "    cbar:          If True, show the color bar. The cbar values are based off the values in the confusion matrix.\n",
    "                   Default is True.\n",
    "    xyticks:       If True, show x and y ticks. Default is True.\n",
    "    xyplotlabels:  If True, show 'True Label' and 'Predicted Label' on the figure. Default is True.\n",
    "    sum_stats:     If True, display summary statistics below the figure. Default is True.\n",
    "    figsize:       Tuple representing the figure size. Default will be the matplotlib rcParams value.\n",
    "    cmap:          Colormap of the values displayed from matplotlib.pyplot.cm. Default is 'Blues'\n",
    "                   See http://matplotlib.org/examples/color/colormaps_reference.html\n",
    "                   \n",
    "    title:         Title for the heatmap. Default is None.\n",
    "    '''\n",
    "\n",
    "\n",
    "    # CODE TO GENERATE TEXT INSIDE EACH SQUARE\n",
    "    blanks = ['' for i in range(cf.size)]\n",
    "\n",
    "    if group_names and len(group_names)==cf.size:\n",
    "        group_labels = [\"{}\\n\".format(value) for value in group_names]\n",
    "    else:\n",
    "        group_labels = blanks\n",
    "\n",
    "    if count:\n",
    "        group_counts = [\"{0:0.0f}\\n\".format(value) for value in cf.flatten()]\n",
    "    else:\n",
    "        group_counts = blanks\n",
    "\n",
    "    if percent:\n",
    "        group_percentages = [\"{0:.2%}\".format(value) for value in cf.flatten()/np.sum(cf)]\n",
    "    else:\n",
    "        group_percentages = blanks\n",
    "\n",
    "    box_labels = [f\"{v1}{v2}{v3}\".strip() for v1, v2, v3 in zip(group_labels,group_counts,group_percentages)]\n",
    "    box_labels = np.asarray(box_labels).reshape(cf.shape[0],cf.shape[1])\n",
    "\n",
    "\n",
    "    # CODE TO GENERATE SUMMARY STATISTICS & TEXT FOR SUMMARY STATS\n",
    "    if sum_stats:\n",
    "        #Accuracy is sum of diagonal divided by total observations\n",
    "        accuracy  = np.trace(cf) / float(np.sum(cf))\n",
    "\n",
    "        #if it is a binary confusion matrix, show some more stats\n",
    "        if len(cf)==2:\n",
    "            #Metrics for Binary Confusion Matrices\n",
    "            precision = cf[1,1] / sum(cf[:,1])\n",
    "            recall    = cf[1,1] / sum(cf[1,:])\n",
    "            f1_score  = 2*precision*recall / (precision + recall)\n",
    "            stats_text = \"\\n\\nAccuracy={:0.3f}\\nPrecision={:0.3f}\\nRecall={:0.3f}\\nF1 Score={:0.3f}\".format(\n",
    "                accuracy,precision,recall,f1_score)\n",
    "        else:\n",
    "            stats_text = \"\\n\\nAccuracy={:0.3f}\".format(accuracy)\n",
    "    else:\n",
    "        stats_text = \"\"\n",
    "\n",
    "\n",
    "    # SET FIGURE PARAMETERS ACCORDING TO OTHER ARGUMENTS\n",
    "    if figsize==None:\n",
    "        #Get default figure size if not set\n",
    "        figsize = plt.rcParams.get('figure.figsize')\n",
    "\n",
    "    if xyticks==False:\n",
    "        #Do not show categories if xyticks is False\n",
    "        categories=False\n",
    "\n",
    "\n",
    "    # MAKE THE HEATMAP VISUALIZATION\n",
    "    plt.figure(figsize=figsize)\n",
    "    sns.heatmap(cf,annot=box_labels,fmt=\"\",cmap=cmap,cbar=cbar,xticklabels=categories,yticklabels=categories)\n",
    "\n",
    "    if xyplotlabels:\n",
    "        plt.ylabel('Actual')\n",
    "        plt.xlabel('Predicted' + stats_text)\n",
    "    else:\n",
    "        plt.xlabel(stats_text)\n",
    "    \n",
    "    if title:\n",
    "        plt.title(title)\n",
    "    \n",
    "    plt.savefig(\"../results/Figure5.png\", dpi = 100)\n",
    "\n"
   ]
  },
  {
   "cell_type": "code",
   "execution_count": 148,
   "metadata": {},
   "outputs": [
    {
     "data": {
      "image/png": "[encoded data removed]",
      "text/plain": [
       "<Figure size 432x288 with 1 Axes>"
      ]
     },
     "metadata": {
      "needs_background": "light"
     },
     "output_type": "display_data"
    }
   ],
   "source": [
    "make_confusion_matrix(cf_matrix, cbar=False, sum_stats=False)"
   ]
  },
  {
   "cell_type": "code",
   "execution_count": 149,
   "metadata": {},
   "outputs": [],
   "source": [
    "# Clear the current axes.\n",
    "plt.cla() \n",
    "# Clear the current figure.\n",
    "plt.clf() \n",
    "# Closes all the figure windows.\n",
    "plt.close('all')"
   ]
  },
  {
   "cell_type": "markdown",
   "metadata": {},
   "source": [
    "ax = xgb.plot_importance(xgb_model, height = 0.9, max_num_features=10, title = None, grid=False, show_values=False, importance_type='gain', ylabel=None)\n",
    "ax.figure.tight_layout()\n",
    "ax.figure.savefig('../results/Figure6.png', dpi = 200)"
   ]
  },
  {
   "cell_type": "code",
   "execution_count": 150,
   "metadata": {},
   "outputs": [
    {
     "data": {
      "image/png": "[encoded data removed]",
      "text/plain": [
       "<Figure size 432x288 with 1 Axes>"
      ]
     },
     "metadata": {
      "needs_background": "light"
     },
     "output_type": "display_data"
    }
   ],
   "source": [
    "\n",
    "ax = xgb.plot_importance(xgb_model, height = 0.9, max_num_features=10, title = None, grid=False, show_values=False, importance_type='gain', ylabel=None)\n",
    "ax.figure.tight_layout()\n",
    "ax.figure.savefig('../results/Figure6.png', dpi = 100)"
   ]
  },
  {
   "cell_type": "code",
   "execution_count": 160,
   "metadata": {},
   "outputs": [],
   "source": [
    "# Clear the current axes.\n",
    "plt.cla() \n",
    "# Clear the current figure.\n",
    "plt.clf() \n",
    "# Closes all the figure windows.\n",
    "plt.close('all')"
   ]
  },
  {
   "cell_type": "markdown",
   "metadata": {},
   "source": [
    "## 7. KDE"
   ]
  },
  {
   "cell_type": "markdown",
   "metadata": {},
   "source": [
    "Finally, we consider the first four features as an example to demonstrate their distribution dissimilarities across three classes. Figure 7 presents the corresponding kernel distribution estimations based on the density distributions for these four attributes. According to Figure 7(a), the patients with one episode are the afflicted group for the number of episodes. As a result, the plot reveals that the number of episodes is an important factor in predicting comorbidity and multimorbidity. We observed similar distinguished distributions for the other three features in Figures 7(b)-(d)."
   ]
  },
  {
   "cell_type": "code",
   "execution_count": 151,
   "metadata": {},
   "outputs": [],
   "source": [
    "df_kde_episode_num = pd.merge(\n",
    "    X['Episode_num'],\n",
    "    y_array,\n",
    "    how=\"inner\",\n",
    "    on = 'person_id')\n",
    "\n",
    "df_kde_trasitivity = pd.merge(\n",
    "    X['Transitivity'],\n",
    "    y_array,\n",
    "    how=\"inner\",\n",
    "    on = 'person_id')\n",
    "\n",
    "df_kde_pagerank = pd.merge(\n",
    "    X['Pagerank_Alcohol'],\n",
    "    y_array,\n",
    "    how=\"inner\",\n",
    "    on = 'person_id')\n",
    "\n",
    "df_kde_alcohol = pd.merge(\n",
    "    X['Alcohol'],\n",
    "    y_array,\n",
    "    how=\"inner\",\n",
    "    on = 'person_id')\n",
    "\n",
    "df_kde_episode_num = df_kde_episode_num.rename(columns={0: \"No CD\", 1: \"1 CD\", 2: \">=2 CD\"})\n",
    "df_kde_trasitivity = df_kde_trasitivity.rename(columns={0: \"No CD\", 1: \"1 CD\", 2: \">=2 CD\"})\n",
    "df_kde_pagerank = df_kde_pagerank.rename(columns={0: \"No CD\", 1: \"1 CD\", 2: \">=2 CD\"})\n",
    "df_kde_alcohol= df_kde_alcohol.rename(columns={0: \"No CD\", 1: \"1 CD\", 2: \">=2 CD\"})"
   ]
  },
  {
   "cell_type": "code",
   "execution_count": 152,
   "metadata": {},
   "outputs": [],
   "source": [
    "df_kde_episode_num_nocd = df_kde_episode_num[df_kde_episode_num['No CD'] > 0]\n",
    "df_kde_episode_num_1cd = df_kde_episode_num[df_kde_episode_num['1 CD'] > 0]\n",
    "df_kde_episode_num_2cd = df_kde_episode_num[df_kde_episode_num['>=2 CD'] > 0]\n",
    "df_kde_episode_num_nocd = df_kde_episode_num_nocd[[\"Episode_num\"]]\n",
    "df_kde_episode_num_1cd = df_kde_episode_num_1cd[[\"Episode_num\"]]\n",
    "df_kde_episode_num_2cd = df_kde_episode_num_2cd[[\"Episode_num\"]]\n",
    "df_kde_episode_num_1CD = df_kde_episode_num_1cd.rename(columns={\"Episode_num\": \"1 CD\"})\n",
    "df_kde_episode_num_noCD = df_kde_episode_num_nocd.rename(columns={\"Episode_num\": \"no CD\"})\n",
    "df1cd = df_kde_episode_num_1CD['1 CD'].tolist()\n",
    "dfnocd = df_kde_episode_num_noCD['no CD'].tolist()\n",
    "df_kde_episode_num_2CD = df_kde_episode_num_2cd.rename(columns={\"Episode_num\": \">=2 CD\"})\n",
    "df1cd = df_kde_episode_num_2CD['>=2 CD'].tolist()"
   ]
  },
  {
   "cell_type": "code",
   "execution_count": 153,
   "metadata": {},
   "outputs": [],
   "source": [
    "df_kde_trasitivity_nocd = df_kde_trasitivity[df_kde_trasitivity['No CD'] > 0]\n",
    "df_kde_trasitivity_1cd = df_kde_trasitivity[df_kde_trasitivity['1 CD'] > 0]\n",
    "df_kde_trasitivity_2cd = df_kde_trasitivity[df_kde_trasitivity['>=2 CD'] > 0]\n",
    "df_kde_trasitivity_nocd = df_kde_trasitivity_nocd[[\"Transitivity\"]]\n",
    "df_kde_trasitivity_1cd = df_kde_trasitivity_1cd[[\"Transitivity\"]]\n",
    "df_kde_trasitivity_2cd = df_kde_trasitivity_2cd[[\"Transitivity\"]]\n",
    "df_kde_trasitivity_1CD = df_kde_trasitivity_1cd.rename(columns={\"Transitivity\": \"1 CD\"})\n",
    "df_kde_trasitivity_noCD = df_kde_trasitivity_nocd.rename(columns={\"Transitivity\": \"no CD\"})\n",
    "df1cd = df_kde_trasitivity_1CD['1 CD'].tolist()\n",
    "dfnocd = df_kde_trasitivity_noCD['no CD'].tolist()\n",
    "df_kde_trasitivity_2CD = df_kde_trasitivity_2cd.rename(columns={\"Transitivity\": \">=2 CD\"})\n",
    "df1cd = df_kde_trasitivity_2CD['>=2 CD'].tolist()"
   ]
  },
  {
   "cell_type": "code",
   "execution_count": 154,
   "metadata": {},
   "outputs": [],
   "source": [
    "df_kde_pagerank_nocd = df_kde_pagerank[df_kde_pagerank['No CD'] > 0]\n",
    "df_kde_pagerank_1cd = df_kde_pagerank[df_kde_pagerank['1 CD'] > 0]\n",
    "df_kde_pagerank_2cd = df_kde_pagerank[df_kde_pagerank['>=2 CD'] > 0]\n",
    "df_kde_pagerank_nocd = df_kde_pagerank_nocd[[\"Pagerank_Alcohol\"]]\n",
    "df_kde_pagerank_1cd = df_kde_pagerank_1cd[[\"Pagerank_Alcohol\"]]\n",
    "df_kde_pagerank_2cd = df_kde_pagerank_2cd[[\"Pagerank_Alcohol\"]]\n",
    "df_kde_pagerank_1CD = df_kde_pagerank_1cd.rename(columns={\"Pagerank_Alcohol\": \"1 CD\"})\n",
    "df_kde_pagerank_noCD = df_kde_pagerank_nocd.rename(columns={\"Pagerank_Alcohol\": \"no CD\"})\n",
    "df1cd = df_kde_pagerank_1CD['1 CD'].tolist()\n",
    "dfnocd = df_kde_pagerank_noCD['no CD'].tolist()\n",
    "df_kde_pagerank_2CD = df_kde_pagerank_2cd.rename(columns={\"Pagerank_Alcohol\": \">=2 CD\"})\n",
    "df1cd = df_kde_pagerank_2CD['>=2 CD'].tolist()"
   ]
  },
  {
   "cell_type": "code",
   "execution_count": 155,
   "metadata": {},
   "outputs": [],
   "source": [
    "df_kde_alcohol_nocd = df_kde_alcohol[df_kde_alcohol['No CD'] > 0]\n",
    "df_kde_alcohol_1cd = df_kde_alcohol[df_kde_alcohol['1 CD'] > 0]\n",
    "df_kde_alcohol_2cd = df_kde_alcohol[df_kde_alcohol['>=2 CD'] > 0]\n",
    "df_kde_alcohol_nocd = df_kde_alcohol[[\"Alcohol\"]]\n",
    "df_kde_alcohol_1cd = df_kde_alcohol[[\"Alcohol\"]]\n",
    "df_kde_alcohol_2cd = df_kde_alcohol_2cd[[\"Alcohol\"]]\n",
    "df_kde_alcohol_1CD = df_kde_alcohol_1cd.rename(columns={\"Alcohol\": \"1 CD\"})\n",
    "df_kde_alcohol_noCD = df_kde_alcohol_nocd.rename(columns={\"Alcohol\": \"no CD\"})\n",
    "df1cd = df_kde_alcohol_1CD['1 CD'].tolist()\n",
    "dfnocd = df_kde_alcohol_noCD['no CD'].tolist()\n",
    "df_kde_alcohol_2CD = df_kde_alcohol_2cd.rename(columns={\"Alcohol\": \">=2 CD\"})\n",
    "df1cd = df_kde_alcohol_2CD['>=2 CD'].tolist()"
   ]
  },
  {
   "cell_type": "code",
   "execution_count": 156,
   "metadata": {},
   "outputs": [
    {
     "data": {
      "image/png": "[encoded data removed]",
      "text/plain": [
       "<Figure size 648x432 with 1 Axes>"
      ]
     },
     "metadata": {},
     "output_type": "display_data"
    }
   ],
   "source": [
    "import seaborn as sns\n",
    "import matplotlib.pyplot as plt\n",
    "plt.rcParams[\"font.family\"] = \"Liberation Sans\"\n",
    "sns.set(font=\"Liberation Sans\")\n",
    "plt.rcParams[\"figure.figsize\"]=9,6\n",
    "# set a grey background (use sns.set_theme() if seaborn version 0.11.0 or above) \n",
    "\n",
    "#sns.set(font_scale =5)\n",
    "sns.set(style=\"white\")\n",
    "# plotting both distibutions on the same figure\n",
    "fig = sns.kdeplot(df_kde_episode_num_noCD[\"no CD\"], shade=True, color=\"g\",  label='no CD')\n",
    "fig = sns.kdeplot(df_kde_episode_num_1CD[\"1 CD\"], shade=True, color=\"r\", label='1 CD')\n",
    "fig = sns.kdeplot(df_kde_episode_num_2CD[\">=2 CD\"], shade=True, color=\"b\", label='>=2 CD')\n",
    "plt.xlim(0, 5, )\n",
    "plt.legend(fontsize = 16)\n",
    "plt.xlabel('The number of episodes', fontsize = 16)\n",
    "plt.ylabel('Density', fontsize = 16)\n",
    "plt.savefig('../results/Figure7a.png', dpi = 200)"
   ]
  },
  {
   "cell_type": "code",
   "execution_count": 161,
   "metadata": {},
   "outputs": [],
   "source": [
    "# Clear the current axes.\n",
    "plt.cla() \n",
    "# Clear the current figure.\n",
    "plt.clf() \n",
    "# Closes all the figure windows.\n",
    "plt.close('all')"
   ]
  },
  {
   "cell_type": "code",
   "execution_count": 162,
   "metadata": {},
   "outputs": [
    {
     "data": {
      "image/png": "[encoded data removed]",
      "text/plain": [
       "<Figure size 648x432 with 1 Axes>"
      ]
     },
     "metadata": {},
     "output_type": "display_data"
    }
   ],
   "source": [
    "import seaborn as sns\n",
    "import matplotlib.pyplot as plt\n",
    "plt.rcParams[\"figure.figsize\"]=9,6\n",
    "# set a grey background (use sns.set_theme() if seaborn version 0.11.0 or above) \n",
    "sns.set(style=\"white\")\n",
    "# plotting both distibutions on the same figure\n",
    "fig = sns.kdeplot(df_kde_pagerank_noCD[\"no CD\"], shade=True, color=\"g\",  label='no CD')\n",
    "fig = sns.kdeplot(df_kde_pagerank_1CD[\"1 CD\"], shade=True, color=\"r\", label='1 CD')\n",
    "fig = sns.kdeplot(df_kde_pagerank_2CD[\">=2 CD\"], shade=True, color=\"b\", label='>=2 CD')\n",
    "#plt.xlim(0, 0.1)\n",
    "plt.legend(fontsize = 16)\n",
    "plt.xlabel('Pagerank_Alcohol', fontsize = 16)\n",
    "plt.ylabel('Density', fontsize = 16)\n",
    "plt.savefig('../results/Figure7b.png', dpi = 200)"
   ]
  },
  {
   "cell_type": "code",
   "execution_count": 163,
   "metadata": {},
   "outputs": [],
   "source": [
    "# Clear the current axes.\n",
    "plt.cla() \n",
    "# Clear the current figure.\n",
    "plt.clf() \n",
    "# Closes all the figure windows.\n",
    "plt.close('all')"
   ]
  },
  {
   "cell_type": "code",
   "execution_count": 164,
   "metadata": {},
   "outputs": [
    {
     "data": {
      "image/png": "[encoded data removed]",
      "text/plain": [
       "<Figure size 648x432 with 1 Axes>"
      ]
     },
     "metadata": {},
     "output_type": "display_data"
    }
   ],
   "source": [
    "import seaborn as sns\n",
    "import matplotlib.pyplot as plt\n",
    "plt.rcParams[\"figure.figsize\"]=9,6\n",
    "# set a grey background (use sns.set_theme() if seaborn version 0.11.0 or above) \n",
    "sns.set(style=\"white\")\n",
    "# plotting both distibutions on the same figure\n",
    "fig = sns.kdeplot(df_kde_trasitivity_noCD[\"no CD\"], legend=True, shade=True, color=\"g\",  label='no CD')\n",
    "fig = sns.kdeplot(df_kde_trasitivity_1CD[\"1 CD\"], shade=True, color=\"r\", label='1 CD')\n",
    "fig = sns.kdeplot(df_kde_trasitivity_2CD[\">=2 CD\"], shade=True, color=\"b\", label='>=2 CD')\n",
    "plt.xlim(0, 1.5)\n",
    "plt.legend(fontsize = 16)\n",
    "plt.xlabel('Transitivity', fontsize = 16)\n",
    "plt.ylabel('Density', fontsize = 16)\n",
    "plt.savefig('../results/Figure7c.png', dpi = 200)"
   ]
  },
  {
   "cell_type": "code",
   "execution_count": 165,
   "metadata": {},
   "outputs": [],
   "source": [
    "# Clear the current axes.\n",
    "plt.cla() \n",
    "# Clear the current figure.\n",
    "plt.clf() \n",
    "# Closes all the figure windows.\n",
    "plt.close('all')"
   ]
  },
  {
   "cell_type": "code",
   "execution_count": 166,
   "metadata": {},
   "outputs": [
    {
     "data": {
      "image/png": "[encoded data removed]",
      "text/plain": [
       "<Figure size 648x432 with 1 Axes>"
      ]
     },
     "metadata": {},
     "output_type": "display_data"
    }
   ],
   "source": [
    "import seaborn as sns\n",
    "import matplotlib.pyplot as plt\n",
    "plt.rcParams[\"figure.figsize\"]=9,6\n",
    "# set a grey background (use sns.set_theme() if seaborn version 0.11.0 or above) \n",
    "sns.set(style=\"white\")\n",
    "# plotting both distibutions on the same figure\n",
    "fig = sns.kdeplot(df_kde_alcohol_noCD[\"no CD\"], shade=True, color=\"g\",  label='no CD')\n",
    "fig = sns.kdeplot(df_kde_alcohol_1CD[\"1 CD\"], shade=True, color=\"r\", label='1 CD')\n",
    "fig = sns.kdeplot(df_kde_alcohol_2CD[\">=2 CD\"], shade=True, color=\"b\", label='>=2 CD')\n",
    "#plt.xlim(0, 0.1)\n",
    "plt.legend(fontsize = 16)\n",
    "plt.xlabel('Alcohol', fontsize = 16)\n",
    "plt.ylabel('Density', fontsize = 16)\n",
    "plt.savefig('../results/Figure7d.png', dpi = 200)"
   ]
  },
  {
   "cell_type": "code",
   "execution_count": null,
   "metadata": {},
   "outputs": [],
   "source": []
  }
 ],
 "metadata": {
  "kernelspec": {
   "display_name": "Python 3",
   "language": "python",
   "name": "python3"
  },
  "language_info": {
   "codemirror_mode": {
    "name": "ipython",
    "version": 3
   },
   "file_extension": ".py",
   "mimetype": "text/x-python",
   "name": "python",
   "nbconvert_exporter": "python",
   "pygments_lexer": "ipython3",
   "version": "3.8.3"
  }
 },
 "nbformat": 4,
 "nbformat_minor": 5
}
